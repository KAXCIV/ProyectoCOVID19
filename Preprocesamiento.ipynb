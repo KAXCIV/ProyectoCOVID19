{
 "cells": [
  {
   "cell_type": "code",
   "execution_count": null,
   "metadata": {
    "id": "fib_LnuYToSK"
   },
   "outputs": [],
   "source": [
    "import numpy as np\n",
    "import pandas as pd\n",
    "import matplotlib.pyplot as plt\n",
    "import missingno as msno\n",
    "import random"
   ]
  },
  {
   "cell_type": "markdown",
   "metadata": {},
   "source": [
    "Nota: A lo largo de este código, el argumento 'RUTA' debe ser reemplazado por la dirección en donde se encuentren los archivos que se utilizarán"
   ]
  },
  {
   "cell_type": "markdown",
   "metadata": {
    "id": "VAPE-fpjT10Q"
   },
   "source": [
    "# **Obtención de bases de datos**"
   ]
  },
  {
   "cell_type": "markdown",
   "metadata": {
    "id": "hyuxJOBnTwW5"
   },
   "source": [
    "La bases de datos se obtuvieron de https://www.gob.mx/salud/documentos/datos-abiertos-bases-historicas-direccion-general-de-epidemiologia\n",
    "A pesar de contar con registro histórico, los años 2024 y 2023 se encuentran separados por mes, por lo que se concatenaron para trabajar sobre un solo csv anual.\n",
    "Se usará una técnica análoga para trabajar por olas y para la general."
   ]
  },
  {
   "cell_type": "markdown",
   "metadata": {
    "id": "yxyHWGlPUAxm"
   },
   "source": [
    "# **Creación de bases anuales**"
   ]
  },
  {
   "cell_type": "code",
   "execution_count": null,
   "metadata": {
    "id": "7f4IVkMYUXHC"
   },
   "outputs": [],
   "source": [
    "# BASE ANUAL 2024\n",
    "\n",
    "# Cargar ambos archivos csv en dataframes\n",
    "db24ene = pd.read_csv('RUTA')\n",
    "db24feb = pd.read_csv('RUTA')\n",
    "\n",
    "# Concatenar los dfs eliminando el encabezado\n",
    "df_concatenado = pd.concat([db24ene, db24feb], ignore_index=True)\n",
    "\n",
    "# Guardar en un nuevo archivo\n",
    "df_concatenado.to_csv('COVID_2024.csv', index=False)"
   ]
  },
  {
   "cell_type": "code",
   "execution_count": null,
   "metadata": {
    "id": "_FKYJhG2UqW1"
   },
   "outputs": [],
   "source": [
    "# BASE ANUAL 2023\n",
    "\n",
    "db23ene = pd.read_csv('RUTA')\n",
    "db23feb = pd.read_csv('RUTA')\n",
    "db23mar = pd.read_csv('RUTA')\n",
    "db23abr = pd.read_csv('RUTA')\n",
    "db23may = pd.read_csv('RUTA')\n",
    "db23jun = pd.read_csv('RUTA')\n",
    "db23jul = pd.read_csv('RUTA')\n",
    "db23ago = pd.read_csv('RUTA')\n",
    "db23sep = pd.read_csv('RUTA')\n",
    "db23oct = pd.read_csv('RUTA')\n",
    "db23nov = pd.read_csv('RUTA')\n",
    "db23dic = pd.read_csv('RUTA')\n",
    "\n",
    "df_concatenado2 = pd.concat([db23ene, db23feb, db23mar, db23abr, db23may, db23jun, db23jul, db23ago, db23sep, db23oct, db23nov, db23dic], ignore_index=True)\n",
    "\n",
    "df_concatenado2.to_csv('COVID_2023.csv', index=False)"
   ]
  },
  {
   "cell_type": "markdown",
   "metadata": {
    "id": "KxsSChpVVX48"
   },
   "source": [
    "Las bases anuales 2020, 2021 y 2022 ya se encuentran disponibles, por lo que no es necesario crearlas."
   ]
  },
  {
   "cell_type": "code",
   "execution_count": 4,
   "metadata": {},
   "outputs": [
    {
     "name": "stdout",
     "output_type": "stream",
     "text": [
      "La fecha más antigua es: 2023-01-31 00:00:00\n"
     ]
    }
   ],
   "source": [
    "df['FECHA_SINTOMAS'] = pd.to_datetime(df['FECHA_SINTOMAS'])\n",
    "\n",
    "# Encuentra la fecha más antigua\n",
    "fecha_mas_antigua = df['FECHA_SINTOMAS'].max()\n",
    "\n",
    "# Muestra el resultado\n",
    "print(\"La fecha más antigua es:\", fecha_mas_antigua)"
   ]
  },
  {
   "cell_type": "markdown",
   "metadata": {
    "id": "pQEw8LdZdZ15"
   },
   "source": [
    "# **Análisis de valores nulos y desbalance de clases**"
   ]
  },
  {
   "cell_type": "markdown",
   "metadata": {
    "id": "qAmcl8G4dgKY"
   },
   "source": [
    "Los datos faltantes están representados con un valor numérico según lo descrito por el diccionario. Para representarlos utilizando la matriz de ausencia, es necesario cambiar dichos valores en cada variable según aplique."
   ]
  },
  {
   "cell_type": "code",
   "execution_count": null,
   "metadata": {
    "id": "9w4ysgHTeEED"
   },
   "outputs": [],
   "source": [
    "def reemplazar_a_nulos(df, columnas, valor_a_reemplazar):\n",
    "\n",
    "    # columnas: Lista de nombres de columna\n",
    "    # valor_a_reemplazar: Lista de valores que se cambiarán a NaN\n",
    "\n",
    "    for col in columnas:\n",
    "        df[col].replace(valor_a_reemplazar, np.nan, inplace=True)\n",
    "\n",
    "    return df"
   ]
  },
  {
   "cell_type": "code",
   "execution_count": null,
   "metadata": {
    "id": "EqBzcxMXeRmD"
   },
   "outputs": [],
   "source": [
    "# Listas de variables, guiado por el archivo 'Catálogo' del diccionario\n",
    "\n",
    "columnas_99 = ['SEXO', 'SECTOR', 'TIPO_PACIENTE']\n",
    "valores_99 = [99]\n",
    "\n",
    "columnas_98_99 = ['INTUBADO', 'OTRO_CASO', 'UCI', 'INDIGENA']\n",
    "valores_98_99 = [98, 99]\n",
    "\n",
    "columnas_97_98_99 = [\n",
    "    'NEUMONIA', 'DIABETES', 'EPOC', 'ASMA', 'INMUSUPR', 'HIPERTENSION', 'CARDIOVASCULAR',\n",
    "    'OBESIDAD', 'RENAL_CRONICA', 'TABAQUISMO'\n",
    "]\n",
    "valores_97_98_99 = [97, 98, 99]\n",
    "\n",
    "columnas_entidad = ['ENTIDAD_RES']\n",
    "valores_entidad = [36, 97, 98, 99]\n",
    "\n",
    "columnas_municipio = ['MUNICIPIO_RES']\n",
    "valores_municipio = [999]"
   ]
  },
  {
   "cell_type": "code",
   "execution_count": null,
   "metadata": {
    "id": "NMeLWeMKeepV"
   },
   "outputs": [],
   "source": [
    "# Ejemplo de uso\n",
    "\n",
    "nulos_2020 = reemplazar_a_nulos(db2020, columnas_99, valores_99)\n",
    "nulos_2020 = reemplazar_a_nulos(nulos_2020, columnas_98_99, valores_98_99)\n",
    "nulos_2020 = reemplazar_a_nulos(nulos_2020, columnas_97_98_99, valores_97_98_99)\n",
    "nulos_2020 = reemplazar_a_nulos(nulos_2020, columnas_entidad, valores_entidad)\n",
    "nulos_2020 = reemplazar_a_nulos(nulos_2020, columnas_municipio, valores_municipio)\n"
   ]
  },
  {
   "cell_type": "markdown",
   "metadata": {
    "id": "b0e0q3XsexJX"
   },
   "source": [
    "**Nullity matrix**"
   ]
  },
  {
   "cell_type": "code",
   "execution_count": null,
   "metadata": {
    "id": "1HW1PdqUewMn"
   },
   "outputs": [],
   "source": [
    "def comparar_datos_faltantes(df):\n",
    "\n",
    "    msno.matrix(df, figsize=(15, 8), sparkline=False, fontsize=8, labels=True)\n",
    "    plt.title('Nullity Matrix: BD anual', fontsize=14)\n",
    "    plt.show()"
   ]
  },
  {
   "cell_type": "markdown",
   "metadata": {
    "id": "Uacm_B3VfLKz"
   },
   "source": [
    "**Desbalance de clases**\n",
    "\n",
    "De forma similar, podemos representar con la misma matriz la variable principal que causa un desbalance de clases grave, la cual es **FECHA_DEF**  \n",
    "Recordando que el valor 9999-99-99 indica que el paciente no falleció, mostremos cuántos registros existen con dicho valor."
   ]
  },
  {
   "cell_type": "code",
   "execution_count": null,
   "metadata": {
    "id": "Wo4GY8UAf2vh"
   },
   "outputs": [],
   "source": [
    "def reemplazar_fecha_a_nulos(df, columnas, valor_a_reemplazar):\n",
    "\n",
    "    for col in columnas:\n",
    "        df[col] = df[col].astype(str)\n",
    "        df[col].replace(valor_a_reemplazar, np.nan, inplace=True)\n",
    "\n",
    "    return df"
   ]
  },
  {
   "cell_type": "code",
   "execution_count": null,
   "metadata": {
    "id": "YEujwo6EgAD4"
   },
   "outputs": [],
   "source": [
    "columnas_defuncion = ['FECHA_DEF']\n",
    "valores_defuncion = ['9999-99-99']"
   ]
  },
  {
   "cell_type": "code",
   "execution_count": null,
   "metadata": {
    "id": "Ba4GI3gCgKuU"
   },
   "outputs": [],
   "source": [
    "# Ejemplo de uso\n",
    "\n",
    "nulo_def_2020 = reemplazar_fecha_a_nulos(db2020, columnas_defuncion, valores_defuncion)"
   ]
  },
  {
   "cell_type": "code",
   "execution_count": null,
   "metadata": {
    "id": "EbNpp6l_gIKI"
   },
   "outputs": [],
   "source": [
    "comparar_datos_faltantes(nulo_def_2020)"
   ]
  },
  {
   "cell_type": "markdown",
   "metadata": {
    "id": "XI2dwGp8hK9f"
   },
   "source": [
    "**Dendograma**"
   ]
  },
  {
   "cell_type": "code",
   "execution_count": null,
   "metadata": {
    "id": "gfXZOe0PhOa3"
   },
   "outputs": [],
   "source": [
    "def dendrograma(df):\n",
    "\n",
    "    msno.dendrogram(df)\n",
    "    plt.title('Dendrograma de datos faltantes', fontsize=14)\n",
    "    plt.show()"
   ]
  },
  {
   "cell_type": "markdown",
   "metadata": {
    "id": "tnipmyZ4VkMP"
   },
   "source": [
    "# **Preprocesamiento**"
   ]
  },
  {
   "cell_type": "markdown",
   "metadata": {
    "id": "35du41TBVo42"
   },
   "source": [
    "**1. Eliminación de casos no positivos**\n",
    "\n",
    "Eliminar registros de pacientes no-positivos, esto corresponde a un valor de 4 o superior (hasta 7) en la variable CLASIFICACION_FINAL.\n",
    "Deseamos hacerlo para todas las bases anuales."
   ]
  },
  {
   "cell_type": "code",
   "execution_count": null,
   "metadata": {
    "id": "nzjS6wCLWeF8"
   },
   "outputs": [],
   "source": [
    "def eliminar_no_positivos(df):\n",
    "\n",
    "    # Debug previo\n",
    "    total_registros = df.shape[0]\n",
    "    print(\"Registros antes de filtrar por casos positivos: \", total_registros)\n",
    "\n",
    "    df = df[df['CLASIFICACION_FINAL'] < 4]\n",
    "\n",
    "    # Debug posterior\n",
    "    total_registros_filtrados = df_positivo.shape[0]\n",
    "    print(\"Registros luego de filtrar por casos positivos: \", total_registros_filtrados)\n",
    "\n",
    "    return df"
   ]
  },
  {
   "cell_type": "markdown",
   "metadata": {
    "id": "kO7cE5qkip06"
   },
   "source": [
    "Creación de archivo nuevo para reducir el tamaño y trabajar posteriormente"
   ]
  },
  {
   "cell_type": "code",
   "execution_count": null,
   "metadata": {
    "id": "O4eQzg3ligv6"
   },
   "outputs": [],
   "source": [
    "df.to_csv('COVID_2020_CONFIRMADOS.csv', index=False)"
   ]
  },
  {
   "cell_type": "markdown",
   "metadata": {
    "id": "JgXuvQfNbvxT"
   },
   "source": [
    "Análisis de reducción de registros\n",
    "\n",
    "*Base anual 2020*  \n",
    "Registros antes de filtrar por casos positivos:  3,868,396  \n",
    "Registros luego de filtrar por casos positivos:  1,563,135 (40.40%)\n",
    "\n",
    "*Base anual 2021*  \n",
    "Registros antes de filtrar por casos positivos:  8,830,345  \n",
    "Registros luego de filtrar por casos positivos:  2,526,649 (28.61%)\n",
    "\n",
    "*Base anual 2022*  \n",
    "Registros antes de filtrar por casos positivos:  6,451,944  \n",
    "Registros luego de filtrar por casos positivos:  3,195,409 (49.52%)\n",
    "\n",
    "*Base enero 2023*  \n",
    "Registros antes de filtrar por casos positivos:  6,669,733  \n",
    "Registros luego de filtrar por casos positivos:  3,283,180 (49.22%)\n",
    "\n",
    "*Base febrero 2023*  \n",
    "Registros antes de filtrar por casos positivos:  6,884,449  \n",
    "Registros luego de filtrar por casos positivos:  3,365,985 (48.89%)\n",
    "\n",
    "*Base marzo 2023*  \n",
    "Registros antes de filtrar por casos positivos:  7,070,534  \n",
    "Registros luego de filtrar por casos positivos:  3,441,901 (48.67%)\n",
    "\n",
    "*Base abril 2023*  \n",
    "Registros antes de filtrar por casos positivos:  7,205,138  \n",
    "Registros luego de filtrar por casos positivos:  3,489,417 (48.42%)\n",
    "\n",
    "*Base mayo 2023*  \n",
    "Registros antes de filtrar por casos positivos:  7,345,960  \n",
    "Registros luego de filtrar por casos positivos:  3,530,121 (48.05%)\n",
    "\n",
    "*Base junio 2023*  \n",
    "Registros antes de filtrar por casos positivos:  954,148  \n",
    "Registros luego de filtrar por casos positivos:  348,924 (36.56%)\n",
    "\n",
    "*Base julio 2023*  \n",
    "Registros antes de filtrar por casos positivos:  996,403  \n",
    "Registros luego de filtrar por casos positivos:  360,525 (36.18%)\n",
    "\n",
    "*Base agosto 2023*  \n",
    "Registros antes de filtrar por casos positivos:  1,070,214  \n",
    "Registros luego de filtrar por casos positivos:  391,292 (36.56%)\n",
    "\n",
    "*Base septiembre 2023*  \n",
    "Registros antes de filtrar por casos positivos:  1,155,416  \n",
    "Registros luego de filtrar por casos positivos:  423,632 (36.66%)\n",
    "\n",
    "*Base octubre 2023*  \n",
    "Registros antes de filtrar por casos positivos:  1,183,124  \n",
    "Registros luego de filtrar por casos positivos:  427,377 (36.12%)\n",
    "\n",
    "*Base noviembre 2023*  \n",
    "Registros antes de filtrar por casos positivos:  1,199,527  \n",
    "Registros luego de filtrar por casos positivos:  427,756 (35.66%)\n",
    "\n",
    "*Base diciembre de 2023*  \n",
    "Registros antes de filtrar por casos positivos:  1,216,831  \n",
    "Registros luego de filtrar por casos positivos:  428,177 (35.18%)\n",
    "\n",
    "*Base anual 2023*  \n",
    "Registros antes de filtrar por casos positivos:  42,951,477  \n",
    "Registros luego de filtrar por casos positivos:  19,918,287 (46.37%)\n",
    "\n",
    "Base anual 2024 (enero-febrero)  \n",
    "Registros antes de filtrar por casos positivos:  2,486,160  \n",
    "Registros luego de filtrar por casos positivos:  859,334 (34.56%)"
   ]
  },
  {
   "cell_type": "markdown",
   "metadata": {
    "id": "TINUg8tFXHUx"
   },
   "source": [
    "**2. Selección de variables y acciones individuales**\n",
    "\n",
    "Seleccionar las variables de interés para este trabajo, eliminación de registros y cambios de valores según aplique. La siguiente información se encuentra en *diccionario_datos_covid19*\n",
    "\n",
    "La variables seleccionadas son:\n",
    "\n",
    "1.   **SECTOR**: Identifica el tipo de institución del Sistema Nacional de Salud que brindó la atención. Tipo: int ([1-13], 99)\n",
    "Se desea eliminar registros con 99 (\"no especificado\")\n",
    "2.   **SEXO**: Identifica al sexo del paciente. Tipo: int (1-mujer, 2-hombre, 99-no especificado)\n",
    "Eliminar registros con 99\n",
    "3.   **ENTIDAD_RES**: Identifica la entidad de residencia del paciente. Tipo: int ([01-32], 36, 97, 98, 99)\n",
    "Eliminar registros con 36 (\"República Mexicana\"), 97 (\"no aplica\"), 98 (\"se ignora\") y 99 (\"no especificado\")\n",
    "4.   **MUNICIPIO_RES**: Identifica la entidad de residencia del paciente. Tipo: int (clave por municipio)\n",
    "Eliminar registros con 999 (\"no especificado\")\n",
    "5.   **TIPO_PACIENTE**: Identifica el tipo de atención que recibió el paciente en la unidad. Ambulatorio (regresó a casa) u hospitalizado. Tipo: int (1-ambulatorio, 2-hospitalizado, 99-no especificado)\n",
    "Eliminar registros con 99\n",
    "6.   **FECHA_SINTOMAS**: Identiifica la fecha en que inició la sintomatología del paciente. Tipo: string con formato AAAA-MM-DD\n",
    "Se verificó que no existieran registros nulos\n",
    "7.   **FECHA_DEF**: Identifica la fecha en que el paciente falleció. Tipo: string con formato AAAA-MM-DD\n",
    "Se identificó que 9999-99-99 funge como (\"no aplica\")\n",
    "8.   **INTUBADO**: Identifica si el paciente requirió de intubación. Tipo: int (1-si, 2-no, 97-no aplica, 98-se ignora, 99-no especificado)\n",
    "Se cambiará cada instancia de 97 por 2, eliminar registros con 98 y 99\n",
    "9.   **NEUMONIA**: Identifica si al paciente se le diagnosticó con neumonía. Tipo: int (1-si, 2-no, 97-no aplica, 98-se ignora, 99-no especificado)\n",
    "Eliminar registros con 97, 98 y 99.\n",
    "10.   **EDAD**: Identifica la edad del paciente. Tipo: int\n",
    "Se aceptan registros con valor 0\n",
    "11.   **DIABETES**: Identifica si el paciente tiene un diagnóstico de diabetes. Tipo: int (1-si, 2-no, 97-no aplica, 98-se ignora, 99-no especificado)\n",
    "Eliminar registros con 97, 98 y 99.\n",
    "12.   **EPOC**: Identifica si el paciente tiene un diagnóstico de EPOC. Tipo: int (1-si, 2-no, 97-no aplica, 98-se ignora, 99-no especificado)\n",
    "Eliminar registros con 97, 98 y 99.\n",
    "13.   **ASMA**: Identifica si el paciente tiene un diagnóstico de asma. Tipo: int (1-si, 2-no, 97-no aplica, 98-se ignora, 99-no especificado)\n",
    "Eliminar registros con 97, 98 y 99.\n",
    "14.   **INMUSUPR**: Identifica si el paciente presenta inmunosupresión. Tipo: int (1-si, 2-no, 97-no aplica, 98-se ignora, 99-no especificado)\n",
    "Eliminar registros con 97, 98 y 99.\n",
    "15.   **HIPERTENSION**: Identifica si el paciente tiene un diagnóstico de hipertensión.\n",
    "Eliminar registros con 97, 98 y 99.\n",
    "16.   **CARDIOVASCULAR**: Identifica si el paciente tiene un diagnóstico de enfermedades cardiovasculares.\n",
    "Eliminar registros con 97, 98 y 99.\n",
    "17.   **OBESIDAD**: Identifica si el paciente tiene diagnóstico de obesidad.\n",
    "Eliminar registros con 97, 98 y 99.\n",
    "18.   **RENAL_CRONICA**: Identifica si el paciente tiene diagnóstico de insuficiencia renal crónica.\n",
    "Eliminar registros con 97, 98 y 99.\n",
    "19.   **TABAQUISMO**: Identifica si el paciente tiene hábito de tabaquismo.\n",
    "Eliminar registros con 97, 98 y 99.\n",
    "20.   **OTRO_CASO**: Identifica si el paciente tuvo contacto con algún otro caso diagnósticado con SARS CoV-2\n",
    "Se cambiará cada instancia de 97 por 2, eliminar registros con 98 y 99.\n",
    "21.   **CLASIFICACION_FINAL**: Identifica si el paciente es un caso de COVID-19 según el catálogo \"CLASIFICACION_FINAL\". Tipo: int ([1-3]-positivo, [4-7]-negativo)\n",
    "Utilizada como primer filtro para casos positivos\n",
    "22.   **UCI**: Identifica si el paciente requirió ingresar a una Unidad de Cuidados Intensivos. Tipo: int (1-si, 2-no, 97-no aplica, 98-se ignora, 99-no especificado)\n",
    "Se cambiará cada instancia de 97 por 2, eliminar registros con 98 y 99.\n",
    "\n",
    "\n"
   ]
  },
  {
   "cell_type": "code",
   "execution_count": null,
   "metadata": {
    "id": "MoSQm03ehXAh"
   },
   "outputs": [],
   "source": [
    "# Selección de variables a conservar\n",
    "\n",
    "variables_elegidas = ['SECTOR', 'SEXO', 'ENTIDAD_RES', 'MUNICIPIO_RES', 'TIPO_PACIENTE',\n",
    "                       'FECHA_INGRESO', 'FECHA_SINTOMAS', 'FECHA_DEF', 'INTUBADO', 'NEUMONIA',\n",
    "                       'EDAD', 'DIABETES', 'EPOC', 'ASMA', 'INMUSUPR',\n",
    "                       'HIPERTENSION', 'CARDIOVASCULAR', 'OBESIDAD',\n",
    "                       'RENAL_CRONICA', 'TABAQUISMO', 'OTRO_CASO', 'UCI']"
   ]
  },
  {
   "cell_type": "code",
   "execution_count": null,
   "metadata": {
    "id": "DEW5eFlChnjV"
   },
   "outputs": [],
   "source": [
    "def reducir_variables(df, variables):\n",
    "\n",
    "    # variables: lista de columnas seleccionadas\n",
    "\n",
    "    df_reducido = df.loc[:, variables].copy()\n",
    "    return df_reducido"
   ]
  },
  {
   "cell_type": "markdown",
   "metadata": {
    "id": "pctlQ2WAh8MX"
   },
   "source": [
    "Eliminación de registros con valores indeseables"
   ]
  },
  {
   "cell_type": "code",
   "execution_count": null,
   "metadata": {
    "id": "QO-MaHTViB_N"
   },
   "outputs": [],
   "source": [
    "def limpieza_registros(df):\n",
    "\n",
    "    print(\"Número de registros antes del preprocesamiento:\", len(df))\n",
    "\n",
    "    remover_99 = ['SEXO', 'SECTOR', 'TIPO_PACIENTE']\n",
    "    for col in remover_99:\n",
    "        df = df[df[col] != 99]\n",
    "\n",
    "    remover_98_99 = ['INTUBADO', 'OTRO_CASO', 'UCI']\n",
    "    for col in remover_98_99:\n",
    "        df = df[~df[col].isin([98, 99])]\n",
    "\n",
    "    remover_97_98_99 = ['NEUMONIA', 'DIABETES', 'EPOC', 'ASMA', 'INMUSUPR', 'HIPERTENSION',\n",
    "                       'CARDIOVASCULAR', 'OBESIDAD', 'RENAL_CRONICA', 'TABAQUISMO']\n",
    "    for col in remover_97_98_99:\n",
    "        df = df[~df[col].isin([97, 98, 99])]\n",
    "\n",
    "    df = df[~df['ENTIDAD_RES'].isin([36, 97, 98, 99])]\n",
    "\n",
    "    df = df[df['MUNICIPIO_RES'] != 999]\n",
    "\n",
    "    reemplazar_97 = ['INTUBADO', 'OTRO_CASO', 'UCI']\n",
    "    for col in reemplazar_97:\n",
    "        df[col] = df[col].replace(97, 2)\n",
    "\n",
    "    print(\"Número de registros después del preprocesamiento:\", len(df))\n",
    "\n",
    "    return df"
   ]
  },
  {
   "cell_type": "code",
   "execution_count": null,
   "metadata": {
    "id": "oJNFjL2VjPiy"
   },
   "outputs": [],
   "source": [
    "# Ejemplo de uso\n",
    "\n",
    "db_var_red = reducir_variables(db2020_positivos, variables_elegidas)\n",
    "db_reducida = limpieza_registros(db_var_red)\n",
    "db_reducida.to_csv('COVID_2020_CONFIRMADOS_REDUCIDA')"
   ]
  },
  {
   "cell_type": "markdown",
   "metadata": {
    "id": "id52aQAz0G2c"
   },
   "source": [
    "# **3. Ingeniería de variables**\n",
    "\n",
    "**3.1. Rangos de edad**\n",
    "\n",
    "Se toma como referencia los rangos de edad proporcionados por la información general de Covid-19 en México\n",
    "https://datos.covid-19.conacyt.mx/\n",
    "\n",
    "En vez de rangos de edad cada 5 años, se consideran 10."
   ]
  },
  {
   "cell_type": "code",
   "execution_count": 11,
   "metadata": {
    "id": "rLnvmngW0XXs"
   },
   "outputs": [],
   "source": [
    "def agregar_variables_edad(df):\n",
    "\n",
    "    # Definir los rangos de edad\n",
    "\n",
    "    df['0_9'] = (df['EDAD'] >= 0) & (df['EDAD'] <= 9)\n",
    "    df['10_19'] = (df['EDAD'] >= 10) & (df['EDAD'] <= 19)\n",
    "    df['20_29'] = (df['EDAD'] >= 20) & (df['EDAD'] <= 49)\n",
    "    df['30_39'] = (df['EDAD'] >= 30) & (df['EDAD'] <= 39)\n",
    "    df['40_49'] = (df['EDAD'] >= 40) & (df['EDAD'] <= 49)\n",
    "    df['50_59'] = (df['EDAD'] >= 50) & (df['EDAD'] <= 59)\n",
    "    df['60_69'] = (df['EDAD'] >= 60) & (df['EDAD'] <= 69)\n",
    "    df['70_MAS'] = (df['EDAD'] >= 70)\n",
    "\n",
    "    # Convertir los booleanos a enteros\n",
    "\n",
    "    df['0_9'] = df['0_9'].astype(int)\n",
    "    df['10_19'] = df['10_19'].astype(int)\n",
    "    df['20_29'] = df['20_29'].astype(int)\n",
    "    df['30_39'] = df['30_39'].astype(int)\n",
    "    df['40_49'] = df['40_49'].astype(int)\n",
    "    df['50_59'] = df['50_59'].astype(int)\n",
    "    df['60_69'] = df['60_69'].astype(int)\n",
    "    df['70_MAS'] = df['70_MAS'].astype(int)\n",
    "\n",
    "    return df"
   ]
  },
  {
   "cell_type": "markdown",
   "metadata": {
    "id": "aEfAxYyr0iIe"
   },
   "source": [
    "**3.2. Asignación de valores de IDH por municipio**\n",
    "\n",
    "La información obtenida está actualizada al último valor publicado por el programa de las Naciones Unidad para el Desarrollo (PNUD) en México.\n",
    "\n",
    "Recurso: https://drive.google.com/drive/folders/1GRxyxSIPAL629vOnMLsLZgX70iqVo5ZX  \n",
    "Informe: https://mexico.un.org/sites/default/files/2023-02/INFORME_PNUD_2022_electronico-Portadas-compressed.pdf\n",
    "\n",
    "Para lo cual fue necesario crear una variable llamada **CLAVE_RES** que unifica las variables **ENTIDAD_RES** y **MUNICIPIO_RES** en ese orden, para así asignar en una nueva variable **IDH_VALOR** tal y como lo provee esta institución."
   ]
  },
  {
   "cell_type": "code",
   "execution_count": null,
   "metadata": {
    "id": "YVQWRYOY33z7"
   },
   "outputs": [],
   "source": [
    "# Leer el archivo de Excel con CLAVE_MUNICIPIO e IDH_2020\n",
    "\n",
    "idh_datos = pd.read_excel('Resultados_IDH.xlsx', names=['CLAVE_MUNICIPIO', 'IDH_2020'], skiprows=0)"
   ]
  },
  {
   "cell_type": "code",
   "execution_count": 12,
   "metadata": {
    "id": "dYaXt17n3r69"
   },
   "outputs": [],
   "source": [
    "def generar_clave_res(df):\n",
    "\n",
    "    # Convertir las columnas a string y rellenar con ceros a la izquierda si es necesario\n",
    "\n",
    "    df['ENTIDAD_RES'] = df['ENTIDAD_RES'].astype(str).str.zfill(2)  # Asegura que 'ENTIDAD_RES' tenga 2 dígitos\n",
    "    df['MUNICIPIO_RES'] = df['MUNICIPIO_RES'].astype(str).str.zfill(3)  # Asegura que 'MUNICIPIO_RES' tenga 3 dígitos\n",
    "\n",
    "    # Concatenar las dos columnas para crear 'CLAVE_RES'\n",
    "\n",
    "    df['CLAVE_RES'] = df['ENTIDAD_RES'] + df['MUNICIPIO_RES']\n",
    "\n",
    "    return df"
   ]
  },
  {
   "cell_type": "code",
   "execution_count": null,
   "metadata": {
    "id": "exYvcIF44QsQ"
   },
   "outputs": [],
   "source": [
    "def agregar_idh_valor(df, idh_datos):\n",
    "\n",
    "    # Asegurarse de que las columnas sean del tipo string de largo 5\n",
    "\n",
    "    df['CLAVE_RES'] = df['CLAVE_RES'].astype(str).str.zfill(5).str.strip()\n",
    "    idh_datos['CLAVE_MUNICIPIO'] = idh_datos['CLAVE_MUNICIPIO'].astype(str).str.zfill(5).str.strip()\n",
    "\n",
    "    # Verificar los tipos de datos antes del merge\n",
    "\n",
    "    print(\"Tipo de dato de CLAVE_RES:\", df['CLAVE_RES'].dtype)\n",
    "    print(\"Tipo de dato de CLAVE_MUNICIPIO:\", idh_datos['CLAVE_MUNICIPIO'].dtype)\n",
    "\n",
    "    # Realizar el merge utilizando CLAVE_RES y CLAVE_MUNICIPIO\n",
    "\n",
    "    df_con_idh = df.merge(idh_datos, left_on='CLAVE_RES', right_on='CLAVE_MUNICIPIO', how='left')\n",
    "\n",
    "    # Renombrar la columna IDH_2020 a IDH_VALOR\n",
    "\n",
    "    df_con_idh.rename(columns={'IDH_2020': 'IDH_VALOR'}, inplace=True)\n",
    "\n",
    "    # Eliminar la columna CLAVE_MUNICIPIO del merge\n",
    "\n",
    "    df_con_idh.drop(columns=['CLAVE_MUNICIPIO'], inplace=True)\n",
    "\n",
    "    # Número de registros antes de eliminar\n",
    "\n",
    "    registros_antes = len(df_con_idh)\n",
    "    print(f\"Número de registros antes de eliminar NaN en IDH_VALOR: {registros_antes}\")\n",
    "\n",
    "    # Revisar los registros que resultaron en NaN\n",
    "\n",
    "    claves_nan = df_con_idh[df_con_idh['IDH_VALOR'].isna()]['CLAVE_RES']\n",
    "    print(\"Claves RES sin IDH_VALOR asignado:\")\n",
    "    print(claves_nan)\n",
    "\n",
    "    if not claves_nan.empty:\n",
    "        # Verificar claves problemáticas en el archivo IDH\n",
    "        claves_en_idh = idh_datos[idh_datos['CLAVE_MUNICIPIO'].isin(claves_nan)]\n",
    "        print(\"Claves presentes en el archivo de IDH:\")\n",
    "        print(claves_en_idh)\n",
    "\n",
    "    # Eliminar registros que tienen NaN en IDH_VALOR\n",
    "\n",
    "    df_con_idh = df_con_idh.dropna(subset=['IDH_VALOR'])\n",
    "\n",
    "    # Número de registros después de eliminar\n",
    "\n",
    "    registros_despues = len(df_con_idh)\n",
    "    print(f\"Número de registros después de eliminar NaN en IDH_VALOR: {registros_despues}\")\n",
    "\n",
    "    # Verificar si hay algún NaN en la columna IDH_VALOR\n",
    "\n",
    "    if df_con_idh['IDH_VALOR'].isna().sum() == 0:\n",
    "        print(\"Todos los registros en el dataframe tienen valores en IDH_VALOR.\")\n",
    "    else:\n",
    "        print(\"Algunos registros todavía tienen NaN en IDH_VALOR.\")\n",
    "\n",
    "    return df_con_idh"
   ]
  },
  {
   "cell_type": "code",
   "execution_count": null,
   "metadata": {
    "id": "mg7YDqfq4s25"
   },
   "outputs": [],
   "source": [
    "def confirmar_no_nulos(df):\n",
    "\n",
    "    registros_antes = len(df)\n",
    "    print(f\"Registros antes de eliminar NaN: {registros_antes}\")\n",
    "\n",
    "    df = df.dropna(subset=['IDH_VALOR'])\n",
    "\n",
    "    registros_despues = len(df)\n",
    "    print(f\"Registros después de eliminar NaN: {registros_despues}\")\n",
    "\n",
    "    return df"
   ]
  },
  {
   "cell_type": "markdown",
   "metadata": {
    "id": "hUciR-uS4FGK"
   },
   "source": [
    "Posteriormente, se crearon rangos para este valor, cuyas variables son:\n",
    "\n",
    "*   **IDH_MUY_BAJO** Intervalo de [0, 0.7)\n",
    "*   **IDH_BAJO** Intervalo de [0.7, 0.75)\n",
    "*   **IDH_MEDIO** Intervalo de [0.75, 0.8)\n",
    "*   **IDH_MED_ALTO** Intervalo de [0.8, 0.825)\n",
    "*   **IDH_ALTO** Intervalo de [0.825, 0.85)\n",
    "*   **IDH_MUY_ALTO** Intervalo de [0.85, 1]"
   ]
  },
  {
   "cell_type": "markdown",
   "metadata": {
    "id": "8PLfMQ_2UG2O"
   },
   "source": []
  },
  {
   "cell_type": "code",
   "execution_count": null,
   "metadata": {
    "id": "mgYV1M3t41ZZ"
   },
   "outputs": [],
   "source": [
    "def asignar_rango_idh(df):\n",
    "\n",
    "    # Convertir la columna a tipo numérico\n",
    "\n",
    "    df['IDH_VALOR'] = pd.to_numeric(df['IDH_VALOR'], errors='coerce')\n",
    "\n",
    "    # Definir los rangos de IDH\n",
    "\n",
    "    df['IDH_MUY_BAJO'] = (df['IDH_VALOR'] >= 0) & (df['IDH_VALOR'] < 0.7)\n",
    "    df['IDH_BAJO'] = (df['IDH_VALOR'] >= 0.7) & (df['IDH_VALOR'] < 0.75)\n",
    "    df['IDH_MEDIO'] = (df['IDH_VALOR'] >= 0.75) & (df['IDH_VALOR'] < 0.8)\n",
    "    df['IDH_MED_ALTO'] = (df['IDH_VALOR'] >= 0.8) & (df['IDH_VALOR'] < 0.825)\n",
    "    df['IDH_ALTO'] = (df['IDH_VALOR'] >= 0.825) & (df['IDH_VALOR'] < 0.85)\n",
    "    df['IDH_MUY_ALTO'] = (df['IDH_VALOR'] >= 0.85) & (df['IDH_VALOR'] <= 1)\n",
    "\n",
    "    # Convertir los booleanos a enteros\n",
    "\n",
    "    df['IDH_MUY_BAJO'] = df['IDH_MUY_BAJO'].astype(int)\n",
    "    df['IDH_BAJO'] = df['IDH_BAJO'].astype(int)\n",
    "    df['IDH_MEDIO'] = df['IDH_MEDIO'].astype(int)\n",
    "    df['IDH_MED_ALTO'] = df['IDH_MED_ALTO'].astype(int)\n",
    "    df['IDH_ALTO'] = df['IDH_ALTO'].astype(int)\n",
    "    df['IDH_MUY_ALTO'] = df['IDH_MUY_ALTO'].astype(int)\n",
    "\n",
    "    return df"
   ]
  },
  {
   "cell_type": "markdown",
   "metadata": {
    "id": "hxx-goaE4-iF"
   },
   "source": [
    "**3.3. Creación de variables por sector de salud**\n",
    "\n",
    "Se agruparon las unidades médicas de atención por demanda en las variables:\n",
    "\n",
    "*   **UM_IMSS**\n",
    "*   **UM_ISSTE**\n",
    "*   **UM_MILITAR** Incluye a las UMs de SEMAR y SEDENA\n",
    "*   **UM_PRIVADA** Intervalo de [0.8, 0.825)\n",
    "*   **UM_SSA** Intervalo de [0.825, 0.85)\n",
    "*   **UM_OTRAS** Incluye a las UMs con menor incidencia: PEMEX, IMSS Bienestar (no incluída en UM_IMSS por ser el antiguo Seguro Popular), Hospital Estatal, Hospital Municipal, Cruz Roja, Hospital Universitario y DIF\n",
    "\n"
   ]
  },
  {
   "cell_type": "code",
   "execution_count": 13,
   "metadata": {
    "id": "-68AibaK54IQ"
   },
   "outputs": [],
   "source": [
    "def generar_variables_sector(df):\n",
    "\n",
    "    df['UM_IMSS'] = (df['SECTOR'] == 4).astype(int)\n",
    "    df['UM_ISSTE'] = (df['SECTOR'] == 6).astype(int)\n",
    "    df['UM_MILITAR'] = ((df['SECTOR'] == 10) | (df['SECTOR'] == 11)).astype(int)\n",
    "    df['UM_PRIVADA'] = (df['SECTOR'] == 9).astype(int)\n",
    "    df['UM_SSA'] = (df['SECTOR'] == 12).astype(int)\n",
    "    df['UM_OTRAS'] = ((df['SECTOR'] == 1) | (df['SECTOR'] == 2) |\n",
    "                      (df['SECTOR'] == 3) | (df['SECTOR'] == 5) |\n",
    "                      (df['SECTOR'] == 7) | (df['SECTOR'] == 8) |\n",
    "                      (df['SECTOR'] == 13)).astype(int)\n",
    "\n",
    "    return df"
   ]
  },
  {
   "cell_type": "markdown",
   "metadata": {
    "id": "FoePhXJy58Y8"
   },
   "source": [
    "**3.4. Creación de la variable objetivo**\n",
    "\n",
    "La variable que buscaremos predecir será llamada **DEFUNCION**, la cual toma un valor de 1 cuando FECHA_DEF tiene cualquier otro valor que no sea '9999-99-99', ya que esto corresponde a la fecha del deceso de un paciente"
   ]
  },
  {
   "cell_type": "code",
   "execution_count": 14,
   "metadata": {
    "id": "OEhlPS3x6fEn"
   },
   "outputs": [],
   "source": [
    "def generar_variable_defuncion(df):\n",
    "\n",
    "    df['DEFUNCION'] = (df['FECHA_DEF'] != '9999-99-99').astype(int)\n",
    "\n",
    "    return df"
   ]
  },
  {
   "cell_type": "markdown",
   "metadata": {
    "id": "0KiCTE6K6ylo"
   },
   "source": [
    "**3.5. Eliminación de variables en desuso**"
   ]
  },
  {
   "cell_type": "code",
   "execution_count": 15,
   "metadata": {
    "id": "ZubsFy7G64OZ"
   },
   "outputs": [],
   "source": [
    "def drop_final(df):\n",
    "\n",
    "    columnas_a_eliminar = ['ENTIDAD_RES', 'MUNICIPIO_RES', 'EDAD', 'SECTOR', 'FECHA_DEF']\n",
    "\n",
    "    # Eliminar las columnas\n",
    "    df = df.drop(columns=columnas_a_eliminar, errors='ignore')\n",
    "\n",
    "    return df"
   ]
  },
  {
   "cell_type": "markdown",
   "metadata": {
    "id": "OfM5ZwVk7ON-"
   },
   "source": [
    "3.6. Binarización de variables\n",
    "\n",
    "Con el fin de preparar las bases para la entrada a los modelos, las variables se binarizaron de la siguiente forma:\n",
    "\n",
    "*  **SEXO**: 1 (mujer) 0 (no mujer)\n",
    "*  **TIPO_PACIENTE**: 1 (no hospitalizado) 0 (hospitalizado)\n",
    "*  **INTUBADO**: 1 (si) 0 (no)\n",
    "*  **NEUMONIA**: 1 (si) 0 (no)\n",
    "*  **DIABETES**: 1 (si) 0 (no)\n",
    "*  **EPOC**: 1 (si) 0 (no)\n",
    "*  **ASMA**: 1 (si) 0 (no)\n",
    "*  **INMUSUPR**: 1 (si) 0 (no)\n",
    "*  **HIPERTENSION**: 1 (si) 0 (no)\n",
    "*  **CARDIOVASCULAR**: 1 (si) 0 (no)\n",
    "*  **OBESIDAD**: 1 (si) 0 (no)\n",
    "*  **RENAL_CRONICA**: 1 (si) 0 (no)\n",
    "*  **TABAQUISMO**: 1 (si) 0 (no)\n",
    "*  **OTRO_CASO**: 1 (si) 0 (no)\n",
    "*  **UCI**: 1 (si) 0 (no)"
   ]
  },
  {
   "cell_type": "code",
   "execution_count": 16,
   "metadata": {
    "id": "j1hLmHTn74lh"
   },
   "outputs": [],
   "source": [
    "def binarizar_variables(df):\n",
    "\n",
    "    var_a_binarizar = [\n",
    "        'SEXO', 'TIPO_PACIENTE', 'INTUBADO', 'NEUMONIA', 'DIABETES',\n",
    "        'EPOC', 'ASMA', 'INMUSUPR', 'HIPERTENSION', 'CARDIOVASCULAR',\n",
    "        'OBESIDAD', 'RENAL_CRONICA', 'TABAQUISMO', 'OTRO_CASO', 'UCI'\n",
    "    ]\n",
    "\n",
    "    df[var_a_binarizar] = df[var_a_binarizar].replace(2, 0).astype(int)\n",
    "\n",
    "    return df"
   ]
  },
  {
   "cell_type": "markdown",
   "metadata": {
    "id": "zqisel017_PV"
   },
   "source": [
    "Ejemplo de uso"
   ]
  },
  {
   "cell_type": "code",
   "execution_count": null,
   "metadata": {
    "id": "Y7eH7CyV8ELX"
   },
   "outputs": [],
   "source": [
    "# 1. Rangos de edad\n",
    "df_ingenieria_var = agregar_variables_edad (db2023_positivos_reducida)\n",
    "\n",
    "# 2. Generar claves de residencia\n",
    "df_con_claves = generar_clave_res (df_ingenieria_var)\n",
    "\n",
    "# 3. IDH por entidad\n",
    "idh_datos = pd.read_excel ('Resultados_IDH.xlsx', names=['CLAVE_MUNICIPIO', 'IDH_2020'], skiprows=0)\n",
    "df_idh_val = agregar_idh_valor (df_con_claves, idh_datos)\n",
    "\n",
    "# 4. Rangos de IDH\n",
    "df_idh_rango = asignar_rango_idh (df_idh_val)\n",
    "\n",
    "# 5. Variables de sector de atención\n",
    "df_sector = generar_variables_sector (df_idh_rango)\n",
    "\n",
    "# 6. Variable objetivo\n",
    "df_defuncion = generar_variable_defuncion (df_sector)\n",
    "\n",
    "# 7. Drop de siguientes variables en desuso\n",
    "df_drop = drop_final (df_defuncion)\n",
    "\n",
    "# 8. Binarización\n",
    "df_binarizada = binarizar_variables (df_drop)\n",
    "\n",
    "# 9. No-nulidad en IDH\n",
    "df_idh_no_nulo = confirmar_no_nulos (df_binarizada)\n",
    "\n",
    "# df_idh_no_nulo es el df resultante de la ingeniería de características"
   ]
  },
  {
   "cell_type": "markdown",
   "metadata": {
    "id": "IlmqSPYS8oFL"
   },
   "source": [
    "# **Delimitación por olas y etapas de vacunación**\n",
    "\n",
    "\n",
    "La inclusión de pacientes en estos periodos temporales se hizo en referencia a la variable **FECHA_SINTOMAS**.\n",
    "\n",
    "Se utilizó información oficial proporcionada por la Secretaría de Salud para la delimitación por olas según la fecha\n",
    "https://epidemiologia.salud.gob.mx/gobmx/salud/documentos/covid19/Info-04-23-Int_COVID-19.pdf  \n",
    "Archivo más reciente subido en febrero de 2024 a la página:\n",
    "https://coronavirus.gob.mx/analisis-situacional-de-la-epidemia-en-mexico/\n",
    "\n",
    "*  1ª ola: SE 8 a SE 39 de 2020 (16 de febrero a 26 de septiembre de 2020)\n",
    "*  2ª ola: SE 40 de 2020 a SE 15 de 2021 (27 de septiembre de 2020 a 17 de abril de 2021)\n",
    "*  3ª ola: SE 23 a SE 42 de 2021 (6 de junio a 23 de octubre de 2021)\n",
    "*  4ª ola: SE 51 de 2021 a la SE 9 de 2022 (19 de diciembre de 2021 a 5 de marzo de 2022)\n",
    "*  5ª ola COVID-19: SE 22 de 2022 a la SE 33 de 2022 (29 de mayo a 20 de agosto de 2022)\n",
    "*  6ª ola COVID-19: SE 49 de 2022 a la SE 4 de 2023 (4 de diciembre de 2022 a 28 de enero de 2023)\n",
    "\n",
    "(SE: Semana Epidemiológica)\n",
    "\n",
    "No se encuentra información oficial sobre la existencia de olas posteriores."
   ]
  },
  {
   "cell_type": "markdown",
   "metadata": {
    "id": "UmjAOlXD9qqh"
   },
   "source": [
    "**Por olas**"
   ]
  },
  {
   "cell_type": "code",
   "execution_count": 57,
   "metadata": {},
   "outputs": [],
   "source": [
    "db2020 = pd.read_csv('Bases_Test_Agua/BASE_2020_COASTAL.csv')"
   ]
  },
  {
   "cell_type": "code",
   "execution_count": 58,
   "metadata": {},
   "outputs": [],
   "source": [
    "db2021 = pd.read_csv('Bases_Test_Agua/BASE_2021_COASTAL.csv')\n",
    "db2022 = pd.read_csv('Bases_Test_Agua/BASE_2022_COASTAL.csv')\n",
    "db2023 = pd.read_csv('Bases_Test_Agua/BASE_2023_COASTAL.csv')"
   ]
  },
  {
   "cell_type": "code",
   "execution_count": 59,
   "metadata": {
    "id": "qr_M2fHt9fJY"
   },
   "outputs": [],
   "source": [
    "# Fechas de inicio/fin de cada ola\n",
    "\n",
    "ola_1_inicio = '2020-02-16'\n",
    "ola_1_fin = '2020-09-26'\n",
    "\n",
    "ola_2_inicio = '2020-09-27'\n",
    "ola_2_fin = '2021-04-17'\n",
    "\n",
    "ola_3_inicio = '2021-06-06'\n",
    "ola_3_fin = '2021-10-23'\n",
    "\n",
    "ola_4_inicio = '2021-12-19'\n",
    "ola_4_fin = '2022-03-05'\n",
    "\n",
    "ola_5_inicio = '2022-05-29'\n",
    "ola_5_fin = '2022-08-20'\n",
    "\n",
    "ola_6_inicio = '2022-12-04'\n",
    "ola_6_fin = '2023-01-28'\n",
    "\n",
    "# División por olas (algunas requieren unir dos bd anuales distintas)\n",
    "\n",
    "ola_1 = db2020[(db2020['FECHA_SINTOMAS'] >= ola_1_inicio) & (db2020['FECHA_SINTOMAS'] <= ola_1_fin)]\n",
    "\n",
    "ola_2_db_1 = db2020[(db2020['FECHA_SINTOMAS'] >= ola_2_inicio)]\n",
    "ola_2_db_2 = db2021[(db2021['FECHA_SINTOMAS'] <= ola_2_fin)]\n",
    "ola_2 = pd.concat([ola_2_db_1, ola_2_db_2])\n",
    "\n",
    "ola_3 = db2021[(db2021['FECHA_SINTOMAS'] >= ola_3_inicio) & (db2021['FECHA_SINTOMAS'] <= ola_3_fin)]\n",
    "\n",
    "ola_4_db_1 = db2021[(db2021['FECHA_SINTOMAS'] >= ola_4_inicio)]\n",
    "ola_4_db_2 = db2022[(db2022['FECHA_SINTOMAS'] <= ola_4_fin)]\n",
    "ola_4 = pd.concat([ola_4_db_1, ola_4_db_2])\n",
    "\n",
    "ola_5 = db2022[(db2022['FECHA_SINTOMAS'] >= ola_5_inicio) & (db2022['FECHA_SINTOMAS'] <= ola_5_fin)]\n",
    "\n",
    "ola_6_db_1 = db2022[(db2022['FECHA_SINTOMAS'] >= ola_6_inicio)]\n",
    "ola_6_db_2 = db2023[(db2023['FECHA_SINTOMAS'] <= ola_6_fin)]\n",
    "ola_6 = pd.concat([ola_4_db_1, ola_4_db_2])"
   ]
  },
  {
   "cell_type": "code",
   "execution_count": 60,
   "metadata": {},
   "outputs": [],
   "source": [
    "ola_1.to_csv('OLA_1_COASTAL.csv', index=False)\n",
    "ola_2.to_csv('OLA_2_COASTAL.csv', index=False)\n",
    "ola_3.to_csv('OLA_3_COASTAL.csv', index=False)\n",
    "ola_4.to_csv('OLA_4_COASTAL.csv', index=False)\n",
    "ola_5.to_csv('OLA_5_COASTAL.csv', index=False)\n",
    "ola_6.to_csv('OLA_6_COASTAL.csv', index=False)"
   ]
  },
  {
   "cell_type": "markdown",
   "metadata": {
    "id": "3TxX4Rov9nEz"
   },
   "source": [
    "**Por etapas de vacunación**"
   ]
  },
  {
   "cell_type": "code",
   "execution_count": null,
   "metadata": {
    "id": "auszBis59uLy"
   },
   "outputs": [],
   "source": [
    "# Fechas de inicio/fin de cada etapa\n",
    "\n",
    "etapa_1_inicio = '2020-12-24'\n",
    "etapa_1_fin = '2021-02-14'\n",
    "\n",
    "etapa_2_inicio = '2021-02-15'\n",
    "etapa_2_fin = '2021-05-15'\n",
    "\n",
    "etapa_3_inicio = '2021-05-16'\n",
    "etapa_3_fin = '2021-06-15'\n",
    "\n",
    "etapa_4_inicio = '2021-06-16'\n",
    "etapa_4_fin = '2021-07-15'\n",
    "\n",
    "etapa_5_inicio = '2021-07-16'\n",
    "etapa_5_fin = '2022-03-31'\n",
    "\n",
    "# División por etapas (algunas requieren unir dos bd anuales distintas)\n",
    "\n",
    "etapa_1_db_1 = db2020[(db2020['FECHA_SINTOMAS'] >= etapa_1_inicio)]\n",
    "etapa_1_db_2 = db2021[(db2021['FECHA_SINTOMAS'] <= etapa_1_fin)]\n",
    "etapa_1 = pd.concat([etapa_1_db_1, etapa_1_db_2])\n",
    "\n",
    "etapa_2 = db2021[(db2021['FECHA_SINTOMAS'] >= etapa_2_inicio) & (db2021['FECHA_SINTOMAS'] <= etapa_2_fin)]\n",
    "\n",
    "etapa_3 = db2021[(db2021['FECHA_SINTOMAS'] >= etapa_3_inicio) & (db2021['FECHA_SINTOMAS'] <= etapa_3_fin)]\n",
    "\n",
    "etapa_4 = db2021[(db2021['FECHA_SINTOMAS'] >= etapa_4_inicio) & (db2021['FECHA_SINTOMAS'] <= etapa_4_fin)]\n",
    "\n",
    "etapa_5_db_1 = db2021[(db2021['FECHA_SINTOMAS'] >= etapa_5_inicio)]\n",
    "etapa_5_db_2 = db2022[(db2022['FECHA_SINTOMAS'] <= etapa_5_fin)]\n",
    "etapa_5 = pd.concat([etapa_5_db_1, etapa_5_db_2])"
   ]
  },
  {
   "cell_type": "markdown",
   "metadata": {
    "id": "QFkyE3HMdccD"
   },
   "source": [
    "# **Segunda etapa de ingeniería de variables**\n",
    "\n",
    "Se propuso incluir los subíndices de Salud (SS) e ingreso (SI) que componen el valor de IDH, además de realizar un ajuste en la consideración del IDH para municipios de Oaxaca; este ajuste es debido a que en 2020, según informa la PNUD, no fue posible obtener dichos valores a nivel municipal. Sin embargo, se presenta en su Informe (página 99) un análisis estadístico para el IDH, Índice de Educación, Índice de Salud e Índice de Ingreso, en donde se observan promedios estatales de cada uno de ellos.\n",
    "\n",
    "Para Oaxaca:\n",
    "\n",
    "\n",
    "*   IDH: 0.678\n",
    "*   SS: 0.783\n",
    "*   SI: 0.683\n",
    "*   SE: 0.586\n",
    "\n",
    "Dada esta información, y notando que efectivamente municipios de Oaxaca no cuentan con información sobre IDH (representado como \"ND\" o estando ausente en el documento de Resultados), se inputará el valor promedio del estado.\n",
    "\n"
   ]
  },
  {
   "cell_type": "code",
   "execution_count": null,
   "metadata": {
    "id": "kT6KrDugdbdV"
   },
   "outputs": [],
   "source": [
    "# Leer el archivo de Excel con CLAVE_MUNICIPIO, IDH_2020, SS_2020, SI_2020 y SE_2020\n",
    "\n",
    "indices_datos = pd.read_excel('Resultados_IDH_SS_SI.xlsx', names=['CLAVE_MUNICIPIO', 'IDH_2020', 'SS_2020', 'SI_2020', 'SE_2020'], skiprows=0)"
   ]
  },
  {
   "cell_type": "code",
   "execution_count": 32,
   "metadata": {
    "id": "ReIglLrEg5PR"
   },
   "outputs": [],
   "source": [
    "def agregar_valores_indices(df, indices_datos):\n",
    "\n",
    "    # Asegurar que las columnas sean tipo string de largo 5\n",
    "\n",
    "    df['CLAVE_RES'] = df['CLAVE_RES'].astype(str).str.zfill(5).str.strip()\n",
    "    indices_datos['CLAVE_MUNICIPIO'] = indices_datos['CLAVE_MUNICIPIO'].astype(str).str.zfill(5).str.strip()\n",
    "\n",
    "    # Verificar los tipos de datos antes del merge\n",
    "\n",
    "    print(\"Tipo de dato de CLAVE_RES:\", df['CLAVE_RES'].dtype)\n",
    "    print(\"Tipo de dato de CLAVE_MUNICIPIO:\", indices_datos['CLAVE_MUNICIPIO'].dtype)\n",
    "    print(\"Tipo de dato de IDH_2020:\", indices_datos['IDH_2020'].dtype)\n",
    "    print(\"Tipo de dato de SS_2020:\", indices_datos['SS_2020'].dtype)\n",
    "    print(\"Tipo de dato de SI_2020:\", indices_datos['SI_2020'].dtype)\n",
    "\n",
    "    # Realizar el merge utilizando CLAVE_RES y CLAVE_MUNICIPIO\n",
    "\n",
    "    df_con_indices = df.merge(indices_datos, left_on='CLAVE_RES', right_on='CLAVE_MUNICIPIO', how='left')\n",
    "\n",
    "    # Renombrar las columnas\n",
    "\n",
    "    df_con_indices.rename(columns={'IDH_2020': 'IDH_VALOR', 'SS_2020': 'SS_VALOR',\n",
    "                                   'SI_2020': 'SI_VALOR', 'SE_2020': 'SE_VALOR'}, inplace=True)\n",
    "\n",
    "    # Eliminar la columna CLAVE_MUNICIPIO del merge\n",
    "\n",
    "    df_con_indices.drop(columns=['CLAVE_MUNICIPIO'], inplace=True)\n",
    "\n",
    "    # Analizar NaN en la columna IDH_VALOR\n",
    "\n",
    "    nan_idh = df_con_indices[df_con_indices['IDH_VALOR'].isna()]\n",
    "    claves_nan_idh = nan_idh['CLAVE_RES']\n",
    "    print(f\"Registros con NaN en IDH_VALOR: {len(claves_nan_idh)}\")\n",
    "    if not claves_nan_idh.empty:\n",
    "        print(\"Claves RES con NaN en IDH_VALOR:\")\n",
    "        print(claves_nan_idh)\n",
    "        comienzan_con_20_idh = claves_nan_idh.str.startswith('20')\n",
    "        # Imputar 0.678 en IDH_VALOR para claves que comienzan con '20'\n",
    "        df_con_indices.loc[df_con_indices['CLAVE_RES'].isin(claves_nan_idh[comienzan_con_20_idh]), 'IDH_VALOR'] = 0.678\n",
    "        # Eliminar registros donde la clave no comienza con '20'\n",
    "        df_con_indices = df_con_indices[~df_con_indices['CLAVE_RES'].isin(claves_nan_idh[~comienzan_con_20_idh])]\n",
    "\n",
    "    # Analizar NaN en la columna SS_VALOR\n",
    "\n",
    "    nan_ss = df_con_indices[df_con_indices['SS_VALOR'].isna()]\n",
    "    claves_nan_ss = nan_ss['CLAVE_RES']\n",
    "    print(f\"\\nRegistros con NaN en SS_VALOR: {len(claves_nan_ss)}\")\n",
    "    if not claves_nan_ss.empty:\n",
    "        print(\"Claves RES con NaN en SS_VALOR:\")\n",
    "        print(claves_nan_ss)\n",
    "        comienzan_con_20_ss = claves_nan_ss.str.startswith('20')\n",
    "        # Imputar 0.783 en SS_VALOR para claves que comienzan con '20'\n",
    "        df_con_indices.loc[df_con_indices['CLAVE_RES'].isin(claves_nan_ss[comienzan_con_20_ss]), 'SS_VALOR'] = 0.783\n",
    "        # Eliminar registros donde la clave no comienza con '20'\n",
    "        df_con_indices = df_con_indices[~df_con_indices['CLAVE_RES'].isin(claves_nan_ss[~comienzan_con_20_ss])]\n",
    "\n",
    "    # Analizar NaN en la columna SI_VALOR\n",
    "\n",
    "    nan_si = df_con_indices[df_con_indices['SI_VALOR'].isna()]\n",
    "    claves_nan_si = nan_si['CLAVE_RES']\n",
    "    print(f\"\\nRegistros con NaN en SI_VALOR: {len(claves_nan_si)}\")\n",
    "    if not claves_nan_si.empty:\n",
    "        print(\"Claves RES con NaN en SI_VALOR:\")\n",
    "        print(claves_nan_si)\n",
    "        comienzan_con_20_si = claves_nan_si.str.startswith('20')\n",
    "        # Imputar 0.683 en SI_VALOR para claves que comienzan con '20'\n",
    "        df_con_indices.loc[df_con_indices['CLAVE_RES'].isin(claves_nan_si[comienzan_con_20_si]), 'SI_VALOR'] = 0.683\n",
    "        # Eliminar registros donde la clave no comienza con '20'\n",
    "        df_con_indices = df_con_indices[~df_con_indices['CLAVE_RES'].isin(claves_nan_si[~comienzan_con_20_si])]\n",
    "\n",
    "\n",
    "    # Analizar NaN en la columna SE_VALOR\n",
    "\n",
    "    nan_se = df_con_indices[df_con_indices['SE_VALOR'].isna()]\n",
    "    claves_nan_se = nan_se['CLAVE_RES']\n",
    "    print(f\"Registros con NaN en SE_VALOR: {len(claves_nan_se)}\")\n",
    "    if not claves_nan_se.empty:\n",
    "        print(\"Claves RES con NaN en SE_VALOR:\")\n",
    "        print(claves_nan_se)\n",
    "        comienzan_con_20_se = claves_nan_se.str.startswith('20')\n",
    "        # Imputar 0.586 en SE_VALOR para claves que comienzan con '20'\n",
    "        df_con_indices.loc[df_con_indices['CLAVE_RES'].isin(claves_nan_se[comienzan_con_20_se]), 'SE_VALOR'] = 0.586\n",
    "        # Eliminar registros donde la clave no comienza con '20'\n",
    "        df_con_indices = df_con_indices[~df_con_indices['CLAVE_RES'].isin(claves_nan_se[~comienzan_con_20_se])]\n",
    "\n",
    "\n",
    "    return df_con_indices"
   ]
  },
  {
   "cell_type": "markdown",
   "metadata": {
    "id": "i6w37neTdQ2-"
   },
   "source": [
    "**Rangos de clasificación de índices socioeconómicos**\n",
    "\n",
    "Asignación en referencia al informe de la PNUD, presente en la página 56 que indica:\n",
    "\n",
    "*   Nivel bajo: menos de 0.55\n",
    "*   Nivel medio: entre 0.55 y 0.7\n",
    "*   Nivel alto: entre 0.7 y 0.8\n",
    "*   Nivel muy alto: mayor a 0.8\n",
    "\n",
    "Toma relevancia debido al análisis de este Progama sobre la movilidad en cada subíndice que hubo en México de 2015 (penúltimo informe) a 2020 (último informe)\n",
    "\n",
    "Por esto, IDH, SS y SI tendrán los mismos rangos para cada caso."
   ]
  },
  {
   "cell_type": "markdown",
   "metadata": {
    "id": "XnOkp8E6jDZQ"
   },
   "source": [
    "**Rangos según Informe PNUD 2022 (página 56)**"
   ]
  },
  {
   "cell_type": "code",
   "execution_count": 18,
   "metadata": {
    "id": "5jSFF0TqjNVV"
   },
   "outputs": [],
   "source": [
    "def asignar_rangos_pnud(df, indice_seleccionado):\n",
    "\n",
    "    # Convertir la columna a tipo numérico\n",
    "\n",
    "    df[indice_seleccionado] = pd.to_numeric(df[indice_seleccionado], errors='coerce')\n",
    "\n",
    "    # Extraer el prefijo adecuado (IDH, SS, SI)\n",
    "\n",
    "    if 'IDH' in indice_seleccionado:\n",
    "        prefijo = 'IDH'\n",
    "    elif 'SS' in indice_seleccionado:\n",
    "        prefijo = 'SS'\n",
    "    elif 'SI' in indice_seleccionado:\n",
    "        prefijo = 'SI'\n",
    "    elif 'SE' in indice_seleccionado:\n",
    "        prefijo = 'SE'\n",
    "    else:\n",
    "        raise ValueError(\"El índice seleccionado no coincide con IDH, SS, o SI\")\n",
    "\n",
    "    # Definir los rangos del informe de la PNUD\n",
    "\n",
    "    df[f'{prefijo}_BAJO'] = (df[indice_seleccionado] < 0.55)\n",
    "    df[f'{prefijo}_MEDIO'] = (df[indice_seleccionado] >= 0.55) & (df[indice_seleccionado] < 0.7)\n",
    "    df[f'{prefijo}_ALTO'] = (df[indice_seleccionado] >= 0.7) & (df[indice_seleccionado] < 0.8)\n",
    "    df[f'{prefijo}_MUY_ALTO'] = (df[indice_seleccionado] >= 0.8)\n",
    "\n",
    "    # Convertir los booleanos a enteros\n",
    "    \n",
    "    df[f'{prefijo}_BAJO'] = df[f'{prefijo}_BAJO'].astype(int)\n",
    "    df[f'{prefijo}_MEDIO'] = df[f'{prefijo}_MEDIO'].astype(int)\n",
    "    df[f'{prefijo}_ALTO'] = df[f'{prefijo}_ALTO'].astype(int)\n",
    "    df[f'{prefijo}_MUY_ALTO'] = df[f'{prefijo}_MUY_ALTO'].astype(int)\n",
    "\n",
    "    return df"
   ]
  },
  {
   "cell_type": "markdown",
   "metadata": {},
   "source": [
    "Ejemplo de uso"
   ]
  },
  {
   "cell_type": "code",
   "execution_count": null,
   "metadata": {},
   "outputs": [],
   "source": [
    "df = asignar_rangos_pnud(df, 'IDH_VALOR')\n",
    "df = asignar_rangos_pnud(df, 'SS_VALOR')\n",
    "df = asignar_rangos_pnud(df, 'SI_VALOR')"
   ]
  },
  {
   "cell_type": "markdown",
   "metadata": {
    "id": "fpocKNuElKFT"
   },
   "source": [
    "Función de confirmación de NaN para cambios recientes"
   ]
  },
  {
   "cell_type": "code",
   "execution_count": 19,
   "metadata": {
    "id": "rOTm8QK7nZ7f"
   },
   "outputs": [],
   "source": [
    "def confirmar_no_nulos_extendida(df):\n",
    "\n",
    "    registros_antes = len(df)\n",
    "    print(f\"Registros antes de eliminar NaN: {registros_antes}\")\n",
    "\n",
    "    df = df.dropna(subset=['IDH_VALOR', 'SS_VALOR', 'SI_VALOR'])\n",
    "\n",
    "    registros_despues = len(df)\n",
    "    print(f\"Registros después de eliminar NaN: {registros_despues}\")\n",
    "\n",
    "    return df"
   ]
  },
  {
   "cell_type": "markdown",
   "metadata": {
    "id": "u8g7uTRroNMa"
   },
   "source": [
    "Ejemplo de uso\n",
    "\n",
    "Nota: Debe realizarse en las bases anuales reducidas y posteriormente volver a generar las divisiones por olas y etapas"
   ]
  },
  {
   "cell_type": "code",
   "execution_count": null,
   "metadata": {},
   "outputs": [],
   "source": [
    "db2021_positivos_reducida = pd.read_csv('RUTA')\n",
    "print(db2021_positivos_reducida.columns)\n",
    "\n",
    "db2022_positivos_reducida = pd.read_csv('RUTA')\n",
    "print(db2022_positivos_reducida.columns)\n",
    "\n",
    "db2023_positivos_reducida = pd.read_csv('RUTA')\n",
    "print(db2023_positivos_reducida.columns)"
   ]
  },
  {
   "cell_type": "markdown",
   "metadata": {},
   "source": [
    "# Aplicar todas las funciones a un dataset: ejemplo"
   ]
  },
  {
   "cell_type": "code",
   "execution_count": 27,
   "metadata": {
    "id": "xsa8jTJVo3d4"
   },
   "outputs": [
    {
     "name": "stdout",
     "output_type": "stream",
     "text": [
      "Tipo de dato de CLAVE_RES: object\n",
      "Tipo de dato de CLAVE_MUNICIPIO: object\n",
      "Tipo de dato de IDH_2020: object\n",
      "Tipo de dato de SS_2020: object\n",
      "Tipo de dato de SI_2020: object\n",
      "Registros con NaN en IDH_VALOR: 70022\n",
      "Claves RES con NaN en IDH_VALOR:\n",
      "7          20515\n",
      "28         20375\n",
      "32         20413\n",
      "68         20184\n",
      "195        20134\n",
      "           ...  \n",
      "3225129    20042\n",
      "3225310    20570\n",
      "3225417    20385\n",
      "3225423    20570\n",
      "3225528    20505\n",
      "Name: CLAVE_RES, Length: 70022, dtype: object\n",
      "\n",
      "Registros con NaN en SS_VALOR: 69715\n",
      "Claves RES con NaN en SS_VALOR:\n",
      "7          20515\n",
      "28         20375\n",
      "32         20413\n",
      "68         20184\n",
      "195        20134\n",
      "           ...  \n",
      "3225129    20042\n",
      "3225310    20570\n",
      "3225417    20385\n",
      "3225423    20570\n",
      "3225528    20505\n",
      "Name: CLAVE_RES, Length: 69715, dtype: object\n",
      "\n",
      "Registros con NaN en SI_VALOR: 69715\n",
      "Claves RES con NaN en SI_VALOR:\n",
      "7          20515\n",
      "28         20375\n",
      "32         20413\n",
      "68         20184\n",
      "195        20134\n",
      "           ...  \n",
      "3225129    20042\n",
      "3225310    20570\n",
      "3225417    20385\n",
      "3225423    20570\n",
      "3225528    20505\n",
      "Name: CLAVE_RES, Length: 69715, dtype: object\n",
      "Registros antes de eliminar NaN: 3225364\n",
      "Registros después de eliminar NaN: 3224501\n"
     ]
    }
   ],
   "source": [
    "# 1. Rangos de edad\n",
    "df_ingenieria_var = agregar_variables_edad (db2023_positivos_reducida)\n",
    "\n",
    "# 2. Generar claves de residencia\n",
    "df_con_claves = generar_clave_res (df_ingenieria_var)\n",
    "\n",
    "# 3. Índices por entidad\n",
    "indices_datos = pd.read_excel ('Resultados_IDH_SS_SI.xlsx', names=['CLAVE_MUNICIPIO', 'IDH_2020', 'SS_2020', 'SI_2020'], skiprows=0)\n",
    "df_indices_val = agregar_valores_indices (df_con_claves, indices_datos)\n",
    "\n",
    "# 4. Rangos de IDH, SS y SI\n",
    "df_indices_rango = asignar_rangos_pnud (df_indices_val, 'IDH_VALOR')\n",
    "df_indices_rango = asignar_rangos_pnud (df_indices_rango, 'SS_VALOR')\n",
    "df_indices_rango = asignar_rangos_pnud (df_indices_rango, 'SI_VALOR')\n",
    "\n",
    "# 5. Variables de sector de atención\n",
    "df_sector = generar_variables_sector (df_indices_rango)\n",
    "\n",
    "# 6. Variable objetivo\n",
    "df_defuncion = generar_variable_defuncion (df_sector)\n",
    "\n",
    "# 7. Drop de siguientes variables en desuso\n",
    "df_drop = drop_final (df_defuncion)\n",
    "\n",
    "# 8. Binarización\n",
    "df_binarizada = binarizar_variables (df_drop)\n",
    "\n",
    "# 9. No-nulidad en índices\n",
    "df_indices_no_nulos = confirmar_no_nulos_extendida (df_binarizada)\n",
    "\n",
    "# df_indices_no_nulos es el df resultante de la 2da parte de ingeniería de características"
   ]
  },
  {
   "cell_type": "markdown",
   "metadata": {
    "id": "mlaVob1am9Lt"
   },
   "source": [
    "# **Calidad del agua**\n",
    "\n",
    "En este apartado se incluye la calificación de la calidad de agua considerando 3 categorías: subterránea, léntica y lótica (corrientes)\n",
    "\n",
    "La calificación está dada en un semáforo simple: buena, regular y mala\n",
    "\n",
    "Para este fin se trabajó con los archivos 'Resultados IDH 2010-2020' y los presentes en la carpeta waterQuality"
   ]
  },
  {
   "cell_type": "markdown",
   "metadata": {
    "id": "saw2ntJXoKmW"
   },
   "source": [
    "**Aguas subterráneas**\n",
    "\n",
    "Archivo de referencia: groundwater_water_quality de 1,6 MB\n",
    "\n",
    "Se eliminaron 6 registros que no contenían información sobre localidad\n",
    "\n",
    "Muchos datos faltantes:\n",
    "*  Chiapas (84%)\n",
    "*  Chihuahua (62%)\n",
    "*  Ciudad de México (93%)\n",
    "*  Guerrero (97%)\n",
    "*  Hidalgo (61%)\n",
    "*  Jalisco (84%)\n",
    "*  Michoacán (75%)\n",
    "*  Morelos (66%)\n",
    "*  Estado de México (100%)\n",
    "*  Nuevo León (74%)\n",
    "*  Puebla (94%)\n",
    "*  Querétaro (100%)\n",
    "*  San Luis Potosí (67%)\n",
    "*  Tamaulipas (60%)\n",
    "*  Tlaxcala (76%)\n",
    "*  Veracruz (94%)\n",
    "*  Yucatán (63%)\n",
    "\n",
    "Caso particular: Oaxaca"
   ]
  },
  {
   "cell_type": "code",
   "execution_count": null,
   "metadata": {
    "id": "AD3qOa2KODJf"
   },
   "outputs": [],
   "source": [
    "def asignar_valor_agua_sub(datos_agua, datos_tres_indices):\n",
    "\n",
    "    # Archivo de calidad de agua subterránea\n",
    "\n",
    "    df1 = pd.read_excel(datos_agua)\n",
    "    df1 = df1[['ESTADO', 'MUNICIPIO', 'Water quality']]\n",
    "\n",
    "    # Reemplazar los valores de 'Water quality'\n",
    "\n",
    "    df1['Water quality'] = df1['Water quality'].replace({\n",
    "        'Good': 3,\n",
    "        'Regular': 2,\n",
    "        'Poor': 1\n",
    "    })\n",
    "\n",
    "    # Agrupar por Estado-municipio y seleccionar el valor más frecuente en 'Water quality'\n",
    "\n",
    "    df1 = df1.groupby(['ESTADO', 'MUNICIPIO'])['Water quality'].agg(lambda x: x.value_counts().idxmax()).reset_index()\n",
    "    df1.rename(columns={'Water quality': 'VALOR_AGUA_SUB'}, inplace=True)\n",
    "\n",
    "    # Archivo donde están todos los valores de índices\n",
    "\n",
    "    df2 = pd.read_excel(datos_tres_indices)\n",
    "    df2 = df2[['CLAVE_MUNICIPIO', 'ENTIDAD', 'MUNICIPIO', 'SS_2020', 'SI_2020', 'IDH_2020']]\n",
    "\n",
    "    # Normalizar nombres para comparar\n",
    "\n",
    "    df1['ESTADO'] = df1['ESTADO'].str.lower()\n",
    "    df1['MUNICIPIO'] = df1['MUNICIPIO'].str.lower()\n",
    "    df2['ENTIDAD'] = df2['ENTIDAD'].str.lower()\n",
    "    df2['MUNICIPIO'] = df2['MUNICIPIO'].str.lower()\n",
    "\n",
    "    # Unir con base en las coincidencias: 'ESTADO'-'ENTIDAD' y 'MUNICIPIO'-'MUNICIPIO'\n",
    "\n",
    "    df_resultado = pd.merge(df2, df1, how='left', left_on=['ENTIDAD', 'MUNICIPIO'], right_on=['ESTADO', 'MUNICIPIO'])\n",
    "\n",
    "    # Eliminar la columna innecesaria\n",
    "\n",
    "    df_resultado.drop(columns=['ESTADO'], inplace=True)\n",
    "\n",
    "    return df_resultado"
   ]
  },
  {
   "cell_type": "markdown",
   "metadata": {
    "id": "yzv_VkK7HdAI"
   },
   "source": [
    "**Aguas lénticas**\n",
    "\n",
    "Archivo de referencia: lentic_water_quality de 715 KB\n",
    "\n",
    "Muchos datos faltantes:\n",
    "*  Baja California sur (100%)\n",
    "*  Campeche (81%)\n",
    "*  Chiapas (90%)\n",
    "*  Chihuahua (83%)\n",
    "*  Ciudad de México (93%)\n",
    "*  Coahuila (92%)\n",
    "*  Colima (80%)\n",
    "*  Durango (74%)\n",
    "*  Guanajuato (84%)\n",
    "*  Guerrero (91%)\n",
    "*  Hidalgo (89%)\n",
    "*  Jalisco (79%)\n",
    "*  Michoacán (80%)\n",
    "*  Morelos (84%)\n",
    "*  Estado de México (100%)\n",
    "*  Nayarit (80%)\n",
    "*  Nuevo León (90%)\n",
    "*  Puebla (97%)\n",
    "*  Querétaro (100%)\n",
    "*  Quintana Roo (60%)\n",
    "*  San Luis Potosí (89%)\n",
    "*  Sonora (88%)\n",
    "*  Tabasco (94%)\n",
    "*  Tlaxcala (98%)\n",
    "*  Veracruz (93%)\n",
    "*  Yucatán (99%)\n",
    "*  Zacatecas (94%)\n",
    "\n",
    "Caso particular: Oaxaca"
   ]
  },
  {
   "cell_type": "code",
   "execution_count": null,
   "metadata": {
    "id": "JX_lAA_qOLka"
   },
   "outputs": [],
   "source": [
    "def asignar_valor_agua_lentica(datos_agua, datos_tres_indices):\n",
    "\n",
    "    # Archivo de calidad de agua léntica\n",
    "\n",
    "    df1 = pd.read_excel(datos_agua)\n",
    "    df1 = df1[['ESTADO', 'MUNICIPIO', 'Water quality']]\n",
    "\n",
    "    # Reemplazar los valores de 'Water quality'\n",
    "\n",
    "    df1['Water quality'] = df1['Water quality'].replace({\n",
    "        'Good': 3,\n",
    "        'Regular': 2,\n",
    "        'Poor': 1\n",
    "    })\n",
    "\n",
    "    # Agrupar por Estado-municipio y seleccionar el valor más frecuente en 'Water quality'\n",
    "\n",
    "    df1 = df1.groupby(['ESTADO', 'MUNICIPIO'])['Water quality'].agg(lambda x: x.value_counts().idxmax()).reset_index()\n",
    "    df1.rename(columns={'Water quality': 'VALOR_AGUA_LENTICA'}, inplace=True)\n",
    "\n",
    "    # Archivo donde están todos los valores de índices\n",
    "\n",
    "    df2 = datos_tres_indices\n",
    "\n",
    "    # Normalizar nombres para comparar\n",
    "\n",
    "    df1['ESTADO'] = df1['ESTADO'].str.lower()\n",
    "    df1['MUNICIPIO'] = df1['MUNICIPIO'].str.lower()\n",
    "    df2['ENTIDAD'] = df2['ENTIDAD'].str.lower()\n",
    "    df2['MUNICIPIO'] = df2['MUNICIPIO'].str.lower()\n",
    "\n",
    "    # Unir con base en las coincidencias: 'ESTADO'-'ENTIDAD' y 'MUNICIPIO'-'MUNICIPIO'\n",
    "\n",
    "    df_resultado = pd.merge(df2, df1, how='left', left_on=['ENTIDAD', 'MUNICIPIO'], right_on=['ESTADO', 'MUNICIPIO'])\n",
    "\n",
    "    # Eliminar la columna innecesaria\n",
    "\n",
    "    df_resultado.drop(columns=['ESTADO'], inplace=True)\n",
    "\n",
    "    return df_resultado"
   ]
  },
  {
   "cell_type": "markdown",
   "metadata": {
    "id": "sY5J4Uw9Kihn"
   },
   "source": [
    "**Aguas lóticas**\n",
    "\n",
    "Archivo de referencia: lotic_water_quality de 6,7 MB\n",
    "\n",
    "Muchos datos faltantes:\n",
    "*  Aguascalientes (72%)\n",
    "*  Campeche (63%)\n",
    "*  Chiapas (61%)\n",
    "*  Chihuahua (73%)\n",
    "*  Ciudad de México (75%)\n",
    "*  Coahuila (68%)\n",
    "*  Guanajuato (60%)\n",
    "*  Guerrero (65%)\n",
    "*  Hidalgo (67%)\n",
    "*  Jalisco (74%)\n",
    "*  Michoacán (72%)\n",
    "*  Morelos (63%)\n",
    "*  Estado de México (100%)\n",
    "*  Puebla (84%)\n",
    "*  Querétaro (100%)\n",
    "*  Quintana Roo (90%)\n",
    "*  San Luis Potosí (70%)\n",
    "*  Sonora (62%)\n",
    "*  Tlaxcala (91%)\n",
    "*  Veracruz (63%)\n",
    "*  Yucatán (100%)\n",
    "*  Zacatecas (74%)\n",
    "\n",
    "Caso particular: Oaxaca"
   ]
  },
  {
   "cell_type": "code",
   "execution_count": null,
   "metadata": {
    "id": "r37aYr9nN9Wa"
   },
   "outputs": [],
   "source": [
    "def asignar_valor_agua_lotica(datos_agua, datos_tres_indices):\n",
    "\n",
    "    # Archivo de calidad de agua lótica\n",
    "\n",
    "    df1 = pd.read_excel(datos_agua)\n",
    "    df1 = df1[['ESTADO', 'MUNICIPIO', 'Water quality']]\n",
    "\n",
    "    # Reemplazar los valores de 'Water quality'\n",
    "\n",
    "    df1['Water quality'] = df1['Water quality'].replace({\n",
    "        'Good': 3,\n",
    "        'Regular': 2,\n",
    "        'Poor': 1\n",
    "    })\n",
    "\n",
    "    # Agrupar por Estado-municipio y seleccionar el valor más frecuente en 'Water quality'\n",
    "\n",
    "    df1 = df1.groupby(['ESTADO', 'MUNICIPIO'])['Water quality'].agg(lambda x: x.value_counts().idxmax()).reset_index()\n",
    "    df1.rename(columns={'Water quality': 'VALOR_AGUA_LOTICA'}, inplace=True)\n",
    "\n",
    "    # Archivo donde están todos los valores de índices\n",
    "\n",
    "    df2 = datos_tres_indices\n",
    "\n",
    "    # Normalizar nombres para comparar\n",
    "\n",
    "    df1['ESTADO'] = df1['ESTADO'].str.lower()\n",
    "    df1['MUNICIPIO'] = df1['MUNICIPIO'].str.lower()\n",
    "    df2['ENTIDAD'] = df2['ENTIDAD'].str.lower()\n",
    "    df2['MUNICIPIO'] = df2['MUNICIPIO'].str.lower()\n",
    "\n",
    "    # Unir con base en las coincidencias: 'ESTADO'-'ENTIDAD' y 'MUNICIPIO'-'MUNICIPIO'\n",
    "\n",
    "    df_resultado = pd.merge(df2, df1, how='left', left_on=['ENTIDAD', 'MUNICIPIO'], right_on=['ESTADO', 'MUNICIPIO'])\n",
    "\n",
    "    # Eliminar la columna innecesaria\n",
    "\n",
    "    df_resultado.drop(columns=['ESTADO'], inplace=True)\n",
    "\n",
    "    return df_resultado"
   ]
  },
  {
   "cell_type": "markdown",
   "metadata": {
    "id": "K0jbdGknOlxw"
   },
   "source": [
    "Ejemplo de uso"
   ]
  },
  {
   "cell_type": "code",
   "execution_count": null,
   "metadata": {
    "id": "FTPLRLr0On4s"
   },
   "outputs": [],
   "source": [
    "df_base = 'Resultados_indices.xlsx'\n",
    "datos_subterranea = 'groundwater_edited.xlsx'\n",
    "datos_lentica = 'lentic_water_quality_edited.xlsx'\n",
    "datos_lotica = 'lotic_water_quality_edited.xlsx'\n",
    "\n",
    "df_base_sub = asignar_valor_agua_sub(datos_subterranea, df_base)\n",
    "df_base_sub_len = asignar_valor_agua_lentica(datos_lentica, df_base_sub)\n",
    "df_base_sub_loti = asignar_valor_agua_lotica(datos_lotica, df_base_sub_len)\n",
    "\n",
    "# df_base_sub_loti es el df final con los 3 valores de calidad de agua"
   ]
  },
  {
   "cell_type": "markdown",
   "metadata": {
    "id": "xCi4IFk5O4-D"
   },
   "source": [
    "**Visualización de valores faltantes**\n",
    "\n",
    "Por cantidad y porcentaje:"
   ]
  },
  {
   "cell_type": "code",
   "execution_count": null,
   "metadata": {
    "id": "w5TcSGOWPQbZ"
   },
   "outputs": [],
   "source": [
    "# Agrupar por estado y calcular el número de valores faltantes\n",
    "\n",
    "estadisticas = df_base_sub_loti.groupby('ENTIDAD').agg(\n",
    "    subterra_total=('VALOR_AGUA_SUB', 'size'),\n",
    "    subterra_faltante=('VALOR_AGUA_SUB', lambda x: x.isna().sum()),\n",
    "    lentica_total=('VALOR_AGUA_LENTICA', 'size'),\n",
    "    lentica_faltante=('VALOR_AGUA_LENTICA', lambda x: x.isna().sum()),\n",
    "    lotica_total=('VALOR_AGUA_LOTICA', 'size'),\n",
    "    lotica_faltante=('VALOR_AGUA_LOTICA', lambda x: x.isna().sum())\n",
    ").reset_index()\n",
    "\n",
    "# Calcular el porcentaje\n",
    "\n",
    "estadisticas['porcentaje_sub'] = ((estadisticas['subterra_faltante'] / estadisticas['subterra_total']) * 100).astype(int)\n",
    "estadisticas['porcentaje_len'] = ((estadisticas['lentica_faltante'] / estadisticas['lentica_total']) * 100).astype(int)\n",
    "estadisticas['porcentaje_lot'] = ((estadisticas['lotica_faltante'] / estadisticas['lotica_total']) * 100).astype(int)\n",
    "\n",
    "# Mostrar las estadísticas\n",
    "\n",
    "estadisticas = estadisticas[[\n",
    "    'ENTIDAD',\n",
    "    'subterra_total', 'subterra_faltante', 'porcentaje_sub',\n",
    "    'lentica_total', 'lentica_faltante', 'porcentaje_len',\n",
    "    'lotica_total', 'lotica_faltante', 'porcentaje_lot'\n",
    "]]"
   ]
  },
  {
   "cell_type": "markdown",
   "metadata": {
    "id": "Zuht7eUBPljW"
   },
   "source": [
    "Matriz de ausencia"
   ]
  },
  {
   "cell_type": "code",
   "execution_count": null,
   "metadata": {
    "id": "YYX7Qw6CPt2v"
   },
   "outputs": [],
   "source": [
    "msno.matrix(df, figsize=(15, 8), sparkline=False, fontsize=8, labels=True)\n",
    "plt.title('Nullity Matrix: Valores por agregar a las BD', fontsize=14)\n",
    "plt.\n",
    "plt.show()"
   ]
  },
  {
   "cell_type": "markdown",
   "metadata": {
    "id": "6LxGysrINYiB"
   },
   "source": [
    "![nm_indices_agua.png](data:image/png;base64,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)"
   ]
  },
  {
   "cell_type": "markdown",
   "metadata": {
    "id": "80bjh1SAQDRY"
   },
   "source": [
    "**Acciones para la imputación de datos**\n",
    "\n",
    "Al ser un caso peculiar en la distribución, se propuso actuar de forma individual con cada estado de la república de la siguiente forma:\n",
    "\n",
    "1.  Identificación de registros no entrantes a la base de datos con valores de índices.  \n",
    "Para esto, se modificó el modo de ingreso de los valores de agua, donde para cada categoría se conservaron los registros no entrantes con una nueva función para ingresarlos a la base de datos anual de forma directa.\n",
    "\n",
    "2.  Imputación por contigüidad geográfica.  \n",
    "Para cada estado de la República, se asignan primero los valores presentes en 'VALOR_AGUA'; después, para cada municipio sin valor, se toma el valor del municipio colindante si éste tiene.\n",
    "Para el caso de colidancias múltiples, se inputa el valor más frecuente.  \n",
    "Los valores imputados por este método no son considerados para siguientes asignaciones de valores.\n",
    "Se considera \"colindancia\" a compartir una frontera.\n",
    "\n",
    "3.  Imputación conservando el ratio estatal.  \n",
    "Aplicable a estados que hayan sido procesados en (1) y no procesados, se escogió un umbral de no más de 30% de datos faltantes para la selección.  \n",
    "El ratio corresponde a la proporción de valores de *good* ['3'], *regular* ['2'] y *poor* ['1'] en una misma entidad.  \n",
    "Los valores del semáforo se asignan aleatoriamente en el resto de municipios del estado, para obtener finalmente la misma proporción entre los 3 posibles valores.\n",
    "\n",
    "3.  Se está considerando una tercer técnica que conserve la fiabilidad de los datos, mientras tanto, se generarán bases de datos eliminando registros con valores NaN.\n",
    "\n"
   ]
  },
  {
   "cell_type": "markdown",
   "metadata": {
    "id": "UhsQMiGHT7aI"
   },
   "source": [
    "Cambio en la función de asignación de valores de semáforo"
   ]
  },
  {
   "cell_type": "code",
   "execution_count": 19,
   "metadata": {
    "id": "lVgNGDOdUBr6"
   },
   "outputs": [],
   "source": [
    "def asignar_valor_agua(datos_agua, datos_tres_indices, nombre_columna_valor):\n",
    "\n",
    "    # Archivo o df con los datos de calidad de agua por categoría\n",
    "    if isinstance(datos_agua, str):\n",
    "        df1 = pd.read_excel(datos_agua)\n",
    "    else:\n",
    "        df1 = datos_agua.copy()\n",
    "\n",
    "    df1 = df1[['ESTADO', 'MUNICIPIO', 'Water quality']]\n",
    "\n",
    "    # Reemplazar los valores de 'Water quality'\n",
    "    df1['Water quality'] = df1['Water quality'].replace({\n",
    "        'Good': 3,\n",
    "        'Regular': 2,\n",
    "        'Poor': 1\n",
    "    })\n",
    "\n",
    "    # Agrupar por Estado-municipio y seleccionar el valor más frecuente en 'Water quality'\n",
    "    df1 = df1.groupby(['ESTADO', 'MUNICIPIO'])['Water quality'].agg(lambda x: x.value_counts().idxmax()).reset_index()\n",
    "    df1.rename(columns={'Water quality': nombre_columna_valor}, inplace=True)\n",
    "\n",
    "    # Archivo o df con los datos de índices\n",
    "    if isinstance(datos_tres_indices, str):\n",
    "        df2 = pd.read_excel(datos_tres_indices)\n",
    "    else:\n",
    "        df2 = datos_tres_indices.copy()\n",
    "\n",
    "\n",
    "    # Normalizar nombres para comparar\n",
    "    df1['ESTADO'] = df1['ESTADO'].str.lower()\n",
    "    df1['MUNICIPIO'] = df1['MUNICIPIO'].str.lower()\n",
    "    df2['ENTIDAD'] = df2['ENTIDAD'].str.lower()\n",
    "    df2['MUNICIPIO'] = df2['MUNICIPIO'].str.lower()\n",
    "\n",
    "    # Unir con base en las coincidencias: 'ESTADO'-'ENTIDAD' y 'MUNICIPIO'-'MUNICIPIO'\n",
    "    df_resultado = pd.merge(df2, df1, how='left', left_on=['ENTIDAD', 'MUNICIPIO'], right_on=['ESTADO', 'MUNICIPIO'])\n",
    "\n",
    "    # Obtener los registros que no encontraron coincidencias\n",
    "    df_no_coincidentes = df1[~df1[['ESTADO', 'MUNICIPIO']].apply(tuple, axis=1).isin(df_resultado[['ESTADO', 'MUNICIPIO']].apply(tuple, axis=1))]\n",
    "\n",
    "    # Eliminar las columnas innecesarias después de la combinación\n",
    "    df_resultado.drop(columns=['ESTADO'], inplace=True)\n",
    "\n",
    "    return df_resultado, df_no_coincidentes"
   ]
  },
  {
   "cell_type": "markdown",
   "metadata": {
    "id": "ntAUHR6OUI3I"
   },
   "source": [
    "Ejemplo de uso"
   ]
  },
  {
   "cell_type": "code",
   "execution_count": null,
   "metadata": {
    "id": "wbp7LwQLUL12"
   },
   "outputs": [],
   "source": [
    "df_base = 'Resultados_IDH_SS_SE_SI.xlsx'\n",
    "datos_subterranea = 'groundwater_edited.xlsx'\n",
    "datos_lentica = 'lentic_water_quality_edited.xlsx'\n",
    "datos_lotica = 'lotic_water_quality_edited.xlsx'\n",
    "\n",
    "# Aplicar la función para agua subterránea\n",
    "\n",
    "df_base_sub, df_no_coincidentes_sub = asignar_valor_agua(datos_subterranea, df_base, 'VALOR_AGUA_SUB')\n",
    "\n",
    "# Aplicar la función para agua léntica\n",
    "\n",
    "df_base_sub_len, df_no_coincidentes_lentica = asignar_valor_agua(datos_lentica, df_base_sub, 'VALOR_AGUA_LENTICA')\n",
    "\n",
    "# Aplicar la función para agua lótica\n",
    "\n",
    "df_base_sub_loti, df_no_coincidentes_lotica = asignar_valor_agua(datos_lotica, df_base_sub_len, 'VALOR_AGUA_LOTICA')\n",
    "\n",
    "# Resultado: df_base_sub_loti\n",
    "# Registros que no entraron: df_no_coincidentes para cada categoría"
   ]
  },
  {
   "cell_type": "markdown",
   "metadata": {
    "id": "FpPEVrqApK68"
   },
   "source": [
    "De esta forma, se encontraron datos para el siguiente número de municipios:\n",
    "\n",
    "*  Subterránea: 157\n",
    "*  Léntica: 31\n",
    "*  Lótica: 118\n",
    "\n",
    "Esto, sin embargo, representa un siguiente desafío, pues los municipios presentes en los 3 no son necesariamente los presentes en el resto. Es más, sólo 5 municipios tienen valores en las 3 categorías."
   ]
  },
  {
   "cell_type": "markdown",
   "metadata": {
    "id": "T9VFroB8AZwR"
   },
   "source": [
    "Imputación conservando ratio"
   ]
  },
  {
   "cell_type": "code",
   "execution_count": null,
   "metadata": {
    "id": "4yEekdQKAjJL"
   },
   "outputs": [],
   "source": [
    "def imputar_valores_ratio(df):\n",
    "\n",
    "    # Columnas a imputar\n",
    "\n",
    "    columnas = ['VALOR_AGUA_SUB', 'VALOR_AGUA_LENTICA', 'VALOR_AGUA_LOTICA']\n",
    "\n",
    "    for columna in columnas:\n",
    "\n",
    "        # Calcular el porcentaje de valores faltantes por estado para la columna actual\n",
    "\n",
    "        porcentaje_faltantes = df[columna].isna().groupby(df['ENTIDAD']).mean() * 100\n",
    "\n",
    "        # Estados con más del 30% de valores faltantes\n",
    "\n",
    "        estados_con_faltantes = porcentaje_faltantes[porcentaje_faltantes > 30].index\n",
    "\n",
    "        for estado in estados_con_faltantes:\n",
    "\n",
    "            estado_df = df[df['ENTIDAD'] == estado]\n",
    "\n",
    "            # Contar la proporción de 1, 2, y 3 en los registros no nulos\n",
    "\n",
    "            proporciones = estado_df[columna].value_counts(normalize=True)\n",
    "\n",
    "            # Verificar que existan valores para calcular proporciones\n",
    "\n",
    "            if proporciones.empty:\n",
    "                continue\n",
    "\n",
    "            # Obtener la cantidad de valores faltantes\n",
    "\n",
    "            faltantes = estado_df[columna].isna().sum()\n",
    "\n",
    "            # Crear una lista con la proporción adecuada de 1, 2, y 3 para rellenar los valores faltantes\n",
    "\n",
    "            valores_imputados = np.random.choice(\n",
    "                proporciones.index,\n",
    "                size=faltantes,\n",
    "                p=proporciones.values\n",
    "            )\n",
    "\n",
    "            # Rellenar\n",
    "\n",
    "            df.loc[(df['ENTIDAD'] == estado) & (df[columna].isna()), columna] = valores_imputados\n",
    "\n",
    "    return df"
   ]
  },
  {
   "cell_type": "markdown",
   "metadata": {
    "id": "EM4HU23yCsTA"
   },
   "source": [
    "Ejemplo de uso"
   ]
  },
  {
   "cell_type": "code",
   "execution_count": null,
   "metadata": {
    "id": "ZcSmJ4VfCqGp"
   },
   "outputs": [],
   "source": [
    "df_imputado = imputar_valores_faltantes(df)"
   ]
  },
  {
   "cell_type": "markdown",
   "metadata": {},
   "source": [
    "**Datos sobre componentes de agua**\n",
    "\n",
    "Se trabajó de forma análoga a lo establecido con la parte de calidad de agua. Primero se preparó el archivo para conservar la información relevante."
   ]
  },
  {
   "cell_type": "markdown",
   "metadata": {},
   "source": [
    "*Funciones para agregar datos sorbe agua a algún otro dataframe*"
   ]
  },
  {
   "cell_type": "code",
   "execution_count": 90,
   "metadata": {},
   "outputs": [],
   "source": [
    "import unicodedata\n",
    "\n",
    "def quitar_acentos(texto):\n",
    "    #if not isinstance(texto, str):\n",
    "        #print(f\"Tipo inesperado encontrado: {type(texto)} - Valor: {texto}\")\n",
    "    if isinstance(texto, str):  # Solo procesar si el valor es una cadena\n",
    "        return unicodedata.normalize('NFD', texto).encode('ascii', 'ignore').decode('ascii')\n",
    "    return texto  # Si no es una cadena, simplemente devolver el valor tal cual está"
   ]
  },
  {
   "cell_type": "code",
   "execution_count": 82,
   "metadata": {},
   "outputs": [],
   "source": [
    "def agregar_componentes_coastal(datos_agua, datos_tres_indices):\n",
    "\n",
    "    # Archivo de calidad de agua costera\n",
    "\n",
    "    if isinstance(datos_agua, str):\n",
    "        df1 = pd.read_excel(datos_agua)\n",
    "    else:\n",
    "        df1 = datos_agua.copy()\n",
    "\n",
    "    # Archivo donde están todos los valores de índices (o df anterior)\n",
    "\n",
    "    if isinstance(datos_tres_indices, str):\n",
    "        df2 = pd.read_excel(datos_tres_indices)\n",
    "    else:\n",
    "        df2 = datos_tres_indices\n",
    "\n",
    "    # Normalizar nombres para comparar\n",
    "\n",
    "    df1['ESTADO'] = df1['ESTADO'].str.lower().apply(quitar_acentos).replace('estado de mexico', 'mexico').replace('queretaro arteaga', 'queretaro')\n",
    "    df1['MUNICIPIO'] = df1['MUNICIPIO'].str.lower().apply(quitar_acentos)\n",
    "    df2['ENTIDAD'] = df2['ENTIDAD'].str.lower().apply(quitar_acentos)\n",
    "    df2['MUNICIPIO'] = df2['MUNICIPIO'].str.lower().apply(quitar_acentos)\n",
    "\n",
    "    # Unir con base en las coincidencias: 'ESTADO'-'ENTIDAD' y 'MUNICIPIO'-'MUNICIPIO'\n",
    "\n",
    "    df_resultado = pd.merge(df2, df1, how='left', left_on=['ENTIDAD', 'MUNICIPIO'], right_on=['ESTADO', 'MUNICIPIO'])\n",
    "\n",
    "    # Obtener registros que no \"entraron\" en el merge\n",
    "\n",
    "    registros_no_entraron = df1[~df1.set_index(['ESTADO', 'MUNICIPIO']).index.isin(df_resultado.set_index(['ESTADO', 'MUNICIPIO']).index)]\n",
    "    registros_no_entraron.rename(columns={'ESTADO': 'ENTIDAD'}, inplace=True)\n",
    "\n",
    "    # Eliminar los registros que no tuvieron coincidencia\n",
    "\n",
    "    df_resultado = df_resultado.dropna(subset=['VALOR_AGUA_COAST'])\n",
    "\n",
    "    # Eliminar las columnas innecesarias después de la combinación\n",
    "\n",
    "    df_resultado.drop(columns=['ESTADO'], inplace=True)\n",
    "\n",
    "    return df_resultado, registros_no_entraron"
   ]
  },
  {
   "cell_type": "code",
   "execution_count": 126,
   "metadata": {},
   "outputs": [],
   "source": [
    "def agregar_componentes_sub(datos_agua, datos_tres_indices):\n",
    "\n",
    "    # Archivo de calidad de agua subterránea\n",
    "\n",
    "    if isinstance(datos_agua, str):\n",
    "        df1 = pd.read_excel(datos_agua)\n",
    "    else:\n",
    "        df1 = datos_agua.copy()\n",
    "\n",
    "    # Archivo donde están todos los valores de índices (o df anterior)\n",
    "\n",
    "    if isinstance(datos_tres_indices, str):\n",
    "        df2 = pd.read_excel(datos_tres_indices)\n",
    "    else:\n",
    "        df2 = datos_tres_indices\n",
    "\n",
    "    # Normalizar nombres para comparar\n",
    "\n",
    "    df1['ESTADO'] = df1['ESTADO'].str.lower().apply(quitar_acentos).replace('estado de mexico', 'mexico').replace('queretaro arteaga', 'queretaro')\n",
    "    df1['MUNICIPIO'] = df1['MUNICIPIO'].str.lower().apply(quitar_acentos).replace('jimenez camargo', 'jimenez').replace('medellin', 'medellin de bravo').replace('aconcchi', 'aconchi')\n",
    "    df1.loc[df1['ESTADO'] == 'sonora', 'MUNICIPIO'] = df1.loc[df1['ESTADO'] == 'sonora', 'MUNICIPIO'].replace('san felipe', 'san felipe de jesus')\n",
    "    df1.loc[df1['ESTADO'] == 'guanajuato', 'MUNICIPIO'] = df1.loc[df1['ESTADO'] == 'guanajuato', 'MUNICIPIO'].replace('dolores hidalgo c.i.n.', 'dolores hidalgo cuna de la independencia')\n",
    "    df2['ENTIDAD'] = df2['ENTIDAD'].str.lower().apply(quitar_acentos)\n",
    "    df2['MUNICIPIO'] = df2['MUNICIPIO'].str.lower().apply(quitar_acentos)\n",
    "\n",
    "    # Unir con base en las coincidencias: 'ESTADO'-'ENTIDAD' y 'MUNICIPIO'-'MUNICIPIO'\n",
    "\n",
    "    df_resultado = pd.merge(df2, df1, how='left', left_on=['ENTIDAD', 'MUNICIPIO'], right_on=['ESTADO', 'MUNICIPIO'])\n",
    "\n",
    "    # Obtener registros que no \"entraron\" en el merge\n",
    "\n",
    "    registros_no_entraron = df1[~df1.set_index(['ESTADO', 'MUNICIPIO']).index.isin(df_resultado.set_index(['ESTADO', 'MUNICIPIO']).index)]\n",
    "    registros_no_entraron.rename(columns={'ESTADO': 'ENTIDAD'}, inplace=True)\n",
    "\n",
    "    # Eliminar los registros que no tuvieron coincidencia\n",
    "\n",
    "    df_resultado = df_resultado.dropna(subset=['VALOR_AGUA_SUB'])\n",
    "\n",
    "    # Eliminar las columnas innecesarias después de la combinación\n",
    "\n",
    "    df_resultado.drop(columns=['ESTADO'], inplace=True)\n",
    "\n",
    "    return df_resultado, registros_no_entraron"
   ]
  },
  {
   "cell_type": "code",
   "execution_count": 84,
   "metadata": {},
   "outputs": [],
   "source": [
    "def agregar_componentes_lentica(datos_agua, datos_tres_indices):\n",
    "\n",
    "    # Archivo de calidad de agua léntica\n",
    "\n",
    "    if isinstance(datos_agua, str):\n",
    "        df1 = pd.read_excel(datos_agua)\n",
    "    else:\n",
    "        df1 = datos_agua.copy()\n",
    "\n",
    "    # Archivo donde están todos los valores de índices (o df anterior)\n",
    "\n",
    "    if isinstance(datos_tres_indices, str):\n",
    "        df2 = pd.read_excel(datos_tres_indices)\n",
    "    else:\n",
    "        df2 = datos_tres_indices\n",
    "\n",
    "    # Normalizar nombres para comparar\n",
    "    \n",
    "    df1['ESTADO'] = df1['ESTADO'].str.lower().apply(quitar_acentos).replace('estado de mexico', 'mexico').replace('queretaro arteaga', 'queretaro')\n",
    "    df1['MUNICIPIO'] = df1['MUNICIPIO'].str.lower().apply(quitar_acentos)\n",
    "    df2['ENTIDAD'] = df2['ENTIDAD'].str.lower().apply(quitar_acentos)\n",
    "    df2['MUNICIPIO'] = df2['MUNICIPIO'].str.lower().apply(quitar_acentos)\n",
    "\n",
    "    # Unir con base en las coincidencias: 'ESTADO'-'ENTIDAD' y 'MUNICIPIO'-'MUNICIPIO'\n",
    "\n",
    "    df_resultado = pd.merge(df2, df1, how='left', left_on=['ENTIDAD', 'MUNICIPIO'], right_on=['ESTADO', 'MUNICIPIO'])\n",
    "\n",
    "    # Obtener registros que no \"entraron\" en el merge\n",
    "\n",
    "    registros_no_entraron = df1[~df1.set_index(['ESTADO', 'MUNICIPIO']).index.isin(df_resultado.set_index(['ESTADO', 'MUNICIPIO']).index)]\n",
    "    registros_no_entraron.rename(columns={'ESTADO': 'ENTIDAD'}, inplace=True)\n",
    "\n",
    "    # Eliminar los registros que no tuvieron coincidencia\n",
    "\n",
    "    df_resultado = df_resultado.dropna(subset=['VALOR_AGUA_LENTICA'])\n",
    "\n",
    "    # Eliminar las columnas innecesarias después de la combinación\n",
    "    \n",
    "    df_resultado.drop(columns=['ESTADO'], inplace=True)\n",
    "\n",
    "    return df_resultado, registros_no_entraron"
   ]
  },
  {
   "cell_type": "code",
   "execution_count": 85,
   "metadata": {},
   "outputs": [],
   "source": [
    "def agregar_componentes_lotica(datos_agua, datos_tres_indices):\n",
    "\n",
    "    # Archivo de calidad de agua lótica\n",
    "\n",
    "    if isinstance(datos_agua, str):\n",
    "        df1 = pd.read_excel(datos_agua)\n",
    "    else:\n",
    "        df1 = datos_agua.copy()\n",
    "\n",
    "    # Archivo donde están todos los valores de índices (o df anterior)\n",
    "\n",
    "    if isinstance(datos_tres_indices, str):\n",
    "        df2 = pd.read_excel(datos_tres_indices)\n",
    "    else:\n",
    "        df2 = datos_tres_indices\n",
    "\n",
    "    # Normalizar nombres para comparar\n",
    "\n",
    "    df1['ESTADO'] = df1['ESTADO'].str.lower().apply(quitar_acentos).replace('estado de mexico', 'mexico').replace('queretaro arteaga', 'queretaro')\n",
    "    df1['MUNICIPIO'] = df1['MUNICIPIO'].str.lower().apply(quitar_acentos)\n",
    "    df2['ENTIDAD'] = df2['ENTIDAD'].str.lower().apply(quitar_acentos)\n",
    "    df2['MUNICIPIO'] = df2['MUNICIPIO'].str.lower().apply(quitar_acentos)\n",
    "\n",
    "    # Unir con base en las coincidencias: 'ESTADO'-'ENTIDAD' y 'MUNICIPIO'-'MUNICIPIO'\n",
    "\n",
    "    df_resultado = pd.merge(df2, df1, how='left', left_on=['ENTIDAD', 'MUNICIPIO'], right_on=['ESTADO', 'MUNICIPIO'])\n",
    "\n",
    "    # Obtener registros que no \"entraron\" en el merge\n",
    "\n",
    "    registros_no_entraron = df1[~df1.set_index(['ESTADO', 'MUNICIPIO']).index.isin(df_resultado.set_index(['ESTADO', 'MUNICIPIO']).index)]\n",
    "    registros_no_entraron.rename(columns={'ESTADO': 'ENTIDAD'}, inplace=True)\n",
    "\n",
    "    # Eliminar los registros que no tuvieron coincidencia\n",
    "\n",
    "    df_resultado = df_resultado.dropna(subset=['VALOR_AGUA_LOTICA'])\n",
    "\n",
    "    # Eliminar las columnas innecesarias después de la combinación\n",
    "    \n",
    "    df_resultado.drop(columns=['ESTADO'], inplace=True)\n",
    "\n",
    "    return df_resultado, registros_no_entraron"
   ]
  },
  {
   "cell_type": "markdown",
   "metadata": {},
   "source": [
    "Ejemplo de uso"
   ]
  },
  {
   "cell_type": "code",
   "execution_count": null,
   "metadata": {},
   "outputs": [],
   "source": [
    "df_base = 'Resultados_IDH_SS_SE_SI.xlsx'\n",
    "datos_costera = 'coastal_complete_filtered_2018.xlsx'\n",
    "datos_subterranea = 'groundwater_complete_filtered_2018.xlsx'\n",
    "datos_lentica = 'lentic_complete_filtered_2018.xlsx'\n",
    "datos_lotica = 'lotic_complete_filtered_2018.xlsx'\n",
    "\n",
    "df_lotic, df_no_coincidentes_lotica = agregar_componentes_lotica(datos_lotica, df_base)\n",
    "df_sub, df_no_coincidentes_subterranea = agregar_componentes_sub(datos_subterranea, df_base)\n",
    "df_len, df_no_coincidentes_lentica = agregar_componentes_lentica(datos_lentica, df_base)\n",
    "df_cost, df_no_coincidentes_costera = agregar_componentes_coastal(datos_costera, df_base)"
   ]
  },
  {
   "cell_type": "markdown",
   "metadata": {},
   "source": [
    "**Resumen de número de municipios con información completa para cada tipo de toma de agua:**\n",
    "\n",
    "Costera: 97 municipios (20 no entraron)   \n",
    "Subterránea: 507 municipios (157 no entraron)   \n",
    "Léntica: 209 municipios (32 no entraron)   \n",
    "Lótica: 553 municipios (118 no entraron)   \n",
    "\n",
    "Costera + subterránea + léntica + lótica: 10 municipios"
   ]
  },
  {
   "cell_type": "markdown",
   "metadata": {},
   "source": [
    "Registros presentes en la base de datos anual: 1,435,706\n",
    "\n",
    "Registros después de filtrar NaNs para cada tipo de toma:   \n",
    "Costera: 162,574   \n",
    "Subterránea: 655,273   \n",
    "Léntica: 361,688   \n",
    "Lótica: 716,860   "
   ]
  },
  {
   "cell_type": "markdown",
   "metadata": {},
   "source": [
    "**Merge con BD anuales**\n",
    "\n",
    "En esta sección se especifican las funciones de preparación de documentos sobre componentes en calidad de agua, derivado de la consideración de que algunos componentes tienen mayor relevancia en la calificación del semáforo.\n",
    "\n",
    "Para este fin, no se tomará el valor más frecuente sino que se considerarán todas las instancias de los documentos *\"complete\"* para ingresarlas de forma aleatoria en la base de datos anual, conservando así el valor de dichos componentes para su semáforo particular.\n",
    "\n",
    "La forma de proceder es la siguiente:   \n",
    "Para *n* registros de un municipio en particular (identificado con CLAVE_RES) presentes en el documento de calidad de agua, y considerando que se encuentran *m* instancias del mismo municipio en la base de datos anual, se insertarán *k* repeticiones de *n* de forma que *kn* *=* *m*. Cada *n_i* presente en *n* ingresará de forma aleatoria hasta que todos los *m_i* tengan valores asociados.   \n",
    "Además, se considera el caso especial en donde *n >= m*, donde se asegura que se tome una muestra aleatoria sin reemplazo para evitar repeticiones cuando no sea necesario.\n"
   ]
  },
  {
   "cell_type": "markdown",
   "metadata": {},
   "source": [
    "*Coastal*"
   ]
  },
  {
   "cell_type": "code",
   "execution_count": null,
   "metadata": {},
   "outputs": [],
   "source": [
    "# Selección de columnas de \"cumplimiento\"\n",
    "\n",
    "documento_coastal = 'coastal_complete.xlsx'\n",
    "\n",
    "df = pd.read_excel(documento_coastal, usecols=[\n",
    "        'ESTADO', 'MUNICIPIO', 'AÑO', 'LATITUD', 'LONGITUD', 'complies_TSS',\n",
    "        'complies_FC', 'complies_ODs', 'complies_ODm', 'complies_ODb', 'complies_FE',\n",
    "        'complies_TF15s', 'complies_TF15b', 'Water quality'\n",
    "    ])\n",
    "\n",
    "# Normalizar nombres de estado y municipio\n",
    "\n",
    "df['ESTADO'] = df['ESTADO'].str.lower()\n",
    "df['MUNICIPIO'] = df['MUNICIPIO'].str.lower()\n",
    "\n",
    "# Reemplazar calificaciones de 'Water quality' por valores\n",
    "\n",
    "df['Water quality'] = df['Water quality'].replace({\n",
    "        'Good': 3,\n",
    "        'Regular': 2,\n",
    "        'Poor': 1\n",
    "    })\n",
    "\n",
    "# Renombrar las columnas de cumplimiento\n",
    "\n",
    "df.columns = [col.replace('complies', 'coast_comp') if 'complies' in col else col for col in df.columns]\n",
    "\n",
    "# Renombrar 'Water quality' a 'VALOR_AGUA_COAST'\n",
    "\n",
    "df.rename(columns={'Water quality': 'VALOR_AGUA_COAST'}, inplace=True)\n",
    "\n",
    "df.shape\n",
    "\n",
    "# Filtrar los registros del año 2018 en adelante\n",
    "df = df[df['AÑO'] >= 2018]\n",
    "\n",
    "df.shape"
   ]
  },
  {
   "cell_type": "markdown",
   "metadata": {},
   "source": [
    "*Groundwater*"
   ]
  },
  {
   "cell_type": "code",
   "execution_count": null,
   "metadata": {},
   "outputs": [],
   "source": [
    "# Selección de columnas de \"cumplimiento\"\n",
    "\n",
    "documento_groundwater = 'groundwater_complete.xlsx'\n",
    "df = pd.read_excel(documento_groundwater, usecols=[\n",
    "        'ESTADO', 'MUNICIPIO', 'AÑO', 'LATITUD', 'LONGITUD', 'complies_Alk', 'complies_Cond',\n",
    "        'complies_Hard',  'complies_TDS', 'complies_Fe', 'complies_Mn', 'complies_F',\n",
    "        'complies_FC', 'complies_NO3N', 'complies_As', 'complies_Cd', 'complies_Cr',\n",
    "        'complies_Hg', 'complies_Pb', 'Water quality'\n",
    "    ])\n",
    "\n",
    "# Normalizar nombres de estado y municipio\n",
    "\n",
    "df['ESTADO'] = df['ESTADO'].str.lower()\n",
    "df['MUNICIPIO'] = df['MUNICIPIO'].str.lower()\n",
    "\n",
    "# Reemplazar calificaciones de 'Water quality' por valores\n",
    "\n",
    "df['Water quality'] = df['Water quality'].replace({\n",
    "        'Good': 3,\n",
    "        'Regular': 2,\n",
    "        'Poor': 1\n",
    "    })\n",
    "\n",
    "# Renombrar las columnas de cumplimiento\n",
    "\n",
    "df.columns = [col.replace('complies', 'gw_comp') if 'complies' in col else col for col in df.columns]\n",
    "\n",
    "# Renombrar 'Water quality' a 'VALOR_AGUA_SUB'\n",
    "\n",
    "df.rename(columns={'Water quality': 'VALOR_AGUA_SUB'}, inplace=True)\n",
    "\n",
    "df.shape\n",
    "\n",
    "# Filtrar los registros del año 2018 en adelante\n",
    "df = df[df['AÑO'] >= 2018]\n",
    "\n",
    "df.shape"
   ]
  },
  {
   "cell_type": "markdown",
   "metadata": {},
   "source": [
    "*Lentic*"
   ]
  },
  {
   "cell_type": "code",
   "execution_count": null,
   "metadata": {},
   "outputs": [],
   "source": [
    "# Selección de columnas de \"cumplimiento\"\n",
    "\n",
    "documento_lentic = 'lentic_complete.xlsx'\n",
    "df = pd.read_excel(documento_lentic, usecols=[\n",
    "        'ESTADO', 'MUNICIPIO', 'AÑO', 'LATITUD', 'LONGITUD', 'complies_TSS', 'complies_FC',\n",
    "        'complies_ECOLI', 'complies_ODs', 'complies_ODm', 'complies_ODb', 'complies_BOD5',\n",
    "        'complies_COD', 'complies_TD48s', 'complies_TD48b', 'complies_TF15s', 'complies_TF15b', 'Water quality'\n",
    "    ])\n",
    "\n",
    "# Normalizar nombres de estado y municipio\n",
    "\n",
    "df['ESTADO'] = df['ESTADO'].str.lower()\n",
    "df['MUNICIPIO'] = df['MUNICIPIO'].str.lower()\n",
    "\n",
    "# Reemplazar calificaciones de 'Water quality' por valores\n",
    "\n",
    "df['Water quality'] = df['Water quality'].replace({\n",
    "        'Good': 3,\n",
    "        'Regular': 2,\n",
    "        'Poor': 1\n",
    "    })\n",
    "\n",
    "# Renombrar las columnas de cumplimiento\n",
    "\n",
    "df.columns = [col.replace('complies', 'len_comp') if 'complies' in col else col for col in df.columns]\n",
    "\n",
    "# Renombrar 'Water quality' a 'VALOR_AGUA_LENTICA'\n",
    "\n",
    "df.rename(columns={'Water quality': 'VALOR_AGUA_LENTICA'}, inplace=True)\n",
    "\n",
    "df.shape\n",
    "\n",
    "# Filtrar los registros del año 2018 en adelante\n",
    "df = df[df['AÑO'] >= 2018]\n",
    "\n",
    "df.shape"
   ]
  },
  {
   "cell_type": "markdown",
   "metadata": {},
   "source": [
    "*Lotic*"
   ]
  },
  {
   "cell_type": "code",
   "execution_count": null,
   "metadata": {},
   "outputs": [],
   "source": [
    "# Selección de columnas de \"cumplimiento\"\n",
    "\n",
    "documento_lotic = 'lotic_complete.xlsx'\n",
    "df = pd.read_excel(documento_lotic, usecols=[\n",
    "        'ESTADO', 'MUNICIPIO', 'AÑO', 'LATITUD', 'LONGITUD', 'complies_TSS',\n",
    "        'complies_FC', 'complies_ECOLI', 'complies_OD', 'complies_BOD5',\n",
    "        'complies_COD', 'complies_TD48', 'complies_TF15', 'Water quality'\n",
    "    ])\n",
    "\n",
    "# Normalizar nombres de estado y municipio\n",
    "\n",
    "df['ESTADO'] = df['ESTADO'].str.lower()\n",
    "df['MUNICIPIO'] = df['MUNICIPIO'].str.lower()\n",
    "\n",
    "# Reemplazar calificaciones de 'Water quality' por valores\n",
    "\n",
    "df['Water quality'] = df['Water quality'].replace({\n",
    "        'Good': 3,\n",
    "        'Regular': 2,\n",
    "        'Poor': 1\n",
    "    })\n",
    "\n",
    "# Renombrar las columnas de cumplimiento\n",
    "\n",
    "df.columns = [col.replace('complies', 'lot_comp') if 'complies' in col else col for col in df.columns]\n",
    "\n",
    "# Renombrar 'Water quality' a 'VALOR_AGUA_LOTICA'\n",
    "\n",
    "df.rename(columns={'Water quality': 'VALOR_AGUA_LOTICA'}, inplace=True)\n",
    "\n",
    "df.shape\n",
    "\n",
    "# Filtrar los registros del año 2018 en adelante\n",
    "df = df[df['AÑO'] >= 2018]\n",
    "\n",
    "df.shape"
   ]
  },
  {
   "cell_type": "markdown",
   "metadata": {},
   "source": [
    "*Funciones para el merge*"
   ]
  },
  {
   "cell_type": "code",
   "execution_count": null,
   "metadata": {},
   "outputs": [],
   "source": [
    "def asignar_clave_municipio(documento_agua, documento_indices):\n",
    "\n",
    "    # Normalizar nombres para comparar\n",
    "\n",
    "    documento_agua['ESTADO'] = documento_agua['ESTADO'].str.lower()\n",
    "    documento_agua['MUNICIPIO'] = documento_agua['MUNICIPIO'].str.lower()\n",
    "    documento_indices['ENTIDAD'] = documento_indices['ENTIDAD'].str.lower()\n",
    "    documento_indices['MUNICIPIO'] = documento_indices['MUNICIPIO'].str.lower()\n",
    "\n",
    "    # Realizar el merge basado en las columnas de Estado/Entidad y Municipio\n",
    "\n",
    "    df_merged = pd.merge(documento_agua, documento_indices[['ENTIDAD', 'MUNICIPIO', 'CLAVE_MUNICIPIO', 'SI_2020', 'SS_2020', 'IDH_2020']],\n",
    "                         left_on=['ESTADO', 'MUNICIPIO'],\n",
    "                         right_on=['ENTIDAD', 'MUNICIPIO'],\n",
    "                         how='left')\n",
    "    \n",
    "    # Eliminar registros que no tengan clave de municipio\n",
    "\n",
    "    #df_merged = df_merged.dropna(subset=['CLAVE_MUNICIPIO'])\n",
    "    df_merged.rename(columns={'CLAVE_MUNICIPIO': 'CLAVE_RES'},  inplace=True)\n",
    "    \n",
    "    # Eliminar la columna ESTADO\n",
    "\n",
    "    df_merged.drop(columns=['ESTADO'], inplace=True)\n",
    "    \n",
    "    return df_merged"
   ]
  },
  {
   "cell_type": "code",
   "execution_count": null,
   "metadata": {},
   "outputs": [],
   "source": [
    "def binarizar_agua(df, agua_seleccionada):\n",
    "\n",
    "    # Extraer el prefijo adecuado (COAST, SUB, LENTICA, LOTICA)\n",
    "\n",
    "    if 'COAST' in agua_seleccionada:\n",
    "        prefijo = 'COAST'\n",
    "    elif 'SUB' in agua_seleccionada:\n",
    "        prefijo = 'SUB'\n",
    "    elif 'LENTICA' in agua_seleccionada:\n",
    "        prefijo = 'LENTICA'\n",
    "    elif 'LOTICA' in agua_seleccionada:\n",
    "        prefijo = 'LOTICA'\n",
    "    else:\n",
    "        raise ValueError(\"El índice seleccionado no coincide\")\n",
    "    \n",
    "    # Crear las variables binarias para valores de semáforo\n",
    "\n",
    "    df[f'CA_{prefijo}_MALA'] = (df[f'VALOR_AGUA_{prefijo}'] == 1).astype(int)\n",
    "    df[f'CA_{prefijo}_REGULAR'] = (df[f'VALOR_AGUA_{prefijo}'] == 2).astype(int)\n",
    "    df[f'CA_{prefijo}_BUENA'] = (df[f'VALOR_AGUA_{prefijo}'] == 3).astype(int)\n",
    "\n",
    "    # Eliminar las columnas de referencia y las columnas no deseadas\n",
    "\n",
    "    columnas_a_eliminar = [f'VALOR_AGUA_{prefijo}',\n",
    "                           'SS_2020', 'SI_2020', 'IDH_2020']\n",
    "    \n",
    "    df.drop(columns=[col for col in columnas_a_eliminar if col in df.columns], inplace=True)\n",
    "\n",
    "    return df"
   ]
  },
  {
   "cell_type": "markdown",
   "metadata": {},
   "source": [
    "Ejemplo de uso"
   ]
  },
  {
   "cell_type": "code",
   "execution_count": 179,
   "metadata": {},
   "outputs": [],
   "source": [
    "df_toadd = pd.read_excel('Resultados_indices.xlsx')\n",
    "datos_costera = pd.read_excel('coastal_complete_fixed.xlsx')\n",
    "datos_subterranea = pd.read_excel('groundwater_complete_fixed.xlsx')\n",
    "datos_lentica = pd.read_excel('lentic_complete_fixed.xlsx')\n",
    "datos_lotica = pd.read_excel('lotic_complete_fixed.xlsx')"
   ]
  },
  {
   "cell_type": "code",
   "execution_count": 24,
   "metadata": {},
   "outputs": [],
   "source": [
    "df_toadd = pd.read_excel('Resultados_indices.xlsx')\n",
    "datos_costera = pd.read_excel('coastal_complete_lore.xlsx')\n",
    "datos_subterranea = pd.read_excel('groundwater_complete_lore.xlsx')\n",
    "datos_lentica = pd.read_excel('lentic_complete_lore.xlsx')\n",
    "datos_lotica = pd.read_excel('lotic_complete_lore.xlsx')"
   ]
  },
  {
   "cell_type": "code",
   "execution_count": null,
   "metadata": {},
   "outputs": [],
   "source": [
    "lotica_claves = asignar_clave_municipio(datos_lotica, df_toadd)\n",
    "lotica_claves = asignar_rangos_pnud(lotica_claves, 'IDH_2020')\n",
    "lotica_claves = asignar_rangos_pnud(lotica_claves, 'SI_2020')\n",
    "lotica_claves = asignar_rangos_pnud(lotica_claves, 'SS_2020')\n",
    "lotica_claves = binarizar_agua(lotica_claves, 'VALOR_AGUA_LOTICA')\n"
   ]
  },
  {
   "cell_type": "code",
   "execution_count": 42,
   "metadata": {},
   "outputs": [],
   "source": [
    "lotica_claves.to_excel('lotic_complete_index.xlsx', index=False)"
   ]
  },
  {
   "cell_type": "code",
   "execution_count": 187,
   "metadata": {},
   "outputs": [],
   "source": [
    "subterranea_claves = asignar_clave_municipio(datos_subterranea, df_toadd)\n",
    "subterranea_claves = binarizar_agua_general(subterranea_claves, 'VALOR_AGUA_SUB')"
   ]
  },
  {
   "cell_type": "code",
   "execution_count": 185,
   "metadata": {},
   "outputs": [],
   "source": [
    "lentica_claves = asignar_clave_municipio(datos_lentica, df_toadd)\n",
    "lentica_claves = binarizar_agua_general(lentica_claves, 'VALOR_AGUA_LENTICA')"
   ]
  },
  {
   "cell_type": "code",
   "execution_count": 183,
   "metadata": {},
   "outputs": [],
   "source": [
    "lotica_claves = asignar_clave_municipio(datos_lotica, df_toadd)\n",
    "lotica_claves = binarizar_agua_general(lotica_claves, 'VALOR_AGUA_LOTICA')"
   ]
  },
  {
   "cell_type": "markdown",
   "metadata": {},
   "source": [
    "**Merge con las bases de datos anuales**\n",
    "\n",
    "Entre las BD disponibles se encuentran unas que contienen la información sobre índices ya binarizadas (carpeta BasesConfirmados_Finales_Indices), por lo que únicamente se requieren los componentes de agua por separado"
   ]
  },
  {
   "cell_type": "code",
   "execution_count": 160,
   "metadata": {},
   "outputs": [],
   "source": [
    "base_anual_2021 = pd.read_csv('BasesConfirmados_Finales_Indices//COVID_2021_LIMPIA_INDICES_PNUD_CONRES.csv')\n",
    "base_anual_2022 = pd.read_csv('BasesConfirmados_Finales_Indices//COVID_2022_LIMPIA_INDICES_PNUD_CONRES.csv')\n",
    "base_anual_2023 = pd.read_csv('BasesConfirmados_Finales_Indices//COVID_2023_ENE_LIMPIA_INDICES_PNUD_CONRES.csv')\n",
    "doc_costera = pd.read_excel('coastal_complete_filtered_2018_CONRES.xlsx')\n",
    "doc_subterranea = pd.read_excel('groundwater_complete_filtered_2018_CONRES.xlsx')\n",
    "doc_lentica = pd.read_excel('lentic_complete_filtered_2018_CONRES.xlsx')\n",
    "doc_lotica = pd.read_excel('lotic_complete_filtered_2018_CONRES.xlsx')"
   ]
  },
  {
   "cell_type": "code",
   "execution_count": 162,
   "metadata": {},
   "outputs": [],
   "source": [
    "base_general = pd.read_csv('BasesConfirmados_Finales_Indices//COVID_GENERAL_LIMPIA_INDICES_PNUD_CONRES.csv')"
   ]
  },
  {
   "cell_type": "code",
   "execution_count": null,
   "metadata": {},
   "outputs": [],
   "source": [
    "def merge_agua_COVID(df_grande, df_pequeno):\n",
    "\n",
    "    # Unir con base en CLAVE_RES\n",
    "\n",
    "    df_grande = df_grande.copy()\n",
    "    df_pequeno = df_pequeno.copy()\n",
    "\n",
    "    # Obtener los valores únicos de CLAVE_RES en la base de datos\n",
    "\n",
    "    claves_unicas = df_grande['CLAVE_RES'].unique()\n",
    "\n",
    "    # Inicializar un df vacío para almacenar el resultado final\n",
    "\n",
    "    df_final = pd.DataFrame()\n",
    "\n",
    "    # Iterar sobre cada clave única de CLAVE_RES\n",
    "\n",
    "    for clave in claves_unicas:\n",
    "\n",
    "        # Filtrar ambos df por CLAVE_RES actual\n",
    "\n",
    "        registros_grande = df_grande[df_grande['CLAVE_RES'] == clave]\n",
    "        registros_pequeno = df_pequeno[df_pequeno['CLAVE_RES'] == clave]\n",
    "\n",
    "        # Si no hay registros en el df de calidad de agua para esa CLAVE_RES, continuar\n",
    "\n",
    "        if registros_pequeno.empty:\n",
    "            continue\n",
    "\n",
    "        # Número de registros en cada df\n",
    "\n",
    "        num_grande = len(registros_grande)\n",
    "        num_pequeno = len(registros_pequeno)\n",
    "\n",
    "        # Si hay más registros en la base anual que en el documento de agua, necesitamos repetir\n",
    "\n",
    "        if num_grande > num_pequeno:\n",
    "\n",
    "            # Repetir aleatoriamente los registros de calidad de agua hasta llenar en la base anual\n",
    "\n",
    "            repeticiones = np.ceil(num_grande / num_pequeno).astype(int)  # Calcular cuántas veces necesitamos repetir\n",
    "            registros_pequeno_repetidos = pd.concat([registros_pequeno] * repeticiones, ignore_index=True)\n",
    "\n",
    "            # Mezclar aleatoriamente los registros repetidos\n",
    "\n",
    "            registros_pequeno_repetidos = registros_pequeno_repetidos.sample(n=num_grande, replace=True).reset_index(drop=True)\n",
    "\n",
    "        else:\n",
    "\n",
    "            # Si hay menos o igual cantidad de registros en la base anual, tomar muestras aleatorias del df de agua\n",
    "            \n",
    "            registros_pequeno_repetidos = registros_pequeno.sample(n=num_grande, replace=False).reset_index(drop=True)\n",
    "\n",
    "\n",
    "        # Resetear los índices de los DataFrames para hacer la asignación uno a uno\n",
    "\n",
    "        registros_grande = registros_grande.reset_index(drop=True)   \n",
    "    \n",
    "        # Añadir las columnas del documento de agua a la base anual, de forma aleatoria\n",
    "\n",
    "        registros_grande = pd.concat([registros_grande, registros_pequeno_repetidos.drop(columns='CLAVE_RES').reset_index(drop=True)], axis=1)\n",
    "\n",
    "        # Concatenar los registros al df final\n",
    "\n",
    "        df_final = pd.concat([df_final, registros_grande], ignore_index=True)\n",
    "        \n",
    "\n",
    "    return df_final"
   ]
  },
  {
   "cell_type": "markdown",
   "metadata": {},
   "source": [
    "Ejemplo de uso"
   ]
  },
  {
   "cell_type": "code",
   "execution_count": null,
   "metadata": {},
   "outputs": [
    {
     "data": {
      "text/plain": [
       "Index(['SEXO', 'TIPO_PACIENTE', 'FECHA_SINTOMAS', 'INTUBADO', 'NEUMONIA',\n",
       "       'DIABETES', 'EPOC', 'ASMA', 'INMUSUPR', 'HIPERTENSION',\n",
       "       'CARDIOVASCULAR', 'OBESIDAD', 'RENAL_CRONICA', 'TABAQUISMO',\n",
       "       'OTRO_CASO', 'UCI', '0_9', '10_19', '20_29', '30_39', '40_49', '50_59',\n",
       "       '60_69', '70_MAS', 'CLAVE_RES', 'IDH_VALOR', 'SS_VALOR', 'SI_VALOR',\n",
       "       'IDH_BAJO', 'IDH_MEDIO', 'IDH_ALTO', 'IDH_MUY_ALTO', 'SS_BAJO',\n",
       "       'SS_MEDIO', 'SS_ALTO', 'SS_MUY_ALTO', 'SI_BAJO', 'SI_MEDIO', 'SI_ALTO',\n",
       "       'SI_MUY_ALTO', 'UM_IMSS', 'UM_ISSTE', 'UM_MILITAR', 'UM_PRIVADA',\n",
       "       'UM_SSA', 'UM_OTRAS', 'DEFUNCION', 'gw_comp_Alk', 'gw_comp_Cond',\n",
       "       'gw_comp_Hard', 'gw_comp_TDS', 'gw_comp_Fe', 'gw_comp_Mn', 'gw_comp_F',\n",
       "       'gw_comp_FC', 'gw_comp_NO3N', 'gw_comp_As', 'gw_comp_Cd', 'gw_comp_Cr',\n",
       "       'gw_comp_Hg', 'gw_comp_Pb', 'CA_SUB_MALA', 'CA_SUB_REGULAR',\n",
       "       'CA_SUB_BUENA'],\n",
       "      dtype='object')"
      ]
     },
     "execution_count": 170,
     "metadata": {},
     "output_type": "execute_result"
    }
   ],
   "source": [
    "doc_subterranea.drop(columns=['SE_2020', 'LATITUD', 'LONGITUD', 'AÑO'], inplace=True)\n",
    "sub_general = merge_agua_COVID(base_general, doc_subterranea)\n",
    "sub_general.columns"
   ]
  },
  {
   "cell_type": "code",
   "execution_count": null,
   "metadata": {},
   "outputs": [],
   "source": [
    "gw_anual_2021 = merge_agua_COVID(base_anual_2021, doc_lotica)\n",
    "gw_anual_2022 = merge_agua_COVID(base_anual_2022, doc_lotica)\n",
    "gw_anual_2023 = merge_agua_COVID(base_anual_2023, doc_lotica)"
   ]
  },
  {
   "cell_type": "markdown",
   "metadata": {},
   "source": [
    "## Creación de conjuntos generales"
   ]
  },
  {
   "cell_type": "code",
   "execution_count": null,
   "metadata": {},
   "outputs": [],
   "source": [
    "anual_2020 = pd.read_csv('RUTA')\n",
    "anual_2021 = pd.read_csv('RUTA')\n",
    "anual_2022 = pd.read_csv('RUTA')\n",
    "anual_2023 = pd.read_csv('RUTA')"
   ]
  },
  {
   "cell_type": "code",
   "execution_count": 4,
   "metadata": {},
   "outputs": [],
   "source": [
    "generales=[anual_2020, anual_2021, anual_2022, anual_2023]\n",
    "\n",
    "concatenado = pd.concat(generales, ignore_index=True)"
   ]
  },
  {
   "cell_type": "markdown",
   "metadata": {},
   "source": [
    "# Mapas"
   ]
  },
  {
   "cell_type": "markdown",
   "metadata": {},
   "source": [
    "En esta sección se provee una visualización de los datos utilizados en mapas (es necesario instalar folium)"
   ]
  },
  {
   "cell_type": "code",
   "execution_count": 2,
   "metadata": {},
   "outputs": [],
   "source": [
    "import folium\n",
    "from folium import plugins"
   ]
  },
  {
   "cell_type": "code",
   "execution_count": null,
   "metadata": {},
   "outputs": [],
   "source": [
    "documento_coastal = pd.read_excel('RUTA')\n",
    "documento_groundwater = pd.read_excel('RUTA')\n",
    "documento_lentic= pd.read_excel('RUTA')\n",
    "documento_lotic = pd.read_excel('RUTA')"
   ]
  },
  {
   "cell_type": "code",
   "execution_count": null,
   "metadata": {},
   "outputs": [],
   "source": [
    "df = documento_lotic\n",
    "df = df.dropna(subset=['LATITUD', 'LONGITUD'])\n",
    "df = df.drop_duplicates(subset=['LATITUD', 'LONGITUD'])\n",
    "\n",
    "# Asignar los colores\n",
    "def obtener_color(valor_agua):\n",
    "    if valor_agua == 1:\n",
    "        return 'firebrick' # \"Poor\"\n",
    "    elif valor_agua == 2:\n",
    "        return 'gold'   # \"Regular\"\n",
    "    elif valor_agua == 3:\n",
    "        return 'green'  # \"Good\"\n",
    "    else:\n",
    "        return 'gray' \n",
    "\n",
    "agrupados = df.groupby(['LATITUD', 'LONGITUD'])['VALOR_AGUA_LOTICA'].agg(lambda x: x.mode()[0] if len(x.mode()) == 1 else random.choice(x.mode())).reset_index()\n",
    "\n",
    "mapa = folium.Map(location=[df['LATITUD'].mean(), df['LONGITUD'].mean()], zoom_start=6,\n",
    "                  tiles='CartoDB positron',\n",
    "                  )\n",
    "\n",
    "# Agregar un círculo para cada registro\n",
    "for index, row in agrupados.iterrows():\n",
    "    color = obtener_color(row['VALOR_AGUA_LOTICA'])  # Determinar el color en función del valor de VALOR_AGUA\n",
    "    folium.CircleMarker(\n",
    "        location=[row['LATITUD'], row['LONGITUD']],  # Coordenadas\n",
    "        radius=7,  # Tamaño del círculo\n",
    "        color=color,  # Color del borde\n",
    "        fill=True,  # Relleno dentro del círculo\n",
    "        fill_color=color,  # Color de relleno\n",
    "        fill_opacity=0.6,  # Opacidad del relleno\n",
    "        popup=f\"Ubicación: {row['LATITUD']}, {row['LONGITUD']}<br>Valor de agua: {row['VALOR_AGUA_LOTICA']}\",\n",
    "    ).add_to(mapa)\n",
    "\n",
    "mapa\n",
    "mapa.save('mapa_lot_2018_final.html')"
   ]
  }
 ],
 "metadata": {
  "colab": {
   "provenance": []
  },
  "kernelspec": {
   "display_name": "modelos",
   "language": "python",
   "name": "python3"
  },
  "language_info": {
   "codemirror_mode": {
    "name": "ipython",
    "version": 3
   },
   "file_extension": ".py",
   "mimetype": "text/x-python",
   "name": "python",
   "nbconvert_exporter": "python",
   "pygments_lexer": "ipython3",
   "version": "3.12.2"
  }
 },
 "nbformat": 4,
 "nbformat_minor": 0
}

{
  "nbformat": 4,
  "nbformat_minor": 0,
  "metadata": {
    "colab": {
      "provenance": []
    },
    "kernelspec": {
      "name": "python3",
      "display_name": "Python 3"
    },
    "language_info": {
      "name": "python"
    }
  },
  "cells": [
    {
      "cell_type": "code",
      "execution_count": null,
      "metadata": {
        "id": "fib_LnuYToSK"
      },
      "outputs": [],
      "source": [
        "import numpy as np\n",
        "import pandas as pd\n",
        "import matplotlib.pyplot as plt\n",
        "import missingno as msno\n",
        "import tensorflow as tf"
      ]
    },
    {
      "cell_type": "markdown",
      "source": [
        "# **Obtención de bases de datos**"
      ],
      "metadata": {
        "id": "VAPE-fpjT10Q"
      }
    },
    {
      "cell_type": "markdown",
      "source": [
        "La bases de datos se obtuvieron de https://www.gob.mx/salud/documentos/datos-abiertos-bases-historicas-direccion-general-de-epidemiologia\n",
        "A pesar de contar con registro histórico, los años 2024 y 2023 se encuentran separados por mes, por lo que se concatenaron para trabajar sobre un solo csv anual.\n",
        "Se usará una técnica análoga para trabajar por olas y para la general."
      ],
      "metadata": {
        "id": "hyuxJOBnTwW5"
      }
    },
    {
      "cell_type": "markdown",
      "source": [
        "# **Creación de bases anuales**"
      ],
      "metadata": {
        "id": "yxyHWGlPUAxm"
      }
    },
    {
      "cell_type": "markdown",
      "source": [
        "NOTA: No es necesario correr los siguientes bloques, las bases anuales ya fueron generadas."
      ],
      "metadata": {
        "id": "eIK6X6GgUKlG"
      }
    },
    {
      "cell_type": "code",
      "source": [
        "# BASE ANUAL 2024\n",
        "\n",
        "# Cargar ambos archivos csv en dataframes\n",
        "db24ene = pd.read_csv('RUTA')\n",
        "db24feb = pd.read_csv('RUTA')\n",
        "\n",
        "# Concatenar los dfs eliminando el encabezado\n",
        "df_concatenado = pd.concat([db24ene, db24feb], ignore_index=True)\n",
        "\n",
        "# Guardar en un nuevo archivo\n",
        "df_concatenado.to_csv('COVID_2024.csv', index=False)"
      ],
      "metadata": {
        "id": "7f4IVkMYUXHC"
      },
      "execution_count": null,
      "outputs": []
    },
    {
      "cell_type": "code",
      "source": [
        "# BASE ANUAL 2023\n",
        "\n",
        "db23ene = pd.read_csv('RUTA')\n",
        "db23feb = pd.read_csv('RUTA')\n",
        "db23mar = pd.read_csv('RUTA')\n",
        "db23abr = pd.read_csv('RUTA')\n",
        "db23may = pd.read_csv('RUTA')\n",
        "db23jun = pd.read_csv('RUTA')\n",
        "db23jul = pd.read_csv('RUTA')\n",
        "db23ago = pd.read_csv('RUTA')\n",
        "db23sep = pd.read_csv('RUTA')\n",
        "db23oct = pd.read_csv('RUTA')\n",
        "db23nov = pd.read_csv('RUTA')\n",
        "db23dic = pd.read_csv('RUTA')\n",
        "\n",
        "df_concatenado2 = pd.concat([db23ene, db23feb, db23mar, db23abr, db23may, db23jun, db23jul, db23ago, db23sep, db23oct, db23nov, db23dic], ignore_index=True)\n",
        "\n",
        "df_concatenado2.to_csv('COVID_2023.csv', index=False)"
      ],
      "metadata": {
        "id": "_FKYJhG2UqW1"
      },
      "execution_count": null,
      "outputs": []
    },
    {
      "cell_type": "markdown",
      "source": [
        "Las bases anuales 2020, 2021 y 2022 ya se encuentran disponibles, por lo que no es necesario crearlas."
      ],
      "metadata": {
        "id": "KxsSChpVVX48"
      }
    },
    {
      "cell_type": "markdown",
      "source": [
        "# **Análisis de valores nulos y desbalance de clases**"
      ],
      "metadata": {
        "id": "pQEw8LdZdZ15"
      }
    },
    {
      "cell_type": "markdown",
      "source": [
        "Los datos faltantes están representados con un valor numérico según lo descrito por el diccionario. Para representarlos utilizando la matriz de ausencia, es necesario cambiar dichos valores en cada variable según aplique."
      ],
      "metadata": {
        "id": "qAmcl8G4dgKY"
      }
    },
    {
      "cell_type": "code",
      "source": [
        "def reemplazar_a_nulos(df, columnas, valor_a_reemplazar):\n",
        "\n",
        "    # columnas: Lista de nombres de columna\n",
        "    # valor_a_reemplazar: Lista de valores que se cambiarán a NaN\n",
        "\n",
        "    for col in columnas:\n",
        "        df[col].replace(valor_a_reemplazar, np.nan, inplace=True)\n",
        "\n",
        "    return df"
      ],
      "metadata": {
        "id": "9w4ysgHTeEED"
      },
      "execution_count": null,
      "outputs": []
    },
    {
      "cell_type": "code",
      "source": [
        "# Listas de variables, guiado por el archivo 'Catálogo' del diccionario\n",
        "\n",
        "columnas_99 = ['SEXO', 'SECTOR', 'TIPO_PACIENTE']\n",
        "valores_99 = [99]\n",
        "\n",
        "columnas_98_99 = ['INTUBADO', 'OTRO_CASO', 'UCI', 'INDIGENA']\n",
        "valores_98_99 = [98, 99]\n",
        "\n",
        "columnas_97_98_99 = [\n",
        "    'NEUMONIA', 'DIABETES', 'EPOC', 'ASMA', 'INMUSUPR', 'HIPERTENSION', 'CARDIOVASCULAR',\n",
        "    'OBESIDAD', 'RENAL_CRONICA', 'TABAQUISMO'\n",
        "]\n",
        "valores_97_98_99 = [97, 98, 99]\n",
        "\n",
        "columnas_entidad = ['ENTIDAD_RES']\n",
        "valores_entidad = [36, 97, 98, 99]\n",
        "\n",
        "columnas_municipio = ['MUNICIPIO_RES']\n",
        "valores_municipio = [999]"
      ],
      "metadata": {
        "id": "EqBzcxMXeRmD"
      },
      "execution_count": null,
      "outputs": []
    },
    {
      "cell_type": "code",
      "source": [
        "# Ejemplo de uso\n",
        "\n",
        "nulos_2020 = reemplazar_a_nulos(db2020, columnas_99, valores_99)\n",
        "nulos_2020 = reemplazar_a_nulos(nulos_2020, columnas_98_99, valores_98_99)\n",
        "nulos_2020 = reemplazar_a_nulos(nulos_2020, columnas_97_98_99, valores_97_98_99)\n",
        "nulos_2020 = reemplazar_a_nulos(nulos_2020, columnas_entidad, valores_entidad)\n",
        "nulos_2020 = reemplazar_a_nulos(nulos_2020, columnas_municipio, valores_municipio)\n"
      ],
      "metadata": {
        "id": "NMeLWeMKeepV"
      },
      "execution_count": null,
      "outputs": []
    },
    {
      "cell_type": "markdown",
      "source": [
        "**Nullity matrix**"
      ],
      "metadata": {
        "id": "b0e0q3XsexJX"
      }
    },
    {
      "cell_type": "code",
      "source": [
        "def comparar_datos_faltantes(df):\n",
        "\n",
        "    msno.matrix(df, figsize=(15, 8), sparkline=False, fontsize=8, labels=True)\n",
        "    plt.title('Nullity Matrix: BD anual', fontsize=14)\n",
        "    plt.show()"
      ],
      "metadata": {
        "id": "1HW1PdqUewMn"
      },
      "execution_count": null,
      "outputs": []
    },
    {
      "cell_type": "markdown",
      "source": [
        "**Desbalance de clases**\n",
        "\n",
        "De forma similar, podemos representar con la misma matriz la variable principal que causa un desbalance de clases grave, la cual es **FECHA_DEF**  \n",
        "Recordando que el valor 9999-99-99 indica que el paciente no falleció, mostremos cuántos registros existen con dicho valor."
      ],
      "metadata": {
        "id": "Uacm_B3VfLKz"
      }
    },
    {
      "cell_type": "code",
      "source": [
        "def reemplazar_fecha_a_nulos(df, columnas, valor_a_reemplazar):\n",
        "\n",
        "    for col in columnas:\n",
        "        df[col] = df[col].astype(str)\n",
        "        df[col].replace(valor_a_reemplazar, np.nan, inplace=True)\n",
        "\n",
        "    return df"
      ],
      "metadata": {
        "id": "Wo4GY8UAf2vh"
      },
      "execution_count": null,
      "outputs": []
    },
    {
      "cell_type": "code",
      "source": [
        "columnas_defuncion = ['FECHA_DEF']\n",
        "valores_defuncion = ['9999-99-99']"
      ],
      "metadata": {
        "id": "YEujwo6EgAD4"
      },
      "execution_count": null,
      "outputs": []
    },
    {
      "cell_type": "code",
      "source": [
        "# Ejemplo de uso\n",
        "\n",
        "nulo_def_2020 = reemplazar_fecha_a_nulos(db2020, columnas_defuncion, valores_defuncion)"
      ],
      "metadata": {
        "id": "Ba4GI3gCgKuU"
      },
      "execution_count": null,
      "outputs": []
    },
    {
      "cell_type": "code",
      "source": [
        "comparar_datos_faltantes(nulo_def_2020)"
      ],
      "metadata": {
        "id": "EbNpp6l_gIKI"
      },
      "execution_count": null,
      "outputs": []
    },
    {
      "cell_type": "markdown",
      "source": [
        "**Dendograma**"
      ],
      "metadata": {
        "id": "XI2dwGp8hK9f"
      }
    },
    {
      "cell_type": "code",
      "source": [
        "def dendrograma(df):\n",
        "\n",
        "    msno.dendrogram(df)\n",
        "    plt.title('Dendrograma de datos faltantes', fontsize=14)\n",
        "    plt.show()"
      ],
      "metadata": {
        "id": "gfXZOe0PhOa3"
      },
      "execution_count": null,
      "outputs": []
    },
    {
      "cell_type": "markdown",
      "source": [
        "# **Preprocesamiento**"
      ],
      "metadata": {
        "id": "tnipmyZ4VkMP"
      }
    },
    {
      "cell_type": "markdown",
      "source": [
        "**1. Eliminación de casos no positivos**\n",
        "\n",
        "Eliminar registros de pacientes no-positivos, esto corresponde a un valor de 4 o superior (hasta 7) en la variable CLASIFICACION_FINAL.\n",
        "Deseamos hacerlo para todas las bases anuales."
      ],
      "metadata": {
        "id": "35du41TBVo42"
      }
    },
    {
      "cell_type": "code",
      "source": [
        "def eliminar_no_positivos(df):\n",
        "\n",
        "    # Debug previo\n",
        "    total_registros = df.shape[0]\n",
        "    print(\"Registros antes de filtrar por casos positivos: \", total_registros)\n",
        "\n",
        "    df = df[df['CLASIFICACION_FINAL'] < 4]\n",
        "\n",
        "    # Debug posterior\n",
        "    total_registros_filtrados = df_positivo.shape[0]\n",
        "    print(\"Registros luego de filtrar por casos positivos: \", total_registros_filtrados)\n",
        "\n",
        "    return df"
      ],
      "metadata": {
        "id": "nzjS6wCLWeF8"
      },
      "execution_count": null,
      "outputs": []
    },
    {
      "cell_type": "markdown",
      "source": [
        "Creación de archivo nuevo para reducir el tamaño y trabajar posteriormente"
      ],
      "metadata": {
        "id": "kO7cE5qkip06"
      }
    },
    {
      "cell_type": "code",
      "source": [
        "df.to_csv('COVID_2020_CONFIRMADOS.csv', index=False)"
      ],
      "metadata": {
        "id": "O4eQzg3ligv6"
      },
      "execution_count": null,
      "outputs": []
    },
    {
      "cell_type": "markdown",
      "source": [
        "Análisis de reducción de registros\n",
        "\n",
        "*Base anual 2020*  \n",
        "Registros antes de filtrar por casos positivos:  3,868,396  \n",
        "Registros luego de filtrar por casos positivos:  1,563,135 (40.40%)\n",
        "\n",
        "*Base anual 2021*  \n",
        "Registros antes de filtrar por casos positivos:  8,830,345  \n",
        "Registros luego de filtrar por casos positivos:  2,526,649 (28.61%)\n",
        "\n",
        "*Base anual 2022*  \n",
        "Registros antes de filtrar por casos positivos:  6,451,944  \n",
        "Registros luego de filtrar por casos positivos:  3,195,409 (49.52%)\n",
        "\n",
        "*Base enero 2023*  \n",
        "Registros antes de filtrar por casos positivos:  6,669,733  \n",
        "Registros luego de filtrar por casos positivos:  3,283,180 (49.22%)\n",
        "\n",
        "*Base febrero 2023*  \n",
        "Registros antes de filtrar por casos positivos:  6,884,449  \n",
        "Registros luego de filtrar por casos positivos:  3,365,985 (48.89%)\n",
        "\n",
        "*Base marzo 2023*  \n",
        "Registros antes de filtrar por casos positivos:  7,070,534  \n",
        "Registros luego de filtrar por casos positivos:  3,441,901 (48.67%)\n",
        "\n",
        "*Base abril 2023*  \n",
        "Registros antes de filtrar por casos positivos:  7,205,138  \n",
        "Registros luego de filtrar por casos positivos:  3,489,417 (48.42%)\n",
        "\n",
        "*Base mayo 2023*  \n",
        "Registros antes de filtrar por casos positivos:  7,345,960  \n",
        "Registros luego de filtrar por casos positivos:  3,530,121 (48.05%)\n",
        "\n",
        "*Base junio 2023*  \n",
        "Registros antes de filtrar por casos positivos:  954,148  \n",
        "Registros luego de filtrar por casos positivos:  348,924 (36.56%)\n",
        "\n",
        "*Base julio 2023*  \n",
        "Registros antes de filtrar por casos positivos:  996,403  \n",
        "Registros luego de filtrar por casos positivos:  360,525 (36.18%)\n",
        "\n",
        "*Base agosto 2023*  \n",
        "Registros antes de filtrar por casos positivos:  1,070,214  \n",
        "Registros luego de filtrar por casos positivos:  391,292 (36.56%)\n",
        "\n",
        "*Base septiembre 2023*  \n",
        "Registros antes de filtrar por casos positivos:  1,155,416  \n",
        "Registros luego de filtrar por casos positivos:  423,632 (36.66%)\n",
        "\n",
        "*Base octubre 2023*  \n",
        "Registros antes de filtrar por casos positivos:  1,183,124  \n",
        "Registros luego de filtrar por casos positivos:  427,377 (36.12%)\n",
        "\n",
        "*Base noviembre 2023*  \n",
        "Registros antes de filtrar por casos positivos:  1,199,527  \n",
        "Registros luego de filtrar por casos positivos:  427,756 (35.66%)\n",
        "\n",
        "*Base diciembre de 2023*  \n",
        "Registros antes de filtrar por casos positivos:  1,216,831  \n",
        "Registros luego de filtrar por casos positivos:  428,177 (35.18%)\n",
        "\n",
        "*Base anual 2023*  \n",
        "Registros antes de filtrar por casos positivos:  42,951,477  \n",
        "Registros luego de filtrar por casos positivos:  19,918,287 (46.37%)\n",
        "\n",
        "Base anual 2024 (enero-febrero)  \n",
        "Registros antes de filtrar por casos positivos:  2,486,160  \n",
        "Registros luego de filtrar por casos positivos:  859,334 (34.56%)"
      ],
      "metadata": {
        "id": "JgXuvQfNbvxT"
      }
    },
    {
      "cell_type": "markdown",
      "source": [
        "**2. Selección de variables y acciones individuales**\n",
        "\n",
        "Seleccionar las variables de interés para este trabajo, eliminación de registros y cambios de valores según aplique. La siguiente información se encuentra en *diccionario_datos_covid19*\n",
        "\n",
        "La variables seleccionadas son:\n",
        "\n",
        "1.   **SECTOR**: Identifica el tipo de institución del Sistema Nacional de Salud que brindó la atención. Tipo: int ([1-13], 99)\n",
        "Se desea eliminar registros con 99 (\"no especificado\")\n",
        "2.   **SEXO**: Identifica al sexo del paciente. Tipo: int (1-mujer, 2-hombre, 99-no especificado)\n",
        "Eliminar registros con 99\n",
        "3.   **ENTIDAD_RES**: Identifica la entidad de residencia del paciente. Tipo: int ([01-32], 36, 97, 98, 99)\n",
        "Eliminar registros con 36 (\"República Mexicana\"), 97 (\"no aplica\"), 98 (\"se ignora\") y 99 (\"no especificado\")\n",
        "4.   **MUNICIPIO_RES**: Identifica la entidad de residencia del paciente. Tipo: int (clave por municipio)\n",
        "Eliminar registros con 999 (\"no especificado\")\n",
        "5.   **TIPO_PACIENTE**: Identifica el tipo de atención que recibió el paciente en la unidad. Ambulatorio (regresó a casa) u hospitalizado. Tipo: int (1-ambulatorio, 2-hospitalizado, 99-no especificado)\n",
        "Eliminar registros con 99\n",
        "6.   **FECHA_SINTOMAS**: Identiifica la fecha en que inició la sintomatología del paciente. Tipo: string con formato AAAA-MM-DD\n",
        "Se verificó que no existieran registros nulos\n",
        "7.   **FECHA_DEF**: Identifica la fecha en que el paciente falleció. Tipo: string con formato AAAA-MM-DD\n",
        "Se identificó que 9999-99-99 funge como (\"no aplica\")\n",
        "8.   **INTUBADO**: Identifica si el paciente requirió de intubación. Tipo: int (1-si, 2-no, 97-no aplica, 98-se ignora, 99-no especificado)\n",
        "Se cambiará cada instancia de 97 por 2, eliminar registros con 98 y 99\n",
        "9.   **NEUMONIA**: Identifica si al paciente se le diagnosticó con neumonía. Tipo: int (1-si, 2-no, 97-no aplica, 98-se ignora, 99-no especificado)\n",
        "Eliminar registros con 97, 98 y 99.\n",
        "10.   **EDAD**: Identifica la edad del paciente. Tipo: int\n",
        "Se aceptan registros con valor 0\n",
        "11.   **DIABETES**: Identifica si el paciente tiene un diagnóstico de diabetes. Tipo: int (1-si, 2-no, 97-no aplica, 98-se ignora, 99-no especificado)\n",
        "Eliminar registros con 97, 98 y 99.\n",
        "12.   **EPOC**: Identifica si el paciente tiene un diagnóstico de EPOC. Tipo: int (1-si, 2-no, 97-no aplica, 98-se ignora, 99-no especificado)\n",
        "Eliminar registros con 97, 98 y 99.\n",
        "13.   **ASMA**: Identifica si el paciente tiene un diagnóstico de asma. Tipo: int (1-si, 2-no, 97-no aplica, 98-se ignora, 99-no especificado)\n",
        "Eliminar registros con 97, 98 y 99.\n",
        "14.   **INMUSUPR**: Identifica si el paciente presenta inmunosupresión. Tipo: int (1-si, 2-no, 97-no aplica, 98-se ignora, 99-no especificado)\n",
        "Eliminar registros con 97, 98 y 99.\n",
        "15.   **HIPERTENSION**: Identifica si el paciente tiene un diagnóstico de hipertensión.\n",
        "Eliminar registros con 97, 98 y 99.\n",
        "16.   **CARDIOVASCULAR**: Identifica si el paciente tiene un diagnóstico de enfermedades cardiovasculares.\n",
        "Eliminar registros con 97, 98 y 99.\n",
        "17.   **OBESIDAD**: Identifica si el paciente tiene diagnóstico de obesidad.\n",
        "Eliminar registros con 97, 98 y 99.\n",
        "18.   **RENAL_CRONICA**: Identifica si el paciente tiene diagnóstico de insuficiencia renal crónica.\n",
        "Eliminar registros con 97, 98 y 99.\n",
        "19.   **TABAQUISMO**: Identifica si el paciente tiene hábito de tabaquismo.\n",
        "Eliminar registros con 97, 98 y 99.\n",
        "20.   **OTRO_CASO**: Identifica si el paciente tuvo contacto con algún otro caso diagnósticado con SARS CoV-2\n",
        "Se cambiará cada instancia de 97 por 2, eliminar registros con 98 y 99.\n",
        "21.   **CLASIFICACION_FINAL**: Identifica si el paciente es un caso de COVID-19 según el catálogo \"CLASIFICACION_FINAL\". Tipo: int ([1-3]-positivo, [4-7]-negativo)\n",
        "Utilizada como primer filtro para casos positivos\n",
        "22.   **UCI**: Identifica si el paciente requirió ingresar a una Unidad de Cuidados Intensivos. Tipo: int (1-si, 2-no, 97-no aplica, 98-se ignora, 99-no especificado)\n",
        "Se cambiará cada instancia de 97 por 2, eliminar registros con 98 y 99.\n",
        "\n",
        "\n"
      ],
      "metadata": {
        "id": "TINUg8tFXHUx"
      }
    },
    {
      "cell_type": "code",
      "source": [
        "# Selección de variables a conservar\n",
        "\n",
        "variables_elegidas = ['SECTOR', 'SEXO', 'ENTIDAD_RES', 'MUNICIPIO_RES', 'TIPO_PACIENTE',\n",
        "                       'FECHA_INGRESO', 'FECHA_SINTOMAS', 'FECHA_DEF', 'INTUBADO', 'NEUMONIA',\n",
        "                       'EDAD', 'DIABETES', 'EPOC', 'ASMA', 'INMUSUPR',\n",
        "                       'HIPERTENSION', 'CARDIOVASCULAR', 'OBESIDAD',\n",
        "                       'RENAL_CRONICA', 'TABAQUISMO', 'OTRO_CASO', 'UCI']"
      ],
      "metadata": {
        "id": "MoSQm03ehXAh"
      },
      "execution_count": null,
      "outputs": []
    },
    {
      "cell_type": "code",
      "source": [
        "def reducir_variables(df, variables):\n",
        "\n",
        "    # variables: lista de columnas seleccionadas\n",
        "\n",
        "    df_reducido = df.loc[:, variables].copy()\n",
        "    return df_reducido"
      ],
      "metadata": {
        "id": "DEW5eFlChnjV"
      },
      "execution_count": null,
      "outputs": []
    },
    {
      "cell_type": "markdown",
      "source": [
        "Eliminación de registros con valores indeseables"
      ],
      "metadata": {
        "id": "pctlQ2WAh8MX"
      }
    },
    {
      "cell_type": "code",
      "source": [
        "def limpieza_registros(df):\n",
        "\n",
        "    print(\"Número de registros antes del preprocesamiento:\", len(df))\n",
        "\n",
        "    remover_99 = ['SEXO', 'SECTOR', 'TIPO_PACIENTE']\n",
        "    for col in remover_99:\n",
        "        df = df[df[col] != 99]\n",
        "\n",
        "    remover_98_99 = ['INTUBADO', 'OTRO_CASO', 'UCI']\n",
        "    for col in remover_98_99:\n",
        "        df = df[~df[col].isin([98, 99])]\n",
        "\n",
        "    remover_97_98_99 = ['NEUMONIA', 'DIABETES', 'EPOC', 'ASMA', 'INMUSUPR', 'HIPERTENSION',\n",
        "                       'CARDIOVASCULAR', 'OBESIDAD', 'RENAL_CRONICA', 'TABAQUISMO']\n",
        "    for col in remover_97_98_99:\n",
        "        df = df[~df[col].isin([97, 98, 99])]\n",
        "\n",
        "    df = df[~df['ENTIDAD_RES'].isin([36, 97, 98, 99])]\n",
        "\n",
        "    df = df[df['MUNICIPIO_RES'] != 999]\n",
        "\n",
        "    reemplazar_97 = ['INTUBADO', 'OTRO_CASO', 'UCI']\n",
        "    for col in reemplazar_97:\n",
        "        df[col] = df[col].replace(97, 2)\n",
        "\n",
        "    print(\"Número de registros después del preprocesamiento:\", len(df))\n",
        "\n",
        "    return df"
      ],
      "metadata": {
        "id": "QO-MaHTViB_N"
      },
      "execution_count": null,
      "outputs": []
    },
    {
      "cell_type": "code",
      "source": [
        "# Ejemplo de uso\n",
        "\n",
        "db_var_red = reducir_variables(db2020_positivos, variables_elegidas)\n",
        "db_reducida = limpieza_registros(db_var_red)\n",
        "db_reducida.to_csv('COVID_2020_CONFIRMADOS_REDUCIDA')"
      ],
      "metadata": {
        "id": "oJNFjL2VjPiy"
      },
      "execution_count": null,
      "outputs": []
    },
    {
      "cell_type": "markdown",
      "source": [
        "# **3. Ingeniería de variables**\n",
        "\n",
        "**3.1. Rangos de edad**\n",
        "\n",
        "Se toma como referencia los rangos de edad proporcionados por la información general de Covid-19 en México\n",
        "https://datos.covid-19.conacyt.mx/\n",
        "\n",
        "En vez de rangos de edad cada 5 años, se consideran 10."
      ],
      "metadata": {
        "id": "id52aQAz0G2c"
      }
    },
    {
      "cell_type": "code",
      "source": [
        "def agregar_variables_edad(df):\n",
        "\n",
        "    # Definir los rangos de edad\n",
        "\n",
        "    df['0_9'] = (df['EDAD'] >= 0) & (df['EDAD'] <= 9)\n",
        "    df['10_19'] = (df['EDAD'] >= 10) & (df['EDAD'] <= 19)\n",
        "    df['20_29'] = (df['EDAD'] >= 20) & (df['EDAD'] <= 49)\n",
        "    df['30_39'] = (df['EDAD'] >= 30) & (df['EDAD'] <= 39)\n",
        "    df['40_49'] = (df['EDAD'] >= 40) & (df['EDAD'] <= 49)\n",
        "    df['50_59'] = (df['EDAD'] >= 50) & (df['EDAD'] <= 59)\n",
        "    df['60_69'] = (df['EDAD'] >= 60) & (df['EDAD'] <= 69)\n",
        "    df['70_MAS'] = (df['EDAD'] >= 70)\n",
        "\n",
        "    # Convertir los booleanos a enteros\n",
        "\n",
        "    df['0_9'] = df['0_9'].astype(int)\n",
        "    df['10_19'] = df['10_19'].astype(int)\n",
        "    df['20_29'] = df['20_29'].astype(int)\n",
        "    df['30_39'] = df['30_39'].astype(int)\n",
        "    df['40_49'] = df['40_49'].astype(int)\n",
        "    df['50_59'] = df['50_59'].astype(int)\n",
        "    df['60_69'] = df['60_69'].astype(int)\n",
        "    df['70_MAS'] = df['70_MAS'].astype(int)\n",
        "\n",
        "    return df"
      ],
      "metadata": {
        "id": "rLnvmngW0XXs"
      },
      "execution_count": null,
      "outputs": []
    },
    {
      "cell_type": "markdown",
      "source": [
        "**3.2. Asignación de valores de IDH por municipio**\n",
        "\n",
        "La información obtenida está actualizada al último valor publicado por el programa de las Naciones Unidad para el Desarrollo (PNUD) en México.\n",
        "\n",
        "Recurso: https://docs.google.com/spreadsheets/d/1HLYIfCnhQQ1Tm3JJgmpEAJrDD_TqRYxc/edit?gid=1279528506#gid=1279528506  \n",
        "Informe: https://mexico.un.org/sites/default/files/2023-02/INFORME_PNUD_2022_electronico-Portadas-compressed.pdf\n",
        "\n",
        "Para lo cual fue necesario crear una variable llamada **CLAVE_RES** que unifica las variables **ENTIDAD_RES** y **MUNICIPIO_RES** en ese orden, para así asignar en una nueva variable **IDH_VALOR** tal y como lo provee esta institución."
      ],
      "metadata": {
        "id": "aEfAxYyr0iIe"
      }
    },
    {
      "cell_type": "code",
      "source": [
        "# Leer el archivo de Excel con CLAVE_MUNICIPIO e IDH_2020\n",
        "\n",
        "idh_datos = pd.read_excel('Resultados_IDH.xlsx', names=['CLAVE_MUNICIPIO', 'IDH_2020'], skiprows=0)"
      ],
      "metadata": {
        "id": "YVQWRYOY33z7"
      },
      "execution_count": null,
      "outputs": []
    },
    {
      "cell_type": "code",
      "source": [
        "def generar_clave_res(df):\n",
        "\n",
        "    # Convertir las columnas a string y rellenar con ceros a la izquierda si es necesario\n",
        "\n",
        "    df['ENTIDAD_RES'] = df['ENTIDAD_RES'].astype(str).str.zfill(2)  # Asegura que 'ENTIDAD_RES' tenga 2 dígitos\n",
        "    df['MUNICIPIO_RES'] = df['MUNICIPIO_RES'].astype(str).str.zfill(3)  # Asegura que 'MUNICIPIO_RES' tenga 3 dígitos\n",
        "\n",
        "    # Concatenar las dos columnas para crear 'CLAVE_RES'\n",
        "\n",
        "    df['CLAVE_RES'] = df['ENTIDAD_RES'] + df['MUNICIPIO_RES']\n",
        "\n",
        "    return df"
      ],
      "metadata": {
        "id": "dYaXt17n3r69"
      },
      "execution_count": null,
      "outputs": []
    },
    {
      "cell_type": "code",
      "source": [
        "def agregar_idh_valor(df, idh_datos):\n",
        "\n",
        "    # Asegurarse de que las columnas sean del tipo string de largo 5\n",
        "\n",
        "    df['CLAVE_RES'] = df['CLAVE_RES'].astype(str).str.zfill(5).str.strip()\n",
        "    idh_datos['CLAVE_MUNICIPIO'] = idh_datos['CLAVE_MUNICIPIO'].astype(str).str.zfill(5).str.strip()\n",
        "\n",
        "    # Verificar los tipos de datos antes del merge\n",
        "\n",
        "    print(\"Tipo de dato de CLAVE_RES:\", df['CLAVE_RES'].dtype)\n",
        "    print(\"Tipo de dato de CLAVE_MUNICIPIO:\", idh_datos['CLAVE_MUNICIPIO'].dtype)\n",
        "\n",
        "    # Realizar el merge utilizando CLAVE_RES y CLAVE_MUNICIPIO\n",
        "\n",
        "    df_con_idh = df.merge(idh_datos, left_on='CLAVE_RES', right_on='CLAVE_MUNICIPIO', how='left')\n",
        "\n",
        "    # Renombrar la columna IDH_2020 a IDH_VALOR\n",
        "\n",
        "    df_con_idh.rename(columns={'IDH_2020': 'IDH_VALOR'}, inplace=True)\n",
        "\n",
        "    # Eliminar la columna CLAVE_MUNICIPIO del merge\n",
        "\n",
        "    df_con_idh.drop(columns=['CLAVE_MUNICIPIO'], inplace=True)\n",
        "\n",
        "    # Número de registros antes de eliminar\n",
        "\n",
        "    registros_antes = len(df_con_idh)\n",
        "    print(f\"Número de registros antes de eliminar NaN en IDH_VALOR: {registros_antes}\")\n",
        "\n",
        "    # Revisar los registros que resultaron en NaN\n",
        "\n",
        "    claves_nan = df_con_idh[df_con_idh['IDH_VALOR'].isna()]['CLAVE_RES']\n",
        "    print(\"Claves RES sin IDH_VALOR asignado:\")\n",
        "    print(claves_nan)\n",
        "\n",
        "    if not claves_nan.empty:\n",
        "        # Verificar claves problemáticas en el archivo IDH\n",
        "        claves_en_idh = idh_datos[idh_datos['CLAVE_MUNICIPIO'].isin(claves_nan)]\n",
        "        print(\"Claves presentes en el archivo de IDH:\")\n",
        "        print(claves_en_idh)\n",
        "\n",
        "    # Eliminar registros que tienen NaN en IDH_VALOR\n",
        "\n",
        "    df_con_idh = df_con_idh.dropna(subset=['IDH_VALOR'])\n",
        "\n",
        "    # Número de registros después de eliminar\n",
        "\n",
        "    registros_despues = len(df_con_idh)\n",
        "    print(f\"Número de registros después de eliminar NaN en IDH_VALOR: {registros_despues}\")\n",
        "\n",
        "    # Verificar si hay algún NaN en la columna IDH_VALOR\n",
        "\n",
        "    if df_con_idh['IDH_VALOR'].isna().sum() == 0:\n",
        "        print(\"Todos los registros en el dataframe tienen valores en IDH_VALOR.\")\n",
        "    else:\n",
        "        print(\"Algunos registros todavía tienen NaN en IDH_VALOR.\")\n",
        "\n",
        "    return df_con_idh"
      ],
      "metadata": {
        "id": "exYvcIF44QsQ"
      },
      "execution_count": null,
      "outputs": []
    },
    {
      "cell_type": "code",
      "source": [
        "def confirmar_no_nulos(df):\n",
        "\n",
        "    registros_antes = len(df)\n",
        "    print(f\"Registros antes de eliminar NaN: {registros_antes}\")\n",
        "\n",
        "    df = df.dropna(subset=['IDH_VALOR'])\n",
        "\n",
        "    registros_despues = len(df)\n",
        "    print(f\"Registros después de eliminar NaN: {registros_despues}\")\n",
        "\n",
        "    return df"
      ],
      "metadata": {
        "id": "mg7YDqfq4s25"
      },
      "execution_count": null,
      "outputs": []
    },
    {
      "cell_type": "markdown",
      "source": [
        "Posteriormente, se crearon rangos para este valor, cuyas variables son:\n",
        "\n",
        "*   **IDH_MUY_BAJO** Intervalo de [0, 0.7)\n",
        "*   **IDH_BAJO** Intervalo de [0.7, 0.75)\n",
        "*   **IDH_MEDIO** Intervalo de [0.75, 0.8)\n",
        "*   **IDH_MED_ALTO** Intervalo de [0.8, 0.825)\n",
        "*   **IDH_ALTO** Intervalo de [0.825, 0.85)\n",
        "*   **IDH_MUY_ALTO** Intervalo de [0.85, 1]"
      ],
      "metadata": {
        "id": "hUciR-uS4FGK"
      }
    },
    {
      "cell_type": "markdown",
      "source": [],
      "metadata": {
        "id": "8PLfMQ_2UG2O"
      }
    },
    {
      "cell_type": "code",
      "source": [
        "def asignar_rango_idh(df):\n",
        "\n",
        "    # Convertir la columna a tipo numérico\n",
        "\n",
        "    df['IDH_VALOR'] = pd.to_numeric(df['IDH_VALOR'], errors='coerce')\n",
        "\n",
        "    # Definir los rangos de IDH\n",
        "\n",
        "    df['IDH_MUY_BAJO'] = (df['IDH_VALOR'] >= 0) & (df['IDH_VALOR'] < 0.7)\n",
        "    df['IDH_BAJO'] = (df['IDH_VALOR'] >= 0.7) & (df['IDH_VALOR'] < 0.75)\n",
        "    df['IDH_MEDIO'] = (df['IDH_VALOR'] >= 0.75) & (df['IDH_VALOR'] < 0.8)\n",
        "    df['IDH_MED_ALTO'] = (df['IDH_VALOR'] >= 0.8) & (df['IDH_VALOR'] < 0.825)\n",
        "    df['IDH_ALTO'] = (df['IDH_VALOR'] >= 0.825) & (df['IDH_VALOR'] < 0.85)\n",
        "    df['IDH_MUY_ALTO'] = (df['IDH_VALOR'] >= 0.85) & (df['IDH_VALOR'] <= 1)\n",
        "\n",
        "    # Convertir los booleanos a enteros\n",
        "\n",
        "    df['IDH_MUY_BAJO'] = df['IDH_MUY_BAJO'].astype(int)\n",
        "    df['IDH_BAJO'] = df['IDH_BAJO'].astype(int)\n",
        "    df['IDH_MEDIO'] = df['IDH_MEDIO'].astype(int)\n",
        "    df['IDH_MED_ALTO'] = df['IDH_MED_ALTO'].astype(int)\n",
        "    df['IDH_ALTO'] = df['IDH_ALTO'].astype(int)\n",
        "    df['IDH_MUY_ALTO'] = df['IDH_MUY_ALTO'].astype(int)\n",
        "\n",
        "    return df"
      ],
      "metadata": {
        "id": "mgYV1M3t41ZZ"
      },
      "execution_count": null,
      "outputs": []
    },
    {
      "cell_type": "markdown",
      "source": [
        "**3.3. Creación de variables por sector de salud**\n",
        "\n",
        "Se agruparon las unidades médicas de atención por demanda en las variables:\n",
        "\n",
        "*   **UM_IMSS**\n",
        "*   **UM_ISSTE**\n",
        "*   **UM_MILITAR** Incluye a las UMs de SEMAR y SEDENA\n",
        "*   **UM_PRIVADA** Intervalo de [0.8, 0.825)\n",
        "*   **UM_SSA** Intervalo de [0.825, 0.85)\n",
        "*   **UM_OTRAS** Incluye a las UMs con menor incidencia: PEMEX, IMSS Bienestar (no incluída en UM_IMSS por ser el antiguo Seguro Popular), Hospital Estatal, Hospital Municipal, Cruz Roja, Hospital Universitario y DIF\n",
        "\n"
      ],
      "metadata": {
        "id": "hxx-goaE4-iF"
      }
    },
    {
      "cell_type": "code",
      "source": [
        "def generar_variables_sector(df):\n",
        "\n",
        "    df['UM_IMSS'] = (df['SECTOR'] == 4).astype(int)\n",
        "    df['UM_ISSTE'] = (df['SECTOR'] == 6).astype(int)\n",
        "    df['UM_MILITAR'] = ((df['SECTOR'] == 10) | (df['SECTOR'] == 11)).astype(int)\n",
        "    df['UM_PRIVADA'] = (df['SECTOR'] == 9).astype(int)\n",
        "    df['UM_SSA'] = (df['SECTOR'] == 12).astype(int)\n",
        "    df['UM_OTRAS'] = ((df['SECTOR'] == 1) | (df['SECTOR'] == 2) |\n",
        "                      (df['SECTOR'] == 3) | (df['SECTOR'] == 5) |\n",
        "                      (df['SECTOR'] == 7) | (df['SECTOR'] == 8) |\n",
        "                      (df['SECTOR'] == 13)).astype(int)\n",
        "\n",
        "    return df"
      ],
      "metadata": {
        "id": "-68AibaK54IQ"
      },
      "execution_count": null,
      "outputs": []
    },
    {
      "cell_type": "markdown",
      "source": [
        "**3.4. Creación de la variable objetivo**\n",
        "\n",
        "La variable que buscaremos predecir será llamada **DEFUNCION**, la cual toma un valor de 1 cuando FECHA_DEF tiene cualquier otro valor que no sea '9999-99-99', ya que esto corresponde a la fecha del deceso de un paciente"
      ],
      "metadata": {
        "id": "FoePhXJy58Y8"
      }
    },
    {
      "cell_type": "code",
      "source": [
        "def generar_variable_defuncion(df):\n",
        "\n",
        "    df['DEFUNCION'] = (df['FECHA_DEF'] != '9999-99-99').astype(int)\n",
        "\n",
        "    return df"
      ],
      "metadata": {
        "id": "OEhlPS3x6fEn"
      },
      "execution_count": null,
      "outputs": []
    },
    {
      "cell_type": "markdown",
      "source": [
        "**3.5. Eliminación de variables en desuso**"
      ],
      "metadata": {
        "id": "0KiCTE6K6ylo"
      }
    },
    {
      "cell_type": "code",
      "source": [
        "def drop_final(df):\n",
        "\n",
        "    columnas_a_eliminar = ['ENTIDAD_RES', 'MUNICIPIO_RES', 'EDAD', 'SECTOR', 'FECHA_DEF']\n",
        "\n",
        "    # Eliminar las columnas\n",
        "    df = df.drop(columns=columnas_a_eliminar, errors='ignore')\n",
        "\n",
        "    return df"
      ],
      "metadata": {
        "id": "ZubsFy7G64OZ"
      },
      "execution_count": null,
      "outputs": []
    },
    {
      "cell_type": "markdown",
      "source": [
        "3.6. Binarización de variables\n",
        "\n",
        "Con el fin de preparar las bases para la entrada a los modelos, las variables se binarizaron de la siguiente forma:\n",
        "\n",
        "*  **SEXO**: 1 (mujer) 0 (no mujer)\n",
        "*  **TIPO_PACIENTE**: 1 (no hospitalizado) 0 (hospitalizado)\n",
        "*  **INTUBADO**: 1 (si) 0 (no)\n",
        "*  **NEUMONIA**: 1 (si) 0 (no)\n",
        "*  **DIABETES**: 1 (si) 0 (no)\n",
        "*  **EPOC**: 1 (si) 0 (no)\n",
        "*  **ASMA**: 1 (si) 0 (no)\n",
        "*  **INMUSUPR**: 1 (si) 0 (no)\n",
        "*  **HIPERTENSION**: 1 (si) 0 (no)\n",
        "*  **CARDIOVASCULAR**: 1 (si) 0 (no)\n",
        "*  **OBESIDAD**: 1 (si) 0 (no)\n",
        "*  **RENAL_CRONICA**: 1 (si) 0 (no)\n",
        "*  **TABAQUISMO**: 1 (si) 0 (no)\n",
        "*  **OTRO_CASO**: 1 (si) 0 (no)\n",
        "*  **UCI**: 1 (si) 0 (no)"
      ],
      "metadata": {
        "id": "OfM5ZwVk7ON-"
      }
    },
    {
      "cell_type": "code",
      "source": [
        "def binarizar_variables(df):\n",
        "\n",
        "    var_a_binarizar = [\n",
        "        'SEXO', 'TIPO_PACIENTE', 'INTUBADO', 'NEUMONIA', 'DIABETES',\n",
        "        'EPOC', 'ASMA', 'INMUSUPR', 'HIPERTENSION', 'CARDIOVASCULAR',\n",
        "        'OBESIDAD', 'RENAL_CRONICA', 'TABAQUISMO', 'OTRO_CASO', 'UCI'\n",
        "    ]\n",
        "\n",
        "    df[var_a_binarizar] = df[var_a_binarizar].replace(2, 0).astype(int)\n",
        "\n",
        "    return df"
      ],
      "metadata": {
        "id": "j1hLmHTn74lh"
      },
      "execution_count": null,
      "outputs": []
    },
    {
      "cell_type": "markdown",
      "source": [
        "Ejemplo de uso"
      ],
      "metadata": {
        "id": "zqisel017_PV"
      }
    },
    {
      "cell_type": "code",
      "source": [
        "# 1. Rangos de edad\n",
        "df_ingenieria_var = agregar_variables_edad (db2023_positivos_reducida)\n",
        "\n",
        "# 2. Generar claves de residencia\n",
        "df_con_claves = generar_clave_res (df_ingenieria_var)\n",
        "\n",
        "# 3. IDH por entidad\n",
        "idh_datos = pd.read_excel ('Resultados_IDH.xlsx', names=['CLAVE_MUNICIPIO', 'IDH_2020'], skiprows=0)\n",
        "df_idh_val = agregar_idh_valor (df_con_claves, idh_datos)\n",
        "\n",
        "# 4. Rangos de IDH\n",
        "df_idh_rango = asignar_rango_idh (df_idh_val)\n",
        "\n",
        "# 5. Variables de sector de atención\n",
        "df_sector = generar_variables_sector (df_idh_rango)\n",
        "\n",
        "# 6. Variable objetivo\n",
        "df_defuncion = generar_variable_defuncion (df_sector)\n",
        "\n",
        "# 7. Drop de siguientes variables en desuso\n",
        "df_drop = drop_final (df_defuncion)\n",
        "\n",
        "# 8. Binarización\n",
        "df_binarizada = binarizar_variables (df_drop)\n",
        "\n",
        "# 9. No-nulidad en IDH\n",
        "df_idh_no_nulo = confirmar_no_nulos (df_binarizada)\n",
        "\n",
        "# df_idh_no_nulo es el df resultante de la ingeniería de características"
      ],
      "metadata": {
        "id": "Y7eH7CyV8ELX"
      },
      "execution_count": null,
      "outputs": []
    },
    {
      "cell_type": "markdown",
      "source": [
        "# **Delimitación por olas y etapas de vacunación**\n",
        "\n",
        "\n",
        "La inclusión de pacientes en estos periodos temporales se hizo en referencia a la variable **FECHA_SINTOMAS**.\n",
        "\n",
        "Se utilizó información oficial proporcionada por la Secretaría de Salud para la delimitación por olas según la fecha\n",
        "https://epidemiologia.salud.gob.mx/gobmx/salud/documentos/covid19/Info-04-23-Int_COVID-19.pdf  \n",
        "Archivo más reciente subido en febrero de 2024 a la página:\n",
        "https://coronavirus.gob.mx/analisis-situacional-de-la-epidemia-en-mexico/\n",
        "\n",
        "*  1ª ola: SE 8 a SE 39 de 2020 (16 de febrero a 26 de septiembre de 2020)\n",
        "*  2ª ola: SE 40 de 2020 a SE 15 de 2021 (27 de septiembre de 2020 a 17 de abril de 2021)\n",
        "*  3ª ola: SE 23 a SE 42 de 2021 (6 de junio a 23 de octubre de 2021)\n",
        "*  4ª ola: SE 51 de 2021 a la SE 9 de 2022 (19 de diciembre de 2021 a 5 de marzo de 2022)\n",
        "*  5ª ola COVID-19: SE 22 de 2022 a la SE 33 de 2022 (29 de mayo a 20 de agosto de 2022)\n",
        "*  6ª ola COVID-19: SE 49 de 2022 a la SE 4 de 2023 (4 de diciembre de 2022 a 28 de enero de 2023)\n",
        "\n",
        "(SE: Semana Epidemiológica)\n",
        "\n",
        "No se encuentra información oficial sobre la existencia de olas posteriores."
      ],
      "metadata": {
        "id": "IlmqSPYS8oFL"
      }
    },
    {
      "cell_type": "markdown",
      "source": [
        "**Por olas**"
      ],
      "metadata": {
        "id": "UmjAOlXD9qqh"
      }
    },
    {
      "cell_type": "code",
      "source": [
        "# Fechas de inicio/fin de cada ola\n",
        "\n",
        "ola_1_inicio = '2020-02-16'\n",
        "ola_1_fin = '2020-09-26'\n",
        "\n",
        "ola_2_inicio = '2020-09-27'\n",
        "ola_2_fin = '2021-04-17'\n",
        "\n",
        "ola_3_inicio = '2021-06-06'\n",
        "ola_3_fin = '2021-10-23'\n",
        "\n",
        "ola_4_inicio = '2021-12-19'\n",
        "ola_4_fin = '2022-03-05'\n",
        "\n",
        "ola_5_inicio = '2022-05-29'\n",
        "ola_5_fin = '2022-08-20'\n",
        "\n",
        "ola_6_inicio = '2022-12-04'\n",
        "ola_6_fin = '2023-01-28'\n",
        "\n",
        "# División por olas (algunas requieren unir dos bd anuales distintas)\n",
        "\n",
        "ola_1 = db2020[(db2020['FECHA_SINTOMAS'] >= ola_1_inicio) & (db2020['FECHA_SINTOMAS'] <= ola_1_fin)]\n",
        "\n",
        "ola_2_db_1 = db2020[(db2020['FECHA_SINTOMAS'] >= ola_2_inicio)]\n",
        "ola_2_db_2 = db2021[(db2021['FECHA_SINTOMAS'] <= ola_2_fin)]\n",
        "ola_2 = pd.concat([ola_2_db_1, ola_2_db_2])\n",
        "\n",
        "ola_3 = db2021[(db2021['FECHA_SINTOMAS'] >= ola_3_inicio) & (db2021['FECHA_SINTOMAS'] <= ola_3_fin)]\n",
        "\n",
        "ola_4_db_1 = db2021[(db2021['FECHA_SINTOMAS'] >= ola_4_inicio)]\n",
        "ola_4_db_2 = db2022[(db2022['FECHA_SINTOMAS'] <= ola_4_fin)]\n",
        "ola_4 = pd.concat([ola_4_db_1, ola_4_db_2])\n",
        "\n",
        "ola_5 = db2022[(db2022['FECHA_SINTOMAS'] >= ola_5_inicio) & (db2022['FECHA_SINTOMAS'] <= ola_5_fin)]\n",
        "\n",
        "ola_6_db_1 = db2022[(db2022['FECHA_SINTOMAS'] >= ola_6_inicio)]\n",
        "ola_6_db_2 = db2023[(db2023['FECHA_SINTOMAS'] <= ola_6_fin)]\n",
        "ola_6 = pd.concat([ola_4_db_1, ola_4_db_2])"
      ],
      "metadata": {
        "id": "qr_M2fHt9fJY"
      },
      "execution_count": null,
      "outputs": []
    },
    {
      "cell_type": "markdown",
      "source": [
        "**Por etapas de vacunación**"
      ],
      "metadata": {
        "id": "3TxX4Rov9nEz"
      }
    },
    {
      "cell_type": "code",
      "source": [
        "# Fechas de inicio/fin de cada etapa\n",
        "\n",
        "etapa_1_inicio = '2020-12-24'\n",
        "etapa_1_fin = '2021-02-14'\n",
        "\n",
        "etapa_2_inicio = '2021-02-15'\n",
        "etapa_2_fin = '2021-05-15'\n",
        "\n",
        "etapa_3_inicio = '2021-05-16'\n",
        "etapa_3_fin = '2021-06-15'\n",
        "\n",
        "etapa_4_inicio = '2021-06-16'\n",
        "etapa_4_fin = '2021-07-15'\n",
        "\n",
        "etapa_5_inicio = '2021-07-16'\n",
        "etapa_5_fin = '2022-03-31'\n",
        "\n",
        "# División por etapas (algunas requieren unir dos bd anuales distintas)\n",
        "\n",
        "etapa_1_db_1 = db2020[(db2020['FECHA_SINTOMAS'] >= etapa_1_inicio)]\n",
        "etapa_1_db_2 = db2021[(db2021['FECHA_SINTOMAS'] <= etapa_1_fin)]\n",
        "etapa_1 = pd.concat([etapa_1_db_1, etapa_1_db_2])\n",
        "\n",
        "etapa_2 = db2021[(db2021['FECHA_SINTOMAS'] >= etapa_2_inicio) & (db2021['FECHA_SINTOMAS'] <= etapa_2_fin)]\n",
        "\n",
        "etapa_3 = db2021[(db2021['FECHA_SINTOMAS'] >= etapa_3_inicio) & (db2021['FECHA_SINTOMAS'] <= etapa_3_fin)]\n",
        "\n",
        "etapa_4 = db2021[(db2021['FECHA_SINTOMAS'] >= etapa_4_inicio) & (db2021['FECHA_SINTOMAS'] <= etapa_4_fin)]\n",
        "\n",
        "etapa_5_db_1 = db2021[(db2021['FECHA_SINTOMAS'] >= etapa_5_inicio)]\n",
        "etapa_5_db_2 = db2022[(db2022['FECHA_SINTOMAS'] <= etapa_5_fin)]\n",
        "etapa_5 = pd.concat([etapa_5_db_1, etapa_5_db_2])"
      ],
      "metadata": {
        "id": "auszBis59uLy"
      },
      "execution_count": null,
      "outputs": []
    }
  ]
}
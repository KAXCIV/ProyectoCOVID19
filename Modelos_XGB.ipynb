{
  "nbformat": 4,
  "nbformat_minor": 0,
  "metadata": {
    "colab": {
      "provenance": []
    },
    "kernelspec": {
      "name": "python3",
      "display_name": "Python 3"
    },
    "language_info": {
      "name": "python"
    }
  },
  "cells": [
    {
      "cell_type": "code",
      "execution_count": null,
      "metadata": {
        "id": "3LRvNI3OHVAf"
      },
      "outputs": [],
      "source": [
        "import pandas as pd\n",
        "import xgboost as xgb\n",
        "from sklearn.model_selection import train_test_split, StratifiedKFold, GridSearchCV\n",
        "from sklearn.metrics import classification_report, confusion_matrix, roc_auc_score, roc_curve, auc\n",
        "from sklearn.utils import resample\n",
        "import matplotlib.pyplot as plt\n",
        "from imblearn.over_sampling import SMOTE\n",
        "from imblearn.under_sampling import RandomUnderSampler\n",
        "from imblearn.combine import SMOTEENN\n",
        "import joblib\n",
        "import shap"
      ]
    },
    {
      "cell_type": "markdown",
      "source": [
        "# **Modelo sin balance de clases**"
      ],
      "metadata": {
        "id": "DvvB3JWSIZzC"
      }
    },
    {
      "cell_type": "code",
      "source": [
        "df = pd.read_csv('ARCHIVO.csv')"
      ],
      "metadata": {
        "id": "I4z0YwD6Hmsh"
      },
      "execution_count": null,
      "outputs": []
    },
    {
      "cell_type": "code",
      "source": [
        "# Revisar la distribución de la variable objetivo\n",
        "\n",
        "print(df['DEFUNCION'].value_counts())"
      ],
      "metadata": {
        "id": "7FyIZ-wVKRqD"
      },
      "execution_count": null,
      "outputs": []
    },
    {
      "cell_type": "code",
      "source": [
        "# Variables que no ingresan al modelo\n",
        "\n",
        "variables_no_utilizadas = ['FECHA_SINTOMAS', 'IDH_VALOR']\n",
        "df = df.drop(columns=variables_no_utilizadas)\n",
        "\n",
        "print(df.head())"
      ],
      "metadata": {
        "id": "GeTdolxtHwId"
      },
      "execution_count": null,
      "outputs": []
    },
    {
      "cell_type": "code",
      "source": [
        "# Separar las características (X) de la variable objetivo (y)\n",
        "\n",
        "X = df.drop('DEFUNCION', axis=1)\n",
        "y = df['DEFUNCION']\n",
        "\n",
        "# Dividir en conjuntos de entrenamiento y prueba con estratificación\n",
        "\n",
        "X_train, X_test, y_train, y_test = train_test_split(X, y, test_size=0.3, random_state=42, stratify=y)"
      ],
      "metadata": {
        "id": "InevAgjHIg1d"
      },
      "execution_count": null,
      "outputs": []
    },
    {
      "cell_type": "code",
      "source": [
        "# Determinar el peso de las clases\n",
        "\n",
        "ratio = y_train.value_counts()[0] / y_train.value_counts()[1]\n",
        "\n",
        "# Configuración del modelo XGBoost\n",
        "\n",
        "model = xgb.XGBClassifier(\n",
        "    objective='binary:logistic',\n",
        "    scale_pos_weight=5, # Se probó: ratio, 15, 8, 3\n",
        "    eval_metric='auc', # Se probó: logloss, auc, error\n",
        "    use_label_encoder=False\n",
        ")"
      ],
      "metadata": {
        "id": "zEg26yL4Im_q"
      },
      "execution_count": null,
      "outputs": []
    },
    {
      "cell_type": "code",
      "source": [
        "# Entrenar el modelo\n",
        "\n",
        "model.fit(X_train, y_train)"
      ],
      "metadata": {
        "id": "kgf79kDUItMI"
      },
      "execution_count": null,
      "outputs": []
    },
    {
      "cell_type": "code",
      "source": [
        "# Hacer predicciones\n",
        "\n",
        "y_pred = model.predict(X_test)"
      ],
      "metadata": {
        "id": "yY31A2ogJCBQ"
      },
      "execution_count": null,
      "outputs": []
    },
    {
      "cell_type": "markdown",
      "source": [
        "Evaluación"
      ],
      "metadata": {
        "id": "-aJdtOXqJTJB"
      }
    },
    {
      "cell_type": "code",
      "source": [
        "# Imprimir el reporte de clasificación y la matriz de confusión\n",
        "\n",
        "print(classification_report(y_test, y_pred))\n",
        "print(confusion_matrix(y_test, y_pred))"
      ],
      "metadata": {
        "id": "YyPRAjqYJMbm"
      },
      "execution_count": null,
      "outputs": []
    },
    {
      "cell_type": "code",
      "source": [
        "# Predicción de probabilidades\n",
        "\n",
        "y_pred_proba = model.predict_proba(X_test)[:, 1]"
      ],
      "metadata": {
        "id": "RVhXtKO4JODg"
      },
      "execution_count": null,
      "outputs": []
    },
    {
      "cell_type": "code",
      "source": [
        "# Calcular AUC-ROC\n",
        "\n",
        "auc_roc = roc_auc_score(y_test, y_pred_proba)\n",
        "print(f\"AUC-ROC: {auc_roc:.4f}\")\n",
        "\n",
        "# Obtener las tasas de verdaderos positivos y falsos positivos para varios umbrales\n",
        "\n",
        "fpr, tpr, thresholds = roc_curve(y_test, y_pred_proba)\n",
        "\n",
        "# Graficar la curva ROC\n",
        "\n",
        "plt.figure(figsize=(8, 6))\n",
        "plt.plot(fpr, tpr, color='blue', label=f'AUC-ROC = {auc_roc:.4f}')\n",
        "plt.plot([0, 1], [0, 1], color='red', linestyle='--')\n",
        "plt.xlabel('False Positive Rate')\n",
        "plt.ylabel('True Positive Rate')\n",
        "plt.title('Receiver Operating Characteristic (ROC) Curve')\n",
        "plt.legend(loc='lower right')\n",
        "plt.show()"
      ],
      "metadata": {
        "id": "VGJ8tHz3JZG7"
      },
      "execution_count": null,
      "outputs": []
    },
    {
      "cell_type": "markdown",
      "source": [
        "# **Modelo con sobremuestreo**"
      ],
      "metadata": {
        "id": "aVgK7qNRJuzk"
      }
    },
    {
      "cell_type": "code",
      "source": [
        "df = pd.read_csv('ARCHIVO.csv')"
      ],
      "metadata": {
        "id": "b78gvU_HKkth"
      },
      "execution_count": null,
      "outputs": []
    },
    {
      "cell_type": "code",
      "source": [
        "# Revisar la distribución de la variable objetivo\n",
        "\n",
        "print(df['DEFUNCION'].value_counts())"
      ],
      "metadata": {
        "id": "Qz3VC3VFKkti"
      },
      "execution_count": null,
      "outputs": []
    },
    {
      "cell_type": "code",
      "source": [
        "# Variables que no ingresan al modelo\n",
        "\n",
        "variables_no_utilizadas = ['FECHA_SINTOMAS', 'IDH_VALOR']\n",
        "df = df.drop(columns=variables_no_utilizadas)\n",
        "\n",
        "print(df.head())"
      ],
      "metadata": {
        "id": "n4b78oYTKkti"
      },
      "execution_count": null,
      "outputs": []
    },
    {
      "cell_type": "code",
      "source": [
        "# Separar las características (X) de la variable objetivo (y)\n",
        "\n",
        "X = df.drop('DEFUNCION', axis=1)\n",
        "y = df['DEFUNCION']"
      ],
      "metadata": {
        "id": "gvDJF_2bKr82"
      },
      "execution_count": null,
      "outputs": []
    },
    {
      "cell_type": "code",
      "source": [
        "# Dividir en conjuntos de entrenamiento y prueba con estratificación\n",
        "\n",
        "X_train, X_test, y_train, y_test = train_test_split(X, y, test_size=0.3, random_state=42, stratify=y)"
      ],
      "metadata": {
        "id": "4PJ82vE6K4LU"
      },
      "execution_count": null,
      "outputs": []
    },
    {
      "cell_type": "code",
      "source": [
        "# SMOTE para sobremuestrear DEFUNCION\n",
        "\n",
        "smote = SMOTE(random_state=42)\n",
        "X_resampled, y_resampled = smote.fit_resample(X_train, y_train)"
      ],
      "metadata": {
        "id": "3rutPa3eK5zE"
      },
      "execution_count": null,
      "outputs": []
    },
    {
      "cell_type": "code",
      "source": [
        "# Revisar la nueva distribución de clases después de SMOTE\n",
        "\n",
        "print(f\"Distribución después de SMOTE:\\n{y_resampled.value_counts()}\")"
      ],
      "metadata": {
        "id": "LNdjzy-5LBEK"
      },
      "execution_count": null,
      "outputs": []
    },
    {
      "cell_type": "code",
      "source": [
        "# Configuración del modelo\n",
        "\n",
        "model = xgb.XGBClassifier(\n",
        "    objective='binary:logistic',\n",
        "    eval_metric='auc',\n",
        "    use_label_encoder=False,\n",
        "    scale_pos_weight=1\n",
        ")"
      ],
      "metadata": {
        "id": "LGI0_egDLEr4"
      },
      "execution_count": null,
      "outputs": []
    },
    {
      "cell_type": "code",
      "source": [
        "# Entrenar el modelo con el conjunto resampleado\n",
        "\n",
        "model.fit(X_resampled, y_resampled)"
      ],
      "metadata": {
        "id": "kJ5JJRdeLKJ9"
      },
      "execution_count": null,
      "outputs": []
    },
    {
      "cell_type": "code",
      "source": [
        "# Hacer predicciones\n",
        "\n",
        "y_pred = model.predict(X_test)\n",
        "y_pred_proba = model.predict_proba(X_test)[:, 1]"
      ],
      "metadata": {
        "id": "1-yrEtv7LTYF"
      },
      "execution_count": null,
      "outputs": []
    },
    {
      "cell_type": "markdown",
      "source": [
        "Evaluación"
      ],
      "metadata": {
        "id": "RT87ouZzLa7S"
      }
    },
    {
      "cell_type": "code",
      "source": [
        "# Imprimir el reporte de clasificación y la matriz de confusión\n",
        "\n",
        "print(classification_report(y_test, y_pred))\n",
        "print(confusion_matrix(y_test, y_pred))"
      ],
      "metadata": {
        "id": "SZrZrjYXLdYr"
      },
      "execution_count": null,
      "outputs": []
    },
    {
      "cell_type": "code",
      "source": [
        "# Calcular y graficar AUC-ROC\n",
        "\n",
        "auc_roc = roc_auc_score(y_test, y_pred_proba)\n",
        "print(f\"AUC-ROC: {auc_roc:.4f}\")\n",
        "\n",
        "fpr, tpr, _ = roc_curve(y_test, y_pred_proba)\n",
        "plt.figure(figsize=(8, 6))\n",
        "plt.plot(fpr, tpr, color='blue', label=f'AUC-ROC = {auc_roc:.4f}')\n",
        "plt.plot([0, 1], [0, 1], color='red', linestyle='--')\n",
        "plt.xlabel('False Positive Rate')\n",
        "plt.ylabel('True Positive Rate')\n",
        "plt.title('Receiver Operating Characteristic (ROC) Curve')\n",
        "plt.legend(loc='lower right')\n",
        "plt.show()"
      ],
      "metadata": {
        "id": "7hSa4yweLnQW"
      },
      "execution_count": null,
      "outputs": []
    },
    {
      "cell_type": "markdown",
      "source": [
        "# **Modelo con submuestreo**"
      ],
      "metadata": {
        "id": "QrG9TTNNLtvZ"
      }
    },
    {
      "cell_type": "code",
      "source": [
        "df = pd.read_csv('ARCHIVO.csv')"
      ],
      "metadata": {
        "id": "qT7oszLTL6eT"
      },
      "execution_count": null,
      "outputs": []
    },
    {
      "cell_type": "code",
      "source": [
        "# Revisar la distribución de la variable objetivo\n",
        "\n",
        "print(df['DEFUNCION'].value_counts())"
      ],
      "metadata": {
        "id": "V3QlorV6L6eU"
      },
      "execution_count": null,
      "outputs": []
    },
    {
      "cell_type": "code",
      "source": [
        "# Variables que no ingresan al modelo\n",
        "\n",
        "variables_no_utilizadas = ['FECHA_SINTOMAS', 'IDH_VALOR']\n",
        "df = df.drop(columns=variables_no_utilizadas)\n",
        "\n",
        "print(df.head())"
      ],
      "metadata": {
        "id": "f7Yt602jL6eU"
      },
      "execution_count": null,
      "outputs": []
    },
    {
      "cell_type": "code",
      "source": [
        "# Separar las características (X) de la variable objetivo (y)\n",
        "\n",
        "X = df.drop('DEFUNCION', axis=1)\n",
        "y = df['DEFUNCION']"
      ],
      "metadata": {
        "id": "3VfVWoJ9M5-m"
      },
      "execution_count": null,
      "outputs": []
    },
    {
      "cell_type": "code",
      "source": [
        "# Dividir en conjuntos de entrenamiento y prueba con estratificación\n",
        "\n",
        "X_train, X_test, y_train, y_test = train_test_split(X, y, test_size=0.3, random_state=42, stratify=y)"
      ],
      "metadata": {
        "id": "r6SDJw3rM8HZ"
      },
      "execution_count": null,
      "outputs": []
    },
    {
      "cell_type": "code",
      "source": [
        "# Aplicar submuestreo para balancear al 66%-33%\n",
        "\n",
        "under_sampler = RandomUnderSampler(sampling_strategy=0.33, random_state=42)\n",
        "X_under, y_under = under_sampler.fit_resample(X_train, y_train)"
      ],
      "metadata": {
        "id": "1D1yNHqnNDGi"
      },
      "execution_count": null,
      "outputs": []
    },
    {
      "cell_type": "code",
      "source": [
        "# Revisar la nueva distribución de clases después del submuestreo\n",
        "\n",
        "print(f\"Distribución después del submuestreo:\\n{y_under.value_counts()}\")"
      ],
      "metadata": {
        "id": "BgLtppSpNIYc"
      },
      "execution_count": null,
      "outputs": []
    },
    {
      "cell_type": "code",
      "source": [
        "# Configuración del modelo XGBoost\n",
        "\n",
        "model = xgb.XGBClassifier (\n",
        "    objective='binary:logistic',\n",
        "    learning_rate=0.01,\n",
        "    max_depth=4,\n",
        "    eval_metric='auc',\n",
        "    min_child_weight=5,\n",
        "    scale_pos_weight=2,\n",
        "    gamma=1, # La regularización fue añadida por primera vez en el 7mo modelo\n",
        "    subsample=0.8, # 7mo modelo\n",
        "    colsample_bytree=0.8,\n",
        "    use_label_encoder=False\n",
        ")"
      ],
      "metadata": {
        "id": "XWnqUVtpNTpR"
      },
      "execution_count": null,
      "outputs": []
    },
    {
      "cell_type": "code",
      "source": [
        "# Entrenar el modelo con parámetros manuales\n",
        "\n",
        "model.fit(X_under, y_under)"
      ],
      "metadata": {
        "id": "kKcyniznNnUB"
      },
      "execution_count": null,
      "outputs": []
    },
    {
      "cell_type": "code",
      "source": [
        "# Hacer predicciones (manual)\n",
        "\n",
        "y_pred = model.predict(X_test)\n",
        "y_pred_proba = model.predict_proba(X_test)[:, 1]"
      ],
      "metadata": {
        "id": "ALoKrqZjNuGy"
      },
      "execution_count": null,
      "outputs": []
    },
    {
      "cell_type": "markdown",
      "source": [
        "Evaluación"
      ],
      "metadata": {
        "id": "b0HUhcc4N2Sx"
      }
    },
    {
      "cell_type": "code",
      "source": [
        "# Imprimir el reporte de clasificación y la matriz de confusión\n",
        "\n",
        "print(classification_report(y_test, y_pred))\n",
        "print(confusion_matrix(y_test, y_pred))"
      ],
      "metadata": {
        "id": "Xgc8IEl6N35g"
      },
      "execution_count": null,
      "outputs": []
    },
    {
      "cell_type": "code",
      "source": [
        "# Calcular y graficar AUC-ROC\n",
        "\n",
        "auc_roc = roc_auc_score(y_test, y_pred_proba)\n",
        "print(f\"AUC-ROC: {auc_roc:.4f}\")\n",
        "\n",
        "fpr, tpr, _ = roc_curve(y_test, y_pred_proba)\n",
        "plt.figure(figsize=(8, 6))\n",
        "plt.plot(fpr, tpr, color='blue', label=f'AUC-ROC = {auc_roc:.4f}')\n",
        "plt.plot([0, 1], [0, 1], color='red', linestyle='--')\n",
        "plt.xlabel('False Positive Rate')\n",
        "plt.ylabel('True Positive Rate')\n",
        "plt.title('Receiver Operating Characteristic (ROC) Curve')\n",
        "plt.legend(loc='lower right')\n",
        "plt.show()"
      ],
      "metadata": {
        "id": "SsJJ3qC2OB9I"
      },
      "execution_count": null,
      "outputs": []
    },
    {
      "cell_type": "markdown",
      "source": [
        "**Información adicional**\n",
        "\n",
        "En los modelos de sumbuestreo se intentó la búsqueda de hiperparámetros con grid search, éstas son las funciones:"
      ],
      "metadata": {
        "id": "XeVzalz7OG8H"
      }
    },
    {
      "cell_type": "code",
      "source": [
        "# Definir cuadrícula de hiperparámetros\n",
        "\n",
        " param_grid = {\n",
        "    'max_depth': [3, 5, 7],\n",
        "    'learning_rate': [0.01, 0.05, 0.1],\n",
        "    'min_child_weight': [1, 5, 10],\n",
        "    'n_estimators': [100, 200, 300],\n",
        "    'scale_pos_weight': [1, 3, 5]\n",
        "}"
      ],
      "metadata": {
        "id": "41lFRHDvOTZ9"
      },
      "execution_count": null,
      "outputs": []
    },
    {
      "cell_type": "code",
      "source": [
        "# Configurar la búsqueda exhaustiva\n",
        "\n",
        "grid_search = GridSearchCV(estimator=model, param_grid=param_grid, scoring='roc_auc', cv=3, verbose=2)"
      ],
      "metadata": {
        "id": "Bg9gxvFDOYWv"
      },
      "execution_count": null,
      "outputs": []
    },
    {
      "cell_type": "code",
      "source": [
        "# Aplicar la búsqueda con el conjunto resampleado\n",
        "\n",
        "grid_search.fit(X_under, y_under)"
      ],
      "metadata": {
        "id": "h4Db6qPYOcG8"
      },
      "execution_count": null,
      "outputs": []
    },
    {
      "cell_type": "code",
      "source": [
        "# Mejor combinación de hiperparámetros\n",
        "\n",
        "print(f\"Mejores parámetros: {grid_search.best_params_}\")"
      ],
      "metadata": {
        "id": "ew2dbix0OhVW"
      },
      "execution_count": null,
      "outputs": []
    },
    {
      "cell_type": "code",
      "source": [
        "# Entrenar el modelo con parámetros encontrados\n",
        "\n",
        "best_model = grid_search.best_estimator_\n",
        "best_model.fit(X_under, y_under)"
      ],
      "metadata": {
        "id": "gMic869IOqPy"
      },
      "execution_count": null,
      "outputs": []
    },
    {
      "cell_type": "code",
      "source": [
        "# Hacer predicciones (Grid Search)\n",
        "\n",
        "y_pred = best_model.predict(X_test)\n",
        "y_pred_proba = best_model.predict_proba(X_test)[:, 1]"
      ],
      "metadata": {
        "id": "N4OPVbT7OvgQ"
      },
      "execution_count": null,
      "outputs": []
    },
    {
      "cell_type": "markdown",
      "source": [
        "# **Modelo con divisiones previas (el mejor)**"
      ],
      "metadata": {
        "id": "ePx7wI5sOzTx"
      }
    },
    {
      "cell_type": "code",
      "source": [
        "df = pd.read_csv('ARCHIVO.csv')"
      ],
      "metadata": {
        "id": "PefH6VYbPKoo"
      },
      "execution_count": null,
      "outputs": []
    },
    {
      "cell_type": "code",
      "source": [
        "# Revisar la distribución de la variable objetivo\n",
        "\n",
        "print(df['DEFUNCION'].value_counts())"
      ],
      "metadata": {
        "id": "llXEEeAjPKou"
      },
      "execution_count": null,
      "outputs": []
    },
    {
      "cell_type": "code",
      "source": [
        "# Variables que no ingresan al modelo\n",
        "\n",
        "variables_no_utilizadas = ['FECHA_SINTOMAS', 'IDH_VALOR']\n",
        "df = df.drop(columns=variables_no_utilizadas)\n",
        "\n",
        "print(df.head())"
      ],
      "metadata": {
        "id": "tzXjjIsQPKou"
      },
      "execution_count": null,
      "outputs": []
    },
    {
      "cell_type": "code",
      "source": [
        "def balancear_datos(df, target_col='DEFUNCION'):\n",
        "    # Filtrar las clases\n",
        "    fallecidos = df[df[target_col] == 1]\n",
        "    sobrevivientes = df[df[target_col] == 0]\n",
        "\n",
        "    # Número de registros de fallecidos\n",
        "    num_fallecidos = len(fallecidos)\n",
        "\n",
        "    # Lista para almacenar las divisiones balanceadas\n",
        "    divisiones = []\n",
        "\n",
        "    # Generar divisiones con balance cercano al 50/50\n",
        "    while len(sobrevivientes) >= num_fallecidos:\n",
        "        # Muestrear aleatoriamente sobrevivientes sin reemplazo\n",
        "        sobrevivientes_muestra = resample(sobrevivientes,\n",
        "                                          replace=False,\n",
        "                                          n_samples=num_fallecidos,\n",
        "                                          random_state=42)\n",
        "\n",
        "        # Crear un nuevo DataFrame balanceado\n",
        "        df_balanceado = pd.concat([fallecidos, sobrevivientes_muestra])\n",
        "\n",
        "        # Agregar la división a la lista\n",
        "        divisiones.append(df_balanceado)\n",
        "\n",
        "        # Eliminar la muestra seleccionada de los sobrevivientes originales\n",
        "        sobrevivientes = sobrevivientes.drop(sobrevivientes_muestra.index)\n",
        "\n",
        "    return divisiones\n",
        "\n",
        "# Aplicar la función al DataFrame\n",
        "divisiones_balanceadas = balancear_datos(df)\n",
        "\n",
        "# divisiones_balanceadas ahora contiene los DataFrames balanceados"
      ],
      "metadata": {
        "id": "m0_-Om1jPPzJ"
      },
      "execution_count": null,
      "outputs": []
    },
    {
      "cell_type": "code",
      "source": [
        "# Resumen de divisiones creadas\n",
        "\n",
        "for i, division in enumerate(divisiones_balanceadas):\n",
        "    print(f\"División {i + 1}: Fallecidos = {sum(division['DEFUNCION'] == 1)}, Sobrevivientes = {sum(division['DEFUNCION'] == 0)}\")"
      ],
      "metadata": {
        "id": "UDq99MFQPcvK"
      },
      "execution_count": null,
      "outputs": []
    },
    {
      "cell_type": "markdown",
      "source": [
        "Primera división"
      ],
      "metadata": {
        "id": "ACurx6DvPvTU"
      }
    },
    {
      "cell_type": "code",
      "source": [
        "random_seed = 196\n",
        "\n",
        "# Crear el modelo base\n",
        "\n",
        "model = xgb.XGBClassifier(objective='binary:logistic', random_state=random_seed)"
      ],
      "metadata": {
        "id": "cczRThYKPxFT"
      },
      "execution_count": null,
      "outputs": []
    },
    {
      "cell_type": "code",
      "source": [
        "# Definir los rangos de parámetros a optimizar para cada segmento\n",
        "\n",
        "# Segmento 1: max_depth y min_child_weight\n",
        "param_grid_1 = {\n",
        "    'max_depth': range(3, 16, 2),\n",
        "    'min_child_weight': range(1, 7, 1)\n",
        "}\n",
        "\n",
        "# Segmento 2: gamma\n",
        "param_grid_2 = {\n",
        "    'gamma': [i / 10.0 for i in range(0, 6)]\n",
        "}\n",
        "\n",
        "# Segmento 3: subsample y colsample_bytree\n",
        "param_grid_3 = {\n",
        "    'subsample': [i / 10.0 for i in range(1, 11)],\n",
        "    'colsample_bytree': [i / 10.0 for i in range(2, 11)]\n",
        "}\n",
        "\n",
        "# Segmento 4: reg_lambda y n_estimators\n",
        "param_grid_4 = {\n",
        "    'reg_lambda': [i / 10.0 for i in range(1, 11)],\n",
        "    'n_estimators': range(50, 501, 50)\n",
        "}\n",
        "\n",
        "# Lista con los mejores parámetros\n",
        "best_params = {}"
      ],
      "metadata": {
        "id": "z6bdFfbrP4X7"
      },
      "execution_count": null,
      "outputs": []
    },
    {
      "cell_type": "markdown",
      "source": [
        "Grid search para cada segmento de la primera división"
      ],
      "metadata": {
        "id": "FnwpZE_gQDOX"
      }
    },
    {
      "cell_type": "code",
      "source": [
        "# Separar características y la variable objetivo\n",
        "\n",
        "X = divisiones_balanceadas[0].drop('DEFUNCION', axis=1)\n",
        "y = divisiones_balanceadas[0]['DEFUNCION']\n",
        "\n",
        "# cross validation\n",
        "\n",
        "cv = StratifiedKFold(n_splits=2, shuffle=True, random_state=random_seed)\n",
        "\n",
        "for i, param_grid in enumerate([param_grid_1, param_grid_2, param_grid_3, param_grid_4], 1):\n",
        "    print(f\"Optimización del Segmento {i}: {list(param_grid.keys())}\")\n",
        "    grid_search = GridSearchCV(estimator=model, param_grid=param_grid, scoring='roc_auc',\n",
        "                               cv=cv, verbose=1, n_jobs=-1)\n",
        "    grid_search.fit(X, y)\n",
        "    print(f\"Mejores parámetros del Segmento {i}: {grid_search.best_params_}\\n\")\n",
        "\n",
        "    model.set_params(**grid_search.best_params_)\n",
        "    best_params.update(grid_search.best_params_)\n",
        "\n",
        "print(\"Mejores parámetros finales:\", best_params)"
      ],
      "metadata": {
        "id": "l2Qy0MRFP7lv"
      },
      "execution_count": null,
      "outputs": []
    },
    {
      "cell_type": "code",
      "source": [
        "# Partición entrenamiento-prueba con cross validation\n",
        "\n",
        "train_test_splits = []\n",
        "\n",
        "for i, division in enumerate(divisiones_balanceadas):\n",
        "    X = division.drop('DEFUNCION', axis=1)\n",
        "    y = division['DEFUNCION']\n",
        "\n",
        "    X_train, X_test, y_train, y_test = train_test_split(X, y, test_size=0.2, random_state=random_seed, stratify=y)\n",
        "\n",
        "    train_test_splits.append({\n",
        "        'X_train': X_train,\n",
        "        'X_test': X_test,\n",
        "        'y_train': y_train,\n",
        "        'y_test': y_test\n",
        "    })\n",
        "\n",
        "    print(f\"División {i + 1}:\")\n",
        "    print(f\"Tamaño del conjunto de entrenamiento: {X_train.shape[0]}\")\n",
        "    print(f\"Tamaño del conjunto de prueba: {X_test.shape[0]}\")\n",
        "    print(\"\\n\")\n",
        "\n",
        "cv = StratifiedKFold(n_splits=3, shuffle=True, random_state=random_seed)"
      ],
      "metadata": {
        "id": "DmyApQO3Qjsx"
      },
      "execution_count": null,
      "outputs": []
    },
    {
      "cell_type": "code",
      "source": [
        "X_train = train_test_splits[0]['X_train']\n",
        "y_train = train_test_splits[0]['y_train']\n",
        "X_test = train_test_splits[0]['X_test']\n",
        "y_test = train_test_splits[0]['y_test']"
      ],
      "metadata": {
        "id": "xAlIM0JJQ042"
      },
      "execution_count": null,
      "outputs": []
    },
    {
      "cell_type": "code",
      "source": [
        "# Entrenar con los mejores parámetros\n",
        "\n",
        "model.fit(X_train, y_train)\n",
        "\n",
        "# Mejores parámetros finales: {'max_depth': 3, 'min_child_weight': 5, 'gamma': 0.2,\n",
        "# 'colsample_bytree': 1.0, 'subsample': 0.9, 'n_estimators': 100, 'reg_lambda': 0.9}"
      ],
      "metadata": {
        "id": "vfEkFBPcQ3bT"
      },
      "execution_count": null,
      "outputs": []
    },
    {
      "cell_type": "code",
      "source": [
        "# Hacer predicciones\n",
        "\n",
        "y_pred = model.predict(X_test)\n",
        "y_pred_proba = model.predict_proba(X_test)[:, 1]"
      ],
      "metadata": {
        "id": "v60sJbbFRaoz"
      },
      "execution_count": null,
      "outputs": []
    },
    {
      "cell_type": "markdown",
      "source": [
        "Evaluación"
      ],
      "metadata": {
        "id": "fMJOZmQDQ_Zw"
      }
    },
    {
      "cell_type": "code",
      "source": [
        "# Informe de clasificación\n",
        "\n",
        "print(\"Classification Report:\")\n",
        "print(classification_report(y_test, y_pred))"
      ],
      "metadata": {
        "id": "d0hBMdHJRQIc"
      },
      "execution_count": null,
      "outputs": []
    },
    {
      "cell_type": "code",
      "source": [
        "# Matriz de confusión\n",
        "\n",
        "print(\"Confusion Matrix:\")\n",
        "print(confusion_matrix(y_test, y_pred))"
      ],
      "metadata": {
        "id": "PJOZvnc6Rk4v"
      },
      "execution_count": null,
      "outputs": []
    },
    {
      "cell_type": "code",
      "source": [
        "# Calcular y graficar AUC-ROC\n",
        "\n",
        "fpr, tpr, thresholds = roc_curve(y_test, y_pred_proba)\n",
        "roc_auc = auc(fpr, tpr)\n",
        "\n",
        "plt.figure(figsize=(8, 6))\n",
        "plt.plot(fpr, tpr, color='darkorange', lw=2, label=f'Curva ROC (AUC = {roc_auc:.2f})')\n",
        "plt.plot([0, 1], [0, 1], color='navy', lw=2, linestyle='--')\n",
        "plt.xlim([0.0, 1.0])\n",
        "plt.ylim([0.0, 1.05])\n",
        "plt.xlabel('Tasa de Falsos Positivos')\n",
        "plt.ylabel('Tasa de Verdaderos Positivos')\n",
        "plt.title('Curva ROC')\n",
        "plt.legend(loc='lower right')\n",
        "plt.show()"
      ],
      "metadata": {
        "id": "VUzZBCgzRrLd"
      },
      "execution_count": null,
      "outputs": []
    },
    {
      "cell_type": "markdown",
      "source": [
        "# **Interpretación de modelos con SHAP**"
      ],
      "metadata": {
        "id": "XNH665JFU6Hj"
      }
    },
    {
      "cell_type": "code",
      "source": [
        "shap.initjs()"
      ],
      "metadata": {
        "id": "VBkxFZkcVARW"
      },
      "execution_count": null,
      "outputs": []
    },
    {
      "cell_type": "code",
      "source": [
        "explainer = shap.Explainer(model)"
      ],
      "metadata": {
        "id": "rZNzJqLSVG6K"
      },
      "execution_count": null,
      "outputs": []
    },
    {
      "cell_type": "code",
      "source": [
        "shap_values = explainer(X)"
      ],
      "metadata": {
        "id": "8-O3NXmeVIp6"
      },
      "execution_count": null,
      "outputs": []
    },
    {
      "cell_type": "code",
      "source": [
        "# Gráfico de resumen (summary plot)\n",
        "\n",
        "shap.summary_plot(shap_values, X)"
      ],
      "metadata": {
        "id": "LOsE53ciVNX_"
      },
      "execution_count": null,
      "outputs": []
    },
    {
      "cell_type": "code",
      "source": [
        "# Gráfico de dependencia (Dependence Plot)\n",
        "\n",
        "shap.plots.scatter(shap_values[:, 'NEUMONIA'])"
      ],
      "metadata": {
        "id": "vyfN1u6fVcGr"
      },
      "execution_count": null,
      "outputs": []
    },
    {
      "cell_type": "code",
      "source": [
        "# Gráfico de fuerza (Force Plot)\n",
        "\n",
        "# Para una ocurrencia específica\n",
        "shap.force_plot(explainer.expected_value, shap_values[0].values, X.iloc[0,:])"
      ],
      "metadata": {
        "id": "0pCgMAVZVezC"
      },
      "execution_count": null,
      "outputs": []
    },
    {
      "cell_type": "code",
      "source": [
        "# Gráfico de valores SHAP (SHAP Values Plot)\n",
        "\n",
        "# Para la primera ocurrencia\n",
        "shap.waterfall_plot(shap_values[0])"
      ],
      "metadata": {
        "id": "3xAYeW_iVh0F"
      },
      "execution_count": null,
      "outputs": []
    }
  ]
}